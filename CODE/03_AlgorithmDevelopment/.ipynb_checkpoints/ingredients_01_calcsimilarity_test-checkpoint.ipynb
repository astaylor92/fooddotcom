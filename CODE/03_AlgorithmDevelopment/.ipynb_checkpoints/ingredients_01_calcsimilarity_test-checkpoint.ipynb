{
 "cells": [
  {
   "cell_type": "code",
   "execution_count": 1,
   "metadata": {},
   "outputs": [],
   "source": [
    "import pandas as pd\n",
    "import gensim\n",
    "from gensim.models import Word2Vec\n",
    "import re\n",
    "import numpy as np\n",
    "import statistics\n",
    "import math"
   ]
  },
  {
   "cell_type": "markdown",
   "metadata": {},
   "source": [
    "### Ingredient Similarity\n",
    "### Reading file recipes_in into a dataframe 'recipes_in'"
   ]
  },
  {
   "cell_type": "code",
   "execution_count": 2,
   "metadata": {},
   "outputs": [
    {
     "data": {
      "text/html": [
       "<div>\n",
       "<style scoped>\n",
       "    .dataframe tbody tr th:only-of-type {\n",
       "        vertical-align: middle;\n",
       "    }\n",
       "\n",
       "    .dataframe tbody tr th {\n",
       "        vertical-align: top;\n",
       "    }\n",
       "\n",
       "    .dataframe thead th {\n",
       "        text-align: right;\n",
       "    }\n",
       "</style>\n",
       "<table border=\"1\" class=\"dataframe\">\n",
       "  <thead>\n",
       "    <tr style=\"text-align: right;\">\n",
       "      <th></th>\n",
       "      <th>nutrition</th>\n",
       "      <th>minutes</th>\n",
       "      <th>techniques</th>\n",
       "      <th>cuisine</th>\n",
       "      <th>meal_of_day</th>\n",
       "      <th>ingredients</th>\n",
       "    </tr>\n",
       "    <tr>\n",
       "      <th>recipe_id</th>\n",
       "      <th></th>\n",
       "      <th></th>\n",
       "      <th></th>\n",
       "      <th></th>\n",
       "      <th></th>\n",
       "      <th></th>\n",
       "    </tr>\n",
       "  </thead>\n",
       "  <tbody>\n",
       "    <tr>\n",
       "      <th>137739</th>\n",
       "      <td>{'calories': 51.5, 'carbohydrates': 4.0, 'prot...</td>\n",
       "      <td>55</td>\n",
       "      <td>{'Bake': 1, 'Barbecue': 0, 'Blanch': 0, 'Blend...</td>\n",
       "      <td>North American</td>\n",
       "      <td>Side Dishes</td>\n",
       "      <td>[winter squash, mexican seasoning, mixed spice...</td>\n",
       "    </tr>\n",
       "    <tr>\n",
       "      <th>31490</th>\n",
       "      <td>{'calories': 173.4, 'carbohydrates': 1.0, 'pro...</td>\n",
       "      <td>30</td>\n",
       "      <td>{'Bake': 1, 'Barbecue': 0, 'Blanch': 0, 'Blend...</td>\n",
       "      <td>North American</td>\n",
       "      <td>Breakfast</td>\n",
       "      <td>[prepared pizza crust, sausage patty, eggs, mi...</td>\n",
       "    </tr>\n",
       "    <tr>\n",
       "      <th>112140</th>\n",
       "      <td>{'calories': 269.8, 'carbohydrates': 5.0, 'pro...</td>\n",
       "      <td>130</td>\n",
       "      <td>{'Bake': 0, 'Barbecue': 0, 'Blanch': 0, 'Blend...</td>\n",
       "      <td>Uncategorized</td>\n",
       "      <td>Main Dish</td>\n",
       "      <td>[ground beef, yellow onions, diced tomatoes, t...</td>\n",
       "    </tr>\n",
       "    <tr>\n",
       "      <th>59389</th>\n",
       "      <td>{'calories': 368.1, 'carbohydrates': 20.0, 'pr...</td>\n",
       "      <td>45</td>\n",
       "      <td>{'Bake': 1, 'Barbecue': 0, 'Blanch': 0, 'Blend...</td>\n",
       "      <td>Uncategorized</td>\n",
       "      <td>Side Dishes</td>\n",
       "      <td>[spreadable cheese with garlic and herbs, new ...</td>\n",
       "    </tr>\n",
       "    <tr>\n",
       "      <th>44061</th>\n",
       "      <td>{'calories': 352.9, 'carbohydrates': 28.0, 'pr...</td>\n",
       "      <td>190</td>\n",
       "      <td>{'Bake': 0, 'Barbecue': 0, 'Blanch': 0, 'Blend...</td>\n",
       "      <td>North American</td>\n",
       "      <td>NO MEAL</td>\n",
       "      <td>[tomato juice, apple cider vinegar, sugar, sal...</td>\n",
       "    </tr>\n",
       "  </tbody>\n",
       "</table>\n",
       "</div>"
      ],
      "text/plain": [
       "                                                   nutrition  minutes  \\\n",
       "recipe_id                                                               \n",
       "137739     {'calories': 51.5, 'carbohydrates': 4.0, 'prot...       55   \n",
       "31490      {'calories': 173.4, 'carbohydrates': 1.0, 'pro...       30   \n",
       "112140     {'calories': 269.8, 'carbohydrates': 5.0, 'pro...      130   \n",
       "59389      {'calories': 368.1, 'carbohydrates': 20.0, 'pr...       45   \n",
       "44061      {'calories': 352.9, 'carbohydrates': 28.0, 'pr...      190   \n",
       "\n",
       "                                                  techniques         cuisine  \\\n",
       "recipe_id                                                                      \n",
       "137739     {'Bake': 1, 'Barbecue': 0, 'Blanch': 0, 'Blend...  North American   \n",
       "31490      {'Bake': 1, 'Barbecue': 0, 'Blanch': 0, 'Blend...  North American   \n",
       "112140     {'Bake': 0, 'Barbecue': 0, 'Blanch': 0, 'Blend...   Uncategorized   \n",
       "59389      {'Bake': 1, 'Barbecue': 0, 'Blanch': 0, 'Blend...   Uncategorized   \n",
       "44061      {'Bake': 0, 'Barbecue': 0, 'Blanch': 0, 'Blend...  North American   \n",
       "\n",
       "           meal_of_day                                        ingredients  \n",
       "recipe_id                                                                  \n",
       "137739     Side Dishes  [winter squash, mexican seasoning, mixed spice...  \n",
       "31490        Breakfast  [prepared pizza crust, sausage patty, eggs, mi...  \n",
       "112140       Main Dish  [ground beef, yellow onions, diced tomatoes, t...  \n",
       "59389      Side Dishes  [spreadable cheese with garlic and herbs, new ...  \n",
       "44061          NO MEAL  [tomato juice, apple cider vinegar, sugar, sal...  "
      ]
     },
     "execution_count": 2,
     "metadata": {},
     "output_type": "execute_result"
    }
   ],
   "source": [
    "recipes_in = pd.read_parquet(r'../01_DataCleansing/recipes_in.parquet')\n",
    "recipes_in.head()"
   ]
  },
  {
   "cell_type": "markdown",
   "metadata": {},
   "source": [
    "### Create the corpus required to train the genism word2vec model\n",
    "a list of ingredients lists and each ingredient list is from one recipe "
   ]
  },
  {
   "cell_type": "code",
   "execution_count": 3,
   "metadata": {},
   "outputs": [
    {
     "data": {
      "text/plain": [
       "[['winter squash',\n",
       "  'mexican seasoning',\n",
       "  'mixed spice',\n",
       "  'honey',\n",
       "  'butter',\n",
       "  'olive oil',\n",
       "  'salt'],\n",
       " ['prepared pizza crust',\n",
       "  'sausage patty',\n",
       "  'eggs',\n",
       "  'milk',\n",
       "  'salt and pepper',\n",
       "  'cheese'],\n",
       " ['ground beef',\n",
       "  'yellow onions',\n",
       "  'diced tomatoes',\n",
       "  'tomato paste',\n",
       "  'tomato soup',\n",
       "  'rotel tomatoes',\n",
       "  'kidney beans',\n",
       "  'water',\n",
       "  'chili powder',\n",
       "  'ground cumin',\n",
       "  'salt',\n",
       "  'lettuce',\n",
       "  'cheddar cheese'],\n",
       " ['spreadable cheese with garlic and herbs',\n",
       "  'new potatoes',\n",
       "  'shallots',\n",
       "  'parsley',\n",
       "  'tarragon',\n",
       "  'olive oil',\n",
       "  'red wine vinegar',\n",
       "  'salt',\n",
       "  'pepper',\n",
       "  'red bell pepper',\n",
       "  'yellow bell pepper'],\n",
       " ['tomato juice',\n",
       "  'apple cider vinegar',\n",
       "  'sugar',\n",
       "  'salt',\n",
       "  'pepper',\n",
       "  'clove oil',\n",
       "  'cinnamon oil',\n",
       "  'dry mustard']]"
      ]
     },
     "execution_count": 3,
     "metadata": {},
     "output_type": "execute_result"
    }
   ],
   "source": [
    "ingredient_list=[]\n",
    "for i in range(0,len(recipes_in)):\n",
    "    ingredient_list.append(recipes_in.iloc[i].loc['ingredients'].tolist())\n",
    "ingredient_list[0:5]"
   ]
  },
  {
   "cell_type": "markdown",
   "metadata": {},
   "source": [
    "### Number of Ingredients We are Working with"
   ]
  },
  {
   "cell_type": "code",
   "execution_count": 4,
   "metadata": {},
   "outputs": [
    {
     "data": {
      "text/plain": [
       "14942"
      ]
     },
     "execution_count": 4,
     "metadata": {},
     "output_type": "execute_result"
    }
   ],
   "source": [
    "ingredients=list(set(i for x in ingredient_list for i in x))\n",
    "len(ingredients)"
   ]
  },
  {
   "cell_type": "markdown",
   "metadata": {},
   "source": [
    "### Train Word2Vec Models\n",
    "\n",
    "Use Default Parameters\n",
    "<br>Reference: https://towardsdatascience.com/nlp-101-word2vec-skip-gram-and-cbow-93512ee24314"
   ]
  },
  {
   "cell_type": "code",
   "execution_count": 5,
   "metadata": {},
   "outputs": [],
   "source": [
    "model = Word2Vec(ingredient_list, min_count=1)\n"
   ]
  },
  {
   "cell_type": "markdown",
   "metadata": {},
   "source": [
    "### Now Each Ingredient is a Vector"
   ]
  },
  {
   "cell_type": "code",
   "execution_count": 6,
   "metadata": {
    "scrolled": false
   },
   "outputs": [
    {
     "data": {
      "text/plain": [
       "array([-0.9149145 ,  1.123325  , -1.0936317 ,  0.35871062,  0.12787175,\n",
       "       -1.1499809 ,  0.26543984, -0.14168608,  1.6377338 ,  0.9014223 ,\n",
       "       -0.14462878,  2.210522  , -0.29816937, -3.0175092 , -0.28193074,\n",
       "       -0.03931889, -3.1425076 , -0.41869506,  1.9348537 ,  0.6651366 ,\n",
       "       -1.0720613 , -0.74189544, -0.284265  ,  2.0057163 ,  1.1976069 ,\n",
       "        0.8758734 ,  1.2095399 , -0.1881468 ,  0.4635824 , -1.8249965 ,\n",
       "       -0.2559701 ,  1.6428765 ,  1.2894908 ,  2.6693702 ,  0.34306175,\n",
       "       -1.7052001 , -1.043298  , -0.05284423,  1.5147152 , -1.5847232 ,\n",
       "        0.12595949,  0.97451633, -0.43317333,  0.17339042, -0.2127125 ,\n",
       "        1.0654296 , -0.6217671 , -0.49158177, -0.73933244,  0.585873  ,\n",
       "       -0.46522814, -0.5471861 , -0.9437526 ,  1.741153  ,  1.5496726 ,\n",
       "       -0.2501186 ,  0.11984954,  0.35340428,  0.13787517,  1.1541123 ,\n",
       "       -1.6020988 ,  0.33208135, -0.04793662, -2.374738  , -0.05949667,\n",
       "        0.10574434,  1.3349599 , -1.3285564 , -0.5479753 ,  0.05131757,\n",
       "        0.49097306, -1.5908676 , -1.0397455 ,  1.9488846 ,  0.3055588 ,\n",
       "        0.02882764, -1.0218167 ,  0.16676635, -1.1289498 ,  0.36859134,\n",
       "       -1.6293205 ,  0.9962053 ,  0.1760769 , -0.6303522 , -1.0839837 ,\n",
       "       -0.46368834, -2.109752  ,  2.974973  , -0.272007  ,  1.6683635 ,\n",
       "       -0.31068543,  1.4561607 , -1.5962536 , -0.815728  ,  0.25449616,\n",
       "       -0.3044663 , -0.26676276, -2.425233  ,  0.35305285,  0.5233258 ],\n",
       "      dtype=float32)"
      ]
     },
     "execution_count": 6,
     "metadata": {},
     "output_type": "execute_result"
    }
   ],
   "source": [
    "model.wv.__getitem__('tomato paste')"
   ]
  },
  {
   "cell_type": "markdown",
   "metadata": {},
   "source": [
    "### A Few Tests for Model Outputs for Most Similar Ingredients"
   ]
  },
  {
   "cell_type": "code",
   "execution_count": 7,
   "metadata": {},
   "outputs": [
    {
     "data": {
      "text/plain": [
       "[('tomato puree', 0.7866252064704895),\n",
       " ('tomato sauce', 0.6950498223304749),\n",
       " ('tomato juice', 0.6798321604728699),\n",
       " ('bay leaves', 0.6718400716781616),\n",
       " ('crushed tomatoes', 0.6695051789283752),\n",
       " ('whole tomatoes', 0.6572368144989014),\n",
       " ('dried brown lentils', 0.6538439393043518),\n",
       " ('dry red wine', 0.640514612197876),\n",
       " ('tomatoes with juice', 0.635966956615448),\n",
       " ('bay leaf', 0.6343404054641724)]"
      ]
     },
     "metadata": {},
     "output_type": "display_data"
    }
   ],
   "source": [
    "display(model.wv.most_similar('tomato paste'))"
   ]
  },
  {
   "cell_type": "code",
   "execution_count": 8,
   "metadata": {},
   "outputs": [
    {
     "data": {
      "text/plain": [
       "[('lean ground beef', 0.9391839504241943),\n",
       " ('ground chuck', 0.8461577296257019),\n",
       " ('hamburger', 0.8221970796585083),\n",
       " ('ground round', 0.7940616607666016),\n",
       " ('extra lean ground beef', 0.7911683320999146),\n",
       " ('ground meat', 0.7581408619880676),\n",
       " ('ground turkey', 0.753473699092865),\n",
       " ('lean hamburger', 0.6712562441825867),\n",
       " ('ground sirloin', 0.6615191102027893),\n",
       " ('ground venison', 0.6538377404212952)]"
      ]
     },
     "metadata": {},
     "output_type": "display_data"
    }
   ],
   "source": [
    "display(model.wv.most_similar('ground beef'))\n"
   ]
  },
  {
   "cell_type": "code",
   "execution_count": 9,
   "metadata": {},
   "outputs": [
    {
     "data": {
      "text/plain": [
       "[('extra virgin olive oil', 0.9052597284317017),\n",
       " ('virgin olive oil', 0.752072811126709),\n",
       " ('light olive oil', 0.7234945297241211),\n",
       " ('lite olive oil', 0.6731634140014648),\n",
       " ('vegetable oil', 0.6121304035186768),\n",
       " ('canola oil', 0.5828148126602173),\n",
       " ('oil', 0.5787796378135681),\n",
       " ('dried red pepper flakes', 0.5720276832580566),\n",
       " ('chili pepper flakes', 0.566417396068573),\n",
       " ('olive oil flavored cooking spray', 0.5576046109199524)]"
      ]
     },
     "metadata": {},
     "output_type": "display_data"
    }
   ],
   "source": [
    "display(model.wv.most_similar('olive oil'))\n"
   ]
  },
  {
   "cell_type": "code",
   "execution_count": 10,
   "metadata": {},
   "outputs": [
    {
     "data": {
      "text/plain": [
       "[('egg', 0.9105204939842224),\n",
       " ('extra large eggs', 0.5839084982872009),\n",
       " ('egg substitute', 0.534137487411499),\n",
       " ('egg whites', 0.5213854908943176),\n",
       " ('egg yolk', 0.5125996470451355),\n",
       " ('egg white', 0.4849655330181122),\n",
       " ('egg yolks', 0.4775627851486206),\n",
       " ('extra-large eggs', 0.3986189067363739),\n",
       " ('oranges, juice and rind of', 0.39736953377723694),\n",
       " ('egg beaters egg substitute', 0.3731057047843933)]"
      ]
     },
     "metadata": {},
     "output_type": "display_data"
    }
   ],
   "source": [
    "display(model.wv.most_similar('eggs'))\n"
   ]
  },
  {
   "cell_type": "markdown",
   "metadata": {},
   "source": [
    "### Vectorize ingredient list for each recipe\n",
    "Add columns 'recipe_ingredients_vecto'to Datafram 'recipes_in' by averaging all ingredient vectors from each recipe."
   ]
  },
  {
   "cell_type": "code",
   "execution_count": 11,
   "metadata": {},
   "outputs": [
    {
     "data": {
      "text/html": [
       "<div>\n",
       "<style scoped>\n",
       "    .dataframe tbody tr th:only-of-type {\n",
       "        vertical-align: middle;\n",
       "    }\n",
       "\n",
       "    .dataframe tbody tr th {\n",
       "        vertical-align: top;\n",
       "    }\n",
       "\n",
       "    .dataframe thead th {\n",
       "        text-align: right;\n",
       "    }\n",
       "</style>\n",
       "<table border=\"1\" class=\"dataframe\">\n",
       "  <thead>\n",
       "    <tr style=\"text-align: right;\">\n",
       "      <th></th>\n",
       "      <th>nutrition</th>\n",
       "      <th>minutes</th>\n",
       "      <th>techniques</th>\n",
       "      <th>cuisine</th>\n",
       "      <th>meal_of_day</th>\n",
       "      <th>ingredients</th>\n",
       "      <th>recipe_ingredients_vector</th>\n",
       "    </tr>\n",
       "    <tr>\n",
       "      <th>recipe_id</th>\n",
       "      <th></th>\n",
       "      <th></th>\n",
       "      <th></th>\n",
       "      <th></th>\n",
       "      <th></th>\n",
       "      <th></th>\n",
       "      <th></th>\n",
       "    </tr>\n",
       "  </thead>\n",
       "  <tbody>\n",
       "    <tr>\n",
       "      <th>137739</th>\n",
       "      <td>{'calories': 51.5, 'carbohydrates': 4.0, 'prot...</td>\n",
       "      <td>55</td>\n",
       "      <td>{'Bake': 1, 'Barbecue': 0, 'Blanch': 0, 'Blend...</td>\n",
       "      <td>North American</td>\n",
       "      <td>Side Dishes</td>\n",
       "      <td>[winter squash, mexican seasoning, mixed spice...</td>\n",
       "      <td>[-0.21430667, 0.059886776, -0.31777206, 0.3828...</td>\n",
       "    </tr>\n",
       "    <tr>\n",
       "      <th>31490</th>\n",
       "      <td>{'calories': 173.4, 'carbohydrates': 1.0, 'pro...</td>\n",
       "      <td>30</td>\n",
       "      <td>{'Bake': 1, 'Barbecue': 0, 'Blanch': 0, 'Blend...</td>\n",
       "      <td>North American</td>\n",
       "      <td>Breakfast</td>\n",
       "      <td>[prepared pizza crust, sausage patty, eggs, mi...</td>\n",
       "      <td>[-0.2475955, -0.2873861, 0.19562733, -0.690071...</td>\n",
       "    </tr>\n",
       "    <tr>\n",
       "      <th>112140</th>\n",
       "      <td>{'calories': 269.8, 'carbohydrates': 5.0, 'pro...</td>\n",
       "      <td>130</td>\n",
       "      <td>{'Bake': 0, 'Barbecue': 0, 'Blanch': 0, 'Blend...</td>\n",
       "      <td>Uncategorized</td>\n",
       "      <td>Main Dish</td>\n",
       "      <td>[ground beef, yellow onions, diced tomatoes, t...</td>\n",
       "      <td>[-0.98470646, 0.14299391, -0.5030059, -0.49472...</td>\n",
       "    </tr>\n",
       "    <tr>\n",
       "      <th>59389</th>\n",
       "      <td>{'calories': 368.1, 'carbohydrates': 20.0, 'pr...</td>\n",
       "      <td>45</td>\n",
       "      <td>{'Bake': 1, 'Barbecue': 0, 'Blanch': 0, 'Blend...</td>\n",
       "      <td>Uncategorized</td>\n",
       "      <td>Side Dishes</td>\n",
       "      <td>[spreadable cheese with garlic and herbs, new ...</td>\n",
       "      <td>[-0.13308103, -0.22797266, -0.31254694, -1.042...</td>\n",
       "    </tr>\n",
       "    <tr>\n",
       "      <th>44061</th>\n",
       "      <td>{'calories': 352.9, 'carbohydrates': 28.0, 'pr...</td>\n",
       "      <td>190</td>\n",
       "      <td>{'Bake': 0, 'Barbecue': 0, 'Blanch': 0, 'Blend...</td>\n",
       "      <td>North American</td>\n",
       "      <td>NO MEAL</td>\n",
       "      <td>[tomato juice, apple cider vinegar, sugar, sal...</td>\n",
       "      <td>[0.000708051, -0.058615696, -0.6788341, -0.414...</td>\n",
       "    </tr>\n",
       "  </tbody>\n",
       "</table>\n",
       "</div>"
      ],
      "text/plain": [
       "                                                   nutrition  minutes  \\\n",
       "recipe_id                                                               \n",
       "137739     {'calories': 51.5, 'carbohydrates': 4.0, 'prot...       55   \n",
       "31490      {'calories': 173.4, 'carbohydrates': 1.0, 'pro...       30   \n",
       "112140     {'calories': 269.8, 'carbohydrates': 5.0, 'pro...      130   \n",
       "59389      {'calories': 368.1, 'carbohydrates': 20.0, 'pr...       45   \n",
       "44061      {'calories': 352.9, 'carbohydrates': 28.0, 'pr...      190   \n",
       "\n",
       "                                                  techniques         cuisine  \\\n",
       "recipe_id                                                                      \n",
       "137739     {'Bake': 1, 'Barbecue': 0, 'Blanch': 0, 'Blend...  North American   \n",
       "31490      {'Bake': 1, 'Barbecue': 0, 'Blanch': 0, 'Blend...  North American   \n",
       "112140     {'Bake': 0, 'Barbecue': 0, 'Blanch': 0, 'Blend...   Uncategorized   \n",
       "59389      {'Bake': 1, 'Barbecue': 0, 'Blanch': 0, 'Blend...   Uncategorized   \n",
       "44061      {'Bake': 0, 'Barbecue': 0, 'Blanch': 0, 'Blend...  North American   \n",
       "\n",
       "           meal_of_day                                        ingredients  \\\n",
       "recipe_id                                                                   \n",
       "137739     Side Dishes  [winter squash, mexican seasoning, mixed spice...   \n",
       "31490        Breakfast  [prepared pizza crust, sausage patty, eggs, mi...   \n",
       "112140       Main Dish  [ground beef, yellow onions, diced tomatoes, t...   \n",
       "59389      Side Dishes  [spreadable cheese with garlic and herbs, new ...   \n",
       "44061          NO MEAL  [tomato juice, apple cider vinegar, sugar, sal...   \n",
       "\n",
       "                                   recipe_ingredients_vector  \n",
       "recipe_id                                                     \n",
       "137739     [-0.21430667, 0.059886776, -0.31777206, 0.3828...  \n",
       "31490      [-0.2475955, -0.2873861, 0.19562733, -0.690071...  \n",
       "112140     [-0.98470646, 0.14299391, -0.5030059, -0.49472...  \n",
       "59389      [-0.13308103, -0.22797266, -0.31254694, -1.042...  \n",
       "44061      [0.000708051, -0.058615696, -0.6788341, -0.414...  "
      ]
     },
     "execution_count": 11,
     "metadata": {},
     "output_type": "execute_result"
    }
   ],
   "source": [
    "\n",
    "def list_to_vec_model(l):\n",
    "    return model.wv.__getitem__(x for x in l).sum(axis=0)/len(l)   \n",
    "recipes_in['recipe_ingredients_vector']=recipes_in.apply(lambda x: list_to_vec_model(x['ingredients']), axis=1)\n",
    "\n",
    "\n",
    "\n",
    "recipes_in.head()"
   ]
  },
  {
   "cell_type": "markdown",
   "metadata": {},
   "source": [
    "### Get a Dataframe with Recipe id and Ingredient List Vector"
   ]
  },
  {
   "cell_type": "code",
   "execution_count": 12,
   "metadata": {},
   "outputs": [
    {
     "data": {
      "text/html": [
       "<div>\n",
       "<style scoped>\n",
       "    .dataframe tbody tr th:only-of-type {\n",
       "        vertical-align: middle;\n",
       "    }\n",
       "\n",
       "    .dataframe tbody tr th {\n",
       "        vertical-align: top;\n",
       "    }\n",
       "\n",
       "    .dataframe thead th {\n",
       "        text-align: right;\n",
       "    }\n",
       "</style>\n",
       "<table border=\"1\" class=\"dataframe\">\n",
       "  <thead>\n",
       "    <tr style=\"text-align: right;\">\n",
       "      <th></th>\n",
       "      <th>recipe_id</th>\n",
       "      <th>recipe_ingredients_vector</th>\n",
       "    </tr>\n",
       "  </thead>\n",
       "  <tbody>\n",
       "    <tr>\n",
       "      <th>0</th>\n",
       "      <td>137739</td>\n",
       "      <td>[-0.21430667, 0.059886776, -0.31777206, 0.3828...</td>\n",
       "    </tr>\n",
       "    <tr>\n",
       "      <th>1</th>\n",
       "      <td>31490</td>\n",
       "      <td>[-0.2475955, -0.2873861, 0.19562733, -0.690071...</td>\n",
       "    </tr>\n",
       "    <tr>\n",
       "      <th>2</th>\n",
       "      <td>112140</td>\n",
       "      <td>[-0.98470646, 0.14299391, -0.5030059, -0.49472...</td>\n",
       "    </tr>\n",
       "    <tr>\n",
       "      <th>3</th>\n",
       "      <td>59389</td>\n",
       "      <td>[-0.13308103, -0.22797266, -0.31254694, -1.042...</td>\n",
       "    </tr>\n",
       "    <tr>\n",
       "      <th>4</th>\n",
       "      <td>44061</td>\n",
       "      <td>[0.000708051, -0.058615696, -0.6788341, -0.414...</td>\n",
       "    </tr>\n",
       "  </tbody>\n",
       "</table>\n",
       "</div>"
      ],
      "text/plain": [
       "   recipe_id                          recipe_ingredients_vector\n",
       "0     137739  [-0.21430667, 0.059886776, -0.31777206, 0.3828...\n",
       "1      31490  [-0.2475955, -0.2873861, 0.19562733, -0.690071...\n",
       "2     112140  [-0.98470646, 0.14299391, -0.5030059, -0.49472...\n",
       "3      59389  [-0.13308103, -0.22797266, -0.31254694, -1.042...\n",
       "4      44061  [0.000708051, -0.058615696, -0.6788341, -0.414..."
      ]
     },
     "execution_count": 12,
     "metadata": {},
     "output_type": "execute_result"
    }
   ],
   "source": [
    "recipes_ingredient_vec=recipes_in['recipe_ingredients_vector'].reset_index()\n",
    "recipes_ingredient_vec.head()"
   ]
  },
  {
   "cell_type": "code",
   "execution_count": 13,
   "metadata": {},
   "outputs": [
    {
     "data": {
      "text/plain": [
       "231637"
      ]
     },
     "execution_count": 13,
     "metadata": {},
     "output_type": "execute_result"
    }
   ],
   "source": [
    "len(recipes_ingredient_vec)"
   ]
  }
 ],
 "metadata": {
  "kernelspec": {
   "display_name": "CSE 6242 Project Final",
   "language": "python",
   "name": "cse6242-project-final"
  },
  "language_info": {
   "codemirror_mode": {
    "name": "ipython",
    "version": 3
   },
   "file_extension": ".py",
   "mimetype": "text/x-python",
   "name": "python",
   "nbconvert_exporter": "python",
   "pygments_lexer": "ipython3",
   "version": "3.9.12"
  }
 },
 "nbformat": 4,
 "nbformat_minor": 4
}
