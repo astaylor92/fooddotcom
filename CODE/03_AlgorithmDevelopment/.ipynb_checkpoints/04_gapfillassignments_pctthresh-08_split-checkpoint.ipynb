{
 "cells": [
  {
   "cell_type": "markdown",
   "id": "37a31dd0",
   "metadata": {},
   "source": [
    "# Community Detection\n",
    "\n",
    "<hr style=\"border:2px solid black\"> </hr>\n",
    "\n",
    "## Notebook 04 - Backfill small portion of missing community assignments\n",
    "\n",
    "\n",
    "Some recipes only had neighboring recipes with less than 8% shared users, which were not considered edges in the graph analysis. This heuristic assigns labels to these recipes based on a KNN-like algorithm.\n",
    "\n",
    "---\n",
    "\n",
    "### Import libraries"
   ]
  },
  {
   "cell_type": "code",
   "execution_count": 1,
   "id": "1b319c08",
   "metadata": {},
   "outputs": [],
   "source": [
    "import matplotlib.pyplot as plt\n",
    "import pandas as pd\n",
    "import numpy as np\n",
    "import time"
   ]
  },
  {
   "cell_type": "code",
   "execution_count": 2,
   "id": "dacee762",
   "metadata": {},
   "outputs": [],
   "source": [
    "def num_uniques(ser):\n",
    "    try:\n",
    "        return len(ser.unique())\n",
    "    except:\n",
    "        return \"Not unique check-able\""
   ]
  },
  {
   "cell_type": "code",
   "execution_count": 3,
   "id": "a15ca1b3",
   "metadata": {},
   "outputs": [],
   "source": [
    "def summarize_df(df):\n",
    "    print(\"======DATA SUMMARY======\")\n",
    "    print(\"{} rows by {} columns\".format(df.shape[0], df.shape[1]))\n",
    "    print(\"\\n======COLUMNS======\")\n",
    "    print(df.dtypes)\n",
    "    print(\"\\n======PREVIEW======\")\n",
    "    display(df.head())\n",
    "    print(\"\\n======NUMERICAL COL SUMMARY======\")\n",
    "    print(df.describe())\n",
    "    print(\"\\n\")\n",
    "    for col in df.columns:\n",
    "        print(\"{}: {} unique values\".format(col, num_uniques(df[col])))"
   ]
  },
  {
   "cell_type": "markdown",
   "id": "28f83e85",
   "metadata": {},
   "source": [
    "---\n",
    "### Import data"
   ]
  },
  {
   "cell_type": "code",
   "execution_count": 4,
   "id": "2f824559",
   "metadata": {},
   "outputs": [
    {
     "name": "stdout",
     "output_type": "stream",
     "text": [
      "Sun Apr 17 20:41:28 2022\n",
      "======DATA SUMMARY======\n",
      "118101546 rows by 3 columns\n",
      "\n",
      "======COLUMNS======\n",
      "recipe_id        int64\n",
      "recipe_id_2      int64\n",
      "pct_users      float64\n",
      "dtype: object\n",
      "\n",
      "======PREVIEW======\n"
     ]
    },
    {
     "data": {
      "text/html": [
       "<div>\n",
       "<style scoped>\n",
       "    .dataframe tbody tr th:only-of-type {\n",
       "        vertical-align: middle;\n",
       "    }\n",
       "\n",
       "    .dataframe tbody tr th {\n",
       "        vertical-align: top;\n",
       "    }\n",
       "\n",
       "    .dataframe thead th {\n",
       "        text-align: right;\n",
       "    }\n",
       "</style>\n",
       "<table border=\"1\" class=\"dataframe\">\n",
       "  <thead>\n",
       "    <tr style=\"text-align: right;\">\n",
       "      <th></th>\n",
       "      <th>recipe_id</th>\n",
       "      <th>recipe_id_2</th>\n",
       "      <th>pct_users</th>\n",
       "    </tr>\n",
       "  </thead>\n",
       "  <tbody>\n",
       "    <tr>\n",
       "      <th>0</th>\n",
       "      <td>0</td>\n",
       "      <td>1118</td>\n",
       "      <td>0.166667</td>\n",
       "    </tr>\n",
       "    <tr>\n",
       "      <th>1</th>\n",
       "      <td>60</td>\n",
       "      <td>1118</td>\n",
       "      <td>0.125000</td>\n",
       "    </tr>\n",
       "    <tr>\n",
       "      <th>2</th>\n",
       "      <td>1066</td>\n",
       "      <td>1118</td>\n",
       "      <td>0.166667</td>\n",
       "    </tr>\n",
       "    <tr>\n",
       "      <th>3</th>\n",
       "      <td>1086</td>\n",
       "      <td>1118</td>\n",
       "      <td>0.100000</td>\n",
       "    </tr>\n",
       "    <tr>\n",
       "      <th>4</th>\n",
       "      <td>0</td>\n",
       "      <td>4446</td>\n",
       "      <td>0.066667</td>\n",
       "    </tr>\n",
       "  </tbody>\n",
       "</table>\n",
       "</div>"
      ],
      "text/plain": [
       "   recipe_id  recipe_id_2  pct_users\n",
       "0          0         1118   0.166667\n",
       "1         60         1118   0.125000\n",
       "2       1066         1118   0.166667\n",
       "3       1086         1118   0.100000\n",
       "4          0         4446   0.066667"
      ]
     },
     "metadata": {},
     "output_type": "display_data"
    },
    {
     "name": "stdout",
     "output_type": "stream",
     "text": [
      "\n",
      "======NUMERICAL COL SUMMARY======\n",
      "          recipe_id   recipe_id_2     pct_users\n",
      "count  1.181015e+08  1.181015e+08  1.181015e+08\n",
      "mean   5.919704e+04  1.186249e+05  8.935996e-02\n",
      "std    4.195803e+04  4.210507e+04  7.323516e-02\n",
      "min    0.000000e+00  1.400000e+01  8.756567e-04\n",
      "25%    2.388100e+04  8.900700e+04  3.571429e-02\n",
      "50%    5.175700e+04  1.260040e+05  7.142857e-02\n",
      "75%    8.903400e+04  1.541630e+05  1.250000e-01\n",
      "max    1.782560e+05  1.782620e+05  6.666667e-01\n",
      "\n",
      "\n",
      "recipe_id: 85366 unique values\n",
      "recipe_id_2: 85345 unique values\n",
      "pct_users: 12414 unique values\n",
      "CPU times: user 17.3 s, sys: 12.3 s, total: 29.5 s\n",
      "Wall time: 20.8 s\n"
     ]
    }
   ],
   "source": [
    "%%time\n",
    "print(time.asctime(time.localtime(time.time())))\n",
    "shared_users = pd.read_parquet('clustering_data_filtered')\n",
    "summarize_df(shared_users)"
   ]
  },
  {
   "cell_type": "code",
   "execution_count": 5,
   "id": "4cd1276b",
   "metadata": {},
   "outputs": [
    {
     "name": "stdout",
     "output_type": "stream",
     "text": [
      "Sun Apr 17 20:41:49 2022\n",
      "======DATA SUMMARY======\n",
      "85519 rows by 1 columns\n",
      "\n",
      "======COLUMNS======\n",
      "recipe_id    int64\n",
      "dtype: object\n",
      "\n",
      "======PREVIEW======\n"
     ]
    },
    {
     "data": {
      "text/html": [
       "<div>\n",
       "<style scoped>\n",
       "    .dataframe tbody tr th:only-of-type {\n",
       "        vertical-align: middle;\n",
       "    }\n",
       "\n",
       "    .dataframe tbody tr th {\n",
       "        vertical-align: top;\n",
       "    }\n",
       "\n",
       "    .dataframe thead th {\n",
       "        text-align: right;\n",
       "    }\n",
       "</style>\n",
       "<table border=\"1\" class=\"dataframe\">\n",
       "  <thead>\n",
       "    <tr style=\"text-align: right;\">\n",
       "      <th></th>\n",
       "      <th>recipe_id</th>\n",
       "    </tr>\n",
       "  </thead>\n",
       "  <tbody>\n",
       "    <tr>\n",
       "      <th>0</th>\n",
       "      <td>0</td>\n",
       "    </tr>\n",
       "    <tr>\n",
       "      <th>1</th>\n",
       "      <td>2</td>\n",
       "    </tr>\n",
       "    <tr>\n",
       "      <th>2</th>\n",
       "      <td>4</td>\n",
       "    </tr>\n",
       "    <tr>\n",
       "      <th>3</th>\n",
       "      <td>5</td>\n",
       "    </tr>\n",
       "    <tr>\n",
       "      <th>4</th>\n",
       "      <td>7</td>\n",
       "    </tr>\n",
       "  </tbody>\n",
       "</table>\n",
       "</div>"
      ],
      "text/plain": [
       "   recipe_id\n",
       "0          0\n",
       "1          2\n",
       "2          4\n",
       "3          5\n",
       "4          7"
      ]
     },
     "metadata": {},
     "output_type": "display_data"
    },
    {
     "name": "stdout",
     "output_type": "stream",
     "text": [
      "\n",
      "======NUMERICAL COL SUMMARY======\n",
      "           recipe_id\n",
      "count   85519.000000\n",
      "mean    88101.463967\n",
      "std     51286.277906\n",
      "min         0.000000\n",
      "25%     43529.500000\n",
      "50%     87890.000000\n",
      "75%    132326.500000\n",
      "max    178262.000000\n",
      "\n",
      "\n",
      "recipe_id: 85519 unique values\n",
      "CPU times: user 157 ms, sys: 61.8 ms, total: 219 ms\n",
      "Wall time: 229 ms\n"
     ]
    }
   ],
   "source": [
    "%%time\n",
    "print(time.asctime(time.localtime(time.time())))\n",
    "recipes = pd.read_csv('../01_DataCleansing/users_in_count2_mean4.csv') \\\n",
    "            .groupby('recipe_id').first() \\\n",
    "            .reset_index() \\\n",
    "            .drop(['user_id', 'ratings'], axis=1)\n",
    "summarize_df(recipes)"
   ]
  },
  {
   "cell_type": "code",
   "execution_count": 6,
   "id": "6dc96ca4",
   "metadata": {},
   "outputs": [
    {
     "name": "stdout",
     "output_type": "stream",
     "text": [
      "Sun Apr 17 20:41:49 2022\n",
      "======DATA SUMMARY======\n",
      "83360 rows by 3 columns\n",
      "\n",
      "======COLUMNS======\n",
      "index           int64\n",
      "id              int64\n",
      "community_id    int64\n",
      "dtype: object\n",
      "\n",
      "======PREVIEW======\n"
     ]
    },
    {
     "data": {
      "text/html": [
       "<div>\n",
       "<style scoped>\n",
       "    .dataframe tbody tr th:only-of-type {\n",
       "        vertical-align: middle;\n",
       "    }\n",
       "\n",
       "    .dataframe tbody tr th {\n",
       "        vertical-align: top;\n",
       "    }\n",
       "\n",
       "    .dataframe thead th {\n",
       "        text-align: right;\n",
       "    }\n",
       "</style>\n",
       "<table border=\"1\" class=\"dataframe\">\n",
       "  <thead>\n",
       "    <tr style=\"text-align: right;\">\n",
       "      <th></th>\n",
       "      <th>index</th>\n",
       "      <th>id</th>\n",
       "      <th>community_id</th>\n",
       "    </tr>\n",
       "  </thead>\n",
       "  <tbody>\n",
       "    <tr>\n",
       "      <th>0</th>\n",
       "      <td>0</td>\n",
       "      <td>153600</td>\n",
       "      <td>0</td>\n",
       "    </tr>\n",
       "    <tr>\n",
       "      <th>1</th>\n",
       "      <td>1</td>\n",
       "      <td>75776</td>\n",
       "      <td>0</td>\n",
       "    </tr>\n",
       "    <tr>\n",
       "      <th>2</th>\n",
       "      <td>2</td>\n",
       "      <td>59397</td>\n",
       "      <td>0</td>\n",
       "    </tr>\n",
       "    <tr>\n",
       "      <th>3</th>\n",
       "      <td>3</td>\n",
       "      <td>18439</td>\n",
       "      <td>0</td>\n",
       "    </tr>\n",
       "    <tr>\n",
       "      <th>4</th>\n",
       "      <td>4</td>\n",
       "      <td>79879</td>\n",
       "      <td>0</td>\n",
       "    </tr>\n",
       "  </tbody>\n",
       "</table>\n",
       "</div>"
      ],
      "text/plain": [
       "   index      id  community_id\n",
       "0      0  153600             0\n",
       "1      1   75776             0\n",
       "2      2   59397             0\n",
       "3      3   18439             0\n",
       "4      4   79879             0"
      ]
     },
     "metadata": {},
     "output_type": "display_data"
    },
    {
     "name": "stdout",
     "output_type": "stream",
     "text": [
      "\n",
      "======NUMERICAL COL SUMMARY======\n",
      "              index             id  community_id\n",
      "count  83360.000000   83360.000000  83360.000000\n",
      "mean   18376.521557   88155.120250     26.944146\n",
      "std    27901.295573   51262.963776     12.463246\n",
      "min        0.000000       0.000000      0.000000\n",
      "25%     1894.000000   43611.750000     16.000000\n",
      "50%     3789.000000   87955.000000     32.000000\n",
      "75%    29453.250000  132334.250000     36.000000\n",
      "max    83359.000000  178262.000000     40.000000\n",
      "\n",
      "\n",
      "index: 30150 unique values\n",
      "id: 83360 unique values\n",
      "community_id: 38 unique values\n",
      "CPU times: user 26.8 ms, sys: 6.58 ms, total: 33.4 ms\n",
      "Wall time: 30.2 ms\n"
     ]
    }
   ],
   "source": [
    "%%time\n",
    "print(time.asctime(time.localtime(time.time())))\n",
    "asgn = pd.read_parquet('community_assignments_pctthresh-08_split.parquet') \\\n",
    "            .rename({'recipe_id': 'id'}, axis=1)\n",
    "summarize_df(asgn)"
   ]
  },
  {
   "cell_type": "code",
   "execution_count": 7,
   "id": "46acf85b",
   "metadata": {},
   "outputs": [],
   "source": [
    "all_recipes = recipes.merge(asgn, left_on='recipe_id', right_on='id', how='left')\n",
    "na_recipes = all_recipes[all_recipes['community_id'].isna()]"
   ]
  },
  {
   "cell_type": "code",
   "execution_count": 8,
   "id": "0dfbba00",
   "metadata": {},
   "outputs": [
    {
     "name": "stdout",
     "output_type": "stream",
     "text": [
      "Sun Apr 17 20:41:49 2022\n",
      "CPU times: user 2min 9s, sys: 1min 22s, total: 3min 31s\n",
      "Wall time: 3min 47s\n"
     ]
    }
   ],
   "source": [
    "%%time\n",
    "print(time.asctime(time.localtime(time.time())))\n",
    "top_pairs_1 = shared_users.merge(asgn, left_on='recipe_id_2', right_on='id') \\\n",
    "                    .sort_values(by=['recipe_id', 'pct_users'], ascending=False) \\\n",
    "                    .drop('id', axis=1) \\\n",
    "                    .groupby('recipe_id').head(10)\n",
    "top_pairs_2 = shared_users.merge(asgn, left_on='recipe_id', right_on='id') \\\n",
    "                    .sort_values(by=['recipe_id_2', 'pct_users'], ascending=False) \\\n",
    "                    .drop('id', axis=1) \\\n",
    "                    .groupby('recipe_id_2').head(10)\n",
    "top_pairs = pd.concat([top_pairs_1, top_pairs_2.rename({'recipe_id_2':'recipe_id', 'recipe_id':'recipe_id_2'}, axis=1)]) \\\n",
    "                    .groupby(['recipe_id', 'recipe_id_2', 'pct_users']).first().reset_index()"
   ]
  },
  {
   "cell_type": "code",
   "execution_count": 9,
   "id": "755c9af4",
   "metadata": {},
   "outputs": [
    {
     "name": "stdout",
     "output_type": "stream",
     "text": [
      "Sun Apr 17 20:45:37 2022\n",
      "CPU times: user 292 ms, sys: 98.3 ms, total: 390 ms\n",
      "Wall time: 390 ms\n"
     ]
    }
   ],
   "source": [
    "%%time\n",
    "print(time.asctime(time.localtime(time.time())))\n",
    "nearest_10 = top_pairs[['recipe_id', 'community_id', 'recipe_id_2']].groupby(['recipe_id', 'community_id']).count() \\\n",
    "                                                    .reset_index() \\\n",
    "                                                    .sort_values(by='recipe_id_2', ascending=False) \\\n",
    "                                                    .drop('recipe_id_2', axis=1) \\\n",
    "                                                    .groupby('recipe_id').first().reset_index()"
   ]
  },
  {
   "cell_type": "code",
   "execution_count": 10,
   "id": "71ab1a1c",
   "metadata": {},
   "outputs": [],
   "source": [
    "na_asgn = na_recipes.merge(nearest_10, on='recipe_id') \\\n",
    "                            .rename({'community_id_y':'community_id'}, axis=1) \\\n",
    "                            .drop(['community_id_x', 'id'],axis=1)"
   ]
  },
  {
   "cell_type": "code",
   "execution_count": 11,
   "id": "f8d218e8",
   "metadata": {},
   "outputs": [],
   "source": [
    "gapfill_asgn = pd.concat([all_recipes[~all_recipes['community_id'].isna()].drop('id', axis=1).astype({'community_id':'int64'}),na_asgn])"
   ]
  },
  {
   "cell_type": "code",
   "execution_count": 12,
   "id": "ce7c46de",
   "metadata": {},
   "outputs": [
    {
     "name": "stdout",
     "output_type": "stream",
     "text": [
      "(85519, 3)\n",
      "(85519, 4)\n"
     ]
    }
   ],
   "source": [
    "# Confirm samesize db out\n",
    "print(gapfill_asgn.shape)\n",
    "print(all_recipes.shape)"
   ]
  },
  {
   "cell_type": "code",
   "execution_count": 13,
   "id": "a8d891ef",
   "metadata": {},
   "outputs": [
    {
     "data": {
      "text/plain": [
       "83360"
      ]
     },
     "execution_count": 13,
     "metadata": {},
     "output_type": "execute_result"
    }
   ],
   "source": [
    "len(asgn['id'].unique())"
   ]
  },
  {
   "cell_type": "code",
   "execution_count": 14,
   "id": "2c170ec2",
   "metadata": {},
   "outputs": [
    {
     "data": {
      "text/plain": [
       "85519"
      ]
     },
     "execution_count": 14,
     "metadata": {},
     "output_type": "execute_result"
    }
   ],
   "source": [
    "len(gapfill_asgn['recipe_id'].unique())"
   ]
  },
  {
   "cell_type": "code",
   "execution_count": 15,
   "id": "5a22fa22",
   "metadata": {},
   "outputs": [
    {
     "name": "stdout",
     "output_type": "stream",
     "text": [
      "Mon Apr 11 16:53:13 2022\n",
      "CPU times: user 25.2 ms, sys: 16.8 ms, total: 42 ms\n",
      "Wall time: 52.9 ms\n"
     ]
    }
   ],
   "source": [
    "%%time\n",
    "print(time.asctime(time.localtime(time.time())))\n",
    "gapfill_asgn[['recipe_id', 'community_id']].to_parquet('community_assignments_pctthresh-08_split_filled.parquet')"
   ]
  },
  {
   "cell_type": "code",
   "execution_count": 17,
   "id": "6051fcb0",
   "metadata": {},
   "outputs": [],
   "source": [
    "gapfill_asgn_gb = gapfill_asgn[['recipe_id', 'community_id']].groupby('community_id', as_index=False).count() \\\n",
    "                                                                .rename({'recipe_id':'count'}, axis=1)"
   ]
  },
  {
   "cell_type": "code",
   "execution_count": 19,
   "id": "4fb1e628",
   "metadata": {},
   "outputs": [],
   "source": [
    "gapfill_asgn_gb.to_csv('node_sizes.csv')"
   ]
  },
  {
   "cell_type": "code",
   "execution_count": 24,
   "id": "d416ee12",
   "metadata": {},
   "outputs": [],
   "source": [
    "gapfill_asgn_gb_filt = gapfill_asgn_gb[gapfill_asgn_gb['count'] > 40]"
   ]
  },
  {
   "cell_type": "code",
   "execution_count": 28,
   "id": "4a7988a5",
   "metadata": {},
   "outputs": [],
   "source": [
    "gapfill_asgn_filt = gapfill_asgn.merge(gapfill_asgn_gb_filt[['community_id']], on='community_id', how='inner')"
   ]
  },
  {
   "cell_type": "code",
   "execution_count": 31,
   "id": "d515adaa",
   "metadata": {},
   "outputs": [
    {
     "name": "stdout",
     "output_type": "stream",
     "text": [
      "Sun Apr 17 21:09:57 2022\n",
      "CPU times: user 31.7 ms, sys: 12.2 ms, total: 43.9 ms\n",
      "Wall time: 42.5 ms\n"
     ]
    }
   ],
   "source": [
    "%%time\n",
    "print(time.asctime(time.localtime(time.time())))\n",
    "gapfill_asgn_filt[['recipe_id', 'community_id']].to_parquet('../05_RecipeExplorationTool/data/community_assignments_pctthresh-08_split_filled_filter.parquet')"
   ]
  }
 ],
 "metadata": {
  "kernelspec": {
   "display_name": "CSE 6242 Project Graph",
   "language": "python",
   "name": "cse6242-project-graph"
  },
  "language_info": {
   "codemirror_mode": {
    "name": "ipython",
    "version": 3
   },
   "file_extension": ".py",
   "mimetype": "text/x-python",
   "name": "python",
   "nbconvert_exporter": "python",
   "pygments_lexer": "ipython3",
   "version": "3.8.12"
  }
 },
 "nbformat": 4,
 "nbformat_minor": 5
}
