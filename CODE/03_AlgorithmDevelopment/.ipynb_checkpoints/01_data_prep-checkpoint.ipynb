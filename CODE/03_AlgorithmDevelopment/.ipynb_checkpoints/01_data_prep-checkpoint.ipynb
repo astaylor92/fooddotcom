{
 "cells": [
  {
   "cell_type": "markdown",
   "id": "2e72d9e3",
   "metadata": {},
   "source": [
    "# Community Detection\n",
    "\n",
    "<hr style=\"border:2px solid black\"> </hr>\n",
    "\n",
    "## Notebook 01 - Create dataset for ingestion into networkx\n",
    "\n",
    "Create a recipe graph with weighted edges based on users. Analyze the graph to detect user communities, and use the distance between communities to calculate similarity scoring.\n",
    "\n",
    "---\n",
    "\n",
    "### Import libraries"
   ]
  },
  {
   "cell_type": "code",
   "execution_count": 1,
   "id": "9a7ca3a1",
   "metadata": {},
   "outputs": [],
   "source": [
    "import matplotlib.pyplot as plt\n",
    "import pandas as pd\n",
    "import numpy as np\n",
    "import time\n",
    "import networkx as nx\n",
    "import networkx.algorithms.community as nx_comm\n",
    "import sys\n",
    "import scipy\n",
    "from node2vec import Node2Vec\n",
    "from sklearn.cluster import KMeans"
   ]
  },
  {
   "cell_type": "code",
   "execution_count": 2,
   "id": "cba60ed5",
   "metadata": {},
   "outputs": [],
   "source": [
    "def num_uniques(ser):\n",
    "    try:\n",
    "        return len(ser.unique())\n",
    "    except:\n",
    "        return \"Not unique check-able\""
   ]
  },
  {
   "cell_type": "code",
   "execution_count": 3,
   "id": "47743aac",
   "metadata": {},
   "outputs": [],
   "source": [
    "def summarize_df(df):\n",
    "    print(\"======DATA SUMMARY======\")\n",
    "    print(\"{} rows by {} columns\".format(df.shape[0], df.shape[1]))\n",
    "    print(\"\\n======COLUMNS======\")\n",
    "    print(df.dtypes)\n",
    "    print(\"\\n======PREVIEW======\")\n",
    "    display(df.head())\n",
    "    print(\"\\n======NUMERICAL COL SUMMARY======\")\n",
    "    print(df.describe())\n",
    "    print(\"\\n\")\n",
    "    for col in df.columns:\n",
    "        print(\"{}: {} unique values\".format(col, num_uniques(df[col])))"
   ]
  },
  {
   "cell_type": "markdown",
   "id": "56ee72a0",
   "metadata": {},
   "source": [
    "---\n",
    "### Import data"
   ]
  },
  {
   "cell_type": "code",
   "execution_count": 4,
   "id": "130dd946",
   "metadata": {},
   "outputs": [
    {
     "name": "stdout",
     "output_type": "stream",
     "text": [
      "======DATA SUMMARY======\n",
      "599009 rows by 2 columns\n",
      "\n",
      "======COLUMNS======\n",
      "user_id      int64\n",
      "recipe_id    int64\n",
      "dtype: object\n",
      "\n",
      "======PREVIEW======\n"
     ]
    },
    {
     "data": {
      "text/html": [
       "<div>\n",
       "<style scoped>\n",
       "    .dataframe tbody tr th:only-of-type {\n",
       "        vertical-align: middle;\n",
       "    }\n",
       "\n",
       "    .dataframe tbody tr th {\n",
       "        vertical-align: top;\n",
       "    }\n",
       "\n",
       "    .dataframe thead th {\n",
       "        text-align: right;\n",
       "    }\n",
       "</style>\n",
       "<table border=\"1\" class=\"dataframe\">\n",
       "  <thead>\n",
       "    <tr style=\"text-align: right;\">\n",
       "      <th></th>\n",
       "      <th>user_id</th>\n",
       "      <th>recipe_id</th>\n",
       "    </tr>\n",
       "  </thead>\n",
       "  <tbody>\n",
       "    <tr>\n",
       "      <th>0</th>\n",
       "      <td>0</td>\n",
       "      <td>1118</td>\n",
       "    </tr>\n",
       "    <tr>\n",
       "      <th>1</th>\n",
       "      <td>0</td>\n",
       "      <td>27680</td>\n",
       "    </tr>\n",
       "    <tr>\n",
       "      <th>2</th>\n",
       "      <td>0</td>\n",
       "      <td>32541</td>\n",
       "    </tr>\n",
       "    <tr>\n",
       "      <th>3</th>\n",
       "      <td>0</td>\n",
       "      <td>137353</td>\n",
       "    </tr>\n",
       "    <tr>\n",
       "      <th>4</th>\n",
       "      <td>0</td>\n",
       "      <td>16428</td>\n",
       "    </tr>\n",
       "  </tbody>\n",
       "</table>\n",
       "</div>"
      ],
      "text/plain": [
       "   user_id  recipe_id\n",
       "0        0       1118\n",
       "1        0      27680\n",
       "2        0      32541\n",
       "3        0     137353\n",
       "4        0      16428"
      ]
     },
     "metadata": {},
     "output_type": "display_data"
    },
    {
     "name": "stdout",
     "output_type": "stream",
     "text": [
      "\n",
      "======NUMERICAL COL SUMMARY======\n",
      "             user_id      recipe_id\n",
      "count  599009.000000  599009.000000\n",
      "mean     4450.979807   87765.758825\n",
      "std      5644.504991   51419.630852\n",
      "min         0.000000       0.000000\n",
      "25%       480.000000   43034.000000\n",
      "50%      1927.000000   87776.000000\n",
      "75%      6339.000000  132193.000000\n",
      "max     25075.000000  178262.000000\n",
      "\n",
      "\n",
      "user_id: 25006 unique values\n",
      "recipe_id: 85519 unique values\n"
     ]
    }
   ],
   "source": [
    "users = pd.read_csv('/Users/andrewtaylor/Georgia Institute of Technology/CSE6242_Spring_2022 - General/04-EDA&DataCleaning/Clean Data/users_in_count2_mean4.csv') \\\n",
    "            .drop('ratings', axis=1)\n",
    "summarize_df(users)"
   ]
  },
  {
   "cell_type": "markdown",
   "id": "3823c2b8",
   "metadata": {},
   "source": [
    "---\n",
    "### Join tables and calculate percentage of shared users"
   ]
  },
  {
   "cell_type": "code",
   "execution_count": 5,
   "id": "255253b4",
   "metadata": {},
   "outputs": [
    {
     "name": "stdout",
     "output_type": "stream",
     "text": [
      "Mon Apr 11 09:19:13 2022\n",
      "CPU times: user 2min 48s, sys: 1min 26s, total: 4min 15s\n",
      "Wall time: 4min 43s\n"
     ]
    }
   ],
   "source": [
    "%%time\n",
    "print(time.asctime(time.localtime(time.time())))\n",
    "# Create merged table with count of shared users\n",
    "shared_users = users.merge(users, on='user_id', suffixes=('', '_2')) \\\n",
    "                    .groupby(['recipe_id', 'recipe_id_2']) \\\n",
    "                    .agg({'user_id':'count'}) \\\n",
    "                    .rename({'user_id':'shared_count'}, axis=1) \\\n",
    "                    .reset_index()"
   ]
  },
  {
   "cell_type": "code",
   "execution_count": 6,
   "id": "eb28635b",
   "metadata": {},
   "outputs": [],
   "source": [
    "# Reduce dataset size by removing duplicate edges & self-joining edges\n",
    "shared_users = shared_users[shared_users['recipe_id'] < shared_users['recipe_id_2']]"
   ]
  },
  {
   "cell_type": "code",
   "execution_count": 7,
   "id": "9f57ef11",
   "metadata": {},
   "outputs": [
    {
     "name": "stdout",
     "output_type": "stream",
     "text": [
      "======DATA SUMMARY======\n",
      "118101546 rows by 3 columns\n",
      "\n",
      "======COLUMNS======\n",
      "recipe_id       int64\n",
      "recipe_id_2     int64\n",
      "shared_count    int64\n",
      "dtype: object\n",
      "\n",
      "======PREVIEW======\n"
     ]
    },
    {
     "data": {
      "text/html": [
       "<div>\n",
       "<style scoped>\n",
       "    .dataframe tbody tr th:only-of-type {\n",
       "        vertical-align: middle;\n",
       "    }\n",
       "\n",
       "    .dataframe tbody tr th {\n",
       "        vertical-align: top;\n",
       "    }\n",
       "\n",
       "    .dataframe thead th {\n",
       "        text-align: right;\n",
       "    }\n",
       "</style>\n",
       "<table border=\"1\" class=\"dataframe\">\n",
       "  <thead>\n",
       "    <tr style=\"text-align: right;\">\n",
       "      <th></th>\n",
       "      <th>recipe_id</th>\n",
       "      <th>recipe_id_2</th>\n",
       "      <th>shared_count</th>\n",
       "    </tr>\n",
       "  </thead>\n",
       "  <tbody>\n",
       "    <tr>\n",
       "      <th>1</th>\n",
       "      <td>0</td>\n",
       "      <td>1118</td>\n",
       "      <td>1</td>\n",
       "    </tr>\n",
       "    <tr>\n",
       "      <th>2</th>\n",
       "      <td>0</td>\n",
       "      <td>4446</td>\n",
       "      <td>1</td>\n",
       "    </tr>\n",
       "    <tr>\n",
       "      <th>3</th>\n",
       "      <td>0</td>\n",
       "      <td>5904</td>\n",
       "      <td>1</td>\n",
       "    </tr>\n",
       "    <tr>\n",
       "      <th>4</th>\n",
       "      <td>0</td>\n",
       "      <td>11190</td>\n",
       "      <td>1</td>\n",
       "    </tr>\n",
       "    <tr>\n",
       "      <th>5</th>\n",
       "      <td>0</td>\n",
       "      <td>15142</td>\n",
       "      <td>1</td>\n",
       "    </tr>\n",
       "  </tbody>\n",
       "</table>\n",
       "</div>"
      ],
      "text/plain": [
       "   recipe_id  recipe_id_2  shared_count\n",
       "1          0         1118             1\n",
       "2          0         4446             1\n",
       "3          0         5904             1\n",
       "4          0        11190             1\n",
       "5          0        15142             1"
      ]
     },
     "metadata": {},
     "output_type": "display_data"
    },
    {
     "name": "stdout",
     "output_type": "stream",
     "text": [
      "\n",
      "======NUMERICAL COL SUMMARY======\n",
      "          recipe_id   recipe_id_2  shared_count\n",
      "count  1.181015e+08  1.181015e+08  1.181015e+08\n",
      "mean   5.919704e+04  1.186249e+05  1.084047e+00\n",
      "std    4.195803e+04  4.210507e+04  4.472578e-01\n",
      "min    0.000000e+00  1.400000e+01  1.000000e+00\n",
      "25%    2.388100e+04  8.900700e+04  1.000000e+00\n",
      "50%    5.175700e+04  1.260040e+05  1.000000e+00\n",
      "75%    8.903400e+04  1.541630e+05  1.000000e+00\n",
      "max    1.782560e+05  1.782620e+05  1.830000e+02\n",
      "\n",
      "\n",
      "recipe_id: 85366 unique values\n",
      "recipe_id_2: 85345 unique values\n",
      "shared_count: 116 unique values\n"
     ]
    }
   ],
   "source": [
    "summarize_df(shared_users)"
   ]
  },
  {
   "cell_type": "code",
   "execution_count": 8,
   "id": "1b79e051",
   "metadata": {},
   "outputs": [
    {
     "name": "stdout",
     "output_type": "stream",
     "text": [
      "Mon Apr 11 09:24:37 2022\n",
      "CPU times: user 39.7 ms, sys: 21.6 ms, total: 61.2 ms\n",
      "Wall time: 68.9 ms\n"
     ]
    }
   ],
   "source": [
    "%%time\n",
    "print(time.asctime(time.localtime(time.time())))\n",
    "# Create table with count of total users for each recipe\n",
    "recipe_counts = users.groupby('recipe_id') \\\n",
    "                        .agg({'user_id':'count'}) \\\n",
    "                        .rename({'user_id':'recipe_count'}, axis=1)"
   ]
  },
  {
   "cell_type": "code",
   "execution_count": 9,
   "id": "4fc5e22f",
   "metadata": {},
   "outputs": [
    {
     "name": "stdout",
     "output_type": "stream",
     "text": [
      "======DATA SUMMARY======\n",
      "85519 rows by 1 columns\n",
      "\n",
      "======COLUMNS======\n",
      "recipe_count    int64\n",
      "dtype: object\n",
      "\n",
      "======PREVIEW======\n"
     ]
    },
    {
     "data": {
      "text/html": [
       "<div>\n",
       "<style scoped>\n",
       "    .dataframe tbody tr th:only-of-type {\n",
       "        vertical-align: middle;\n",
       "    }\n",
       "\n",
       "    .dataframe tbody tr th {\n",
       "        vertical-align: top;\n",
       "    }\n",
       "\n",
       "    .dataframe thead th {\n",
       "        text-align: right;\n",
       "    }\n",
       "</style>\n",
       "<table border=\"1\" class=\"dataframe\">\n",
       "  <thead>\n",
       "    <tr style=\"text-align: right;\">\n",
       "      <th></th>\n",
       "      <th>recipe_count</th>\n",
       "    </tr>\n",
       "    <tr>\n",
       "      <th>recipe_id</th>\n",
       "      <th></th>\n",
       "    </tr>\n",
       "  </thead>\n",
       "  <tbody>\n",
       "    <tr>\n",
       "      <th>0</th>\n",
       "      <td>2</td>\n",
       "    </tr>\n",
       "    <tr>\n",
       "      <th>2</th>\n",
       "      <td>2</td>\n",
       "    </tr>\n",
       "    <tr>\n",
       "      <th>4</th>\n",
       "      <td>2</td>\n",
       "    </tr>\n",
       "    <tr>\n",
       "      <th>5</th>\n",
       "      <td>3</td>\n",
       "    </tr>\n",
       "    <tr>\n",
       "      <th>7</th>\n",
       "      <td>15</td>\n",
       "    </tr>\n",
       "  </tbody>\n",
       "</table>\n",
       "</div>"
      ],
      "text/plain": [
       "           recipe_count\n",
       "recipe_id              \n",
       "0                     2\n",
       "2                     2\n",
       "4                     2\n",
       "5                     3\n",
       "7                    15"
      ]
     },
     "metadata": {},
     "output_type": "display_data"
    },
    {
     "name": "stdout",
     "output_type": "stream",
     "text": [
      "\n",
      "======NUMERICAL COL SUMMARY======\n",
      "       recipe_count\n",
      "count  85519.000000\n",
      "mean       7.004397\n",
      "std       17.920144\n",
      "min        2.000000\n",
      "25%        2.000000\n",
      "50%        3.000000\n",
      "75%        6.000000\n",
      "max     1091.000000\n",
      "\n",
      "\n",
      "recipe_count: 269 unique values\n"
     ]
    }
   ],
   "source": [
    "summarize_df(recipe_counts)"
   ]
  },
  {
   "cell_type": "code",
   "execution_count": 10,
   "id": "65710231",
   "metadata": {},
   "outputs": [
    {
     "name": "stdout",
     "output_type": "stream",
     "text": [
      "Mon Apr 11 09:24:37 2022\n",
      "CPU times: user 32.1 s, sys: 28.7 s, total: 1min\n",
      "Wall time: 55.1 s\n"
     ]
    }
   ],
   "source": [
    "%%time\n",
    "print(time.asctime(time.localtime(time.time())))\n",
    "# Join in individual counts and calculate percentage of users\n",
    "shared_users = shared_users.merge(recipe_counts, left_on='recipe_id', right_on='recipe_id') \\\n",
    "                            .merge(recipe_counts, left_on='recipe_id_2', right_on='recipe_id', suffixes=('', '_2'))\n",
    "shared_users['pct_users'] = shared_users['shared_count'] / (shared_users['recipe_count'] + shared_users['recipe_count_2'] - 1)"
   ]
  },
  {
   "cell_type": "code",
   "execution_count": 11,
   "id": "974739a5",
   "metadata": {},
   "outputs": [
    {
     "name": "stdout",
     "output_type": "stream",
     "text": [
      "======DATA SUMMARY======\n",
      "118101546 rows by 6 columns\n",
      "\n",
      "======COLUMNS======\n",
      "recipe_id           int64\n",
      "recipe_id_2         int64\n",
      "shared_count        int64\n",
      "recipe_count        int64\n",
      "recipe_count_2      int64\n",
      "pct_users         float64\n",
      "dtype: object\n",
      "\n",
      "======PREVIEW======\n"
     ]
    },
    {
     "data": {
      "text/html": [
       "<div>\n",
       "<style scoped>\n",
       "    .dataframe tbody tr th:only-of-type {\n",
       "        vertical-align: middle;\n",
       "    }\n",
       "\n",
       "    .dataframe tbody tr th {\n",
       "        vertical-align: top;\n",
       "    }\n",
       "\n",
       "    .dataframe thead th {\n",
       "        text-align: right;\n",
       "    }\n",
       "</style>\n",
       "<table border=\"1\" class=\"dataframe\">\n",
       "  <thead>\n",
       "    <tr style=\"text-align: right;\">\n",
       "      <th></th>\n",
       "      <th>recipe_id</th>\n",
       "      <th>recipe_id_2</th>\n",
       "      <th>shared_count</th>\n",
       "      <th>recipe_count</th>\n",
       "      <th>recipe_count_2</th>\n",
       "      <th>pct_users</th>\n",
       "    </tr>\n",
       "  </thead>\n",
       "  <tbody>\n",
       "    <tr>\n",
       "      <th>0</th>\n",
       "      <td>0</td>\n",
       "      <td>1118</td>\n",
       "      <td>1</td>\n",
       "      <td>2</td>\n",
       "      <td>5</td>\n",
       "      <td>0.166667</td>\n",
       "    </tr>\n",
       "    <tr>\n",
       "      <th>1</th>\n",
       "      <td>60</td>\n",
       "      <td>1118</td>\n",
       "      <td>1</td>\n",
       "      <td>4</td>\n",
       "      <td>5</td>\n",
       "      <td>0.125000</td>\n",
       "    </tr>\n",
       "    <tr>\n",
       "      <th>2</th>\n",
       "      <td>1066</td>\n",
       "      <td>1118</td>\n",
       "      <td>1</td>\n",
       "      <td>2</td>\n",
       "      <td>5</td>\n",
       "      <td>0.166667</td>\n",
       "    </tr>\n",
       "    <tr>\n",
       "      <th>3</th>\n",
       "      <td>1086</td>\n",
       "      <td>1118</td>\n",
       "      <td>1</td>\n",
       "      <td>6</td>\n",
       "      <td>5</td>\n",
       "      <td>0.100000</td>\n",
       "    </tr>\n",
       "    <tr>\n",
       "      <th>4</th>\n",
       "      <td>0</td>\n",
       "      <td>4446</td>\n",
       "      <td>1</td>\n",
       "      <td>2</td>\n",
       "      <td>14</td>\n",
       "      <td>0.066667</td>\n",
       "    </tr>\n",
       "  </tbody>\n",
       "</table>\n",
       "</div>"
      ],
      "text/plain": [
       "   recipe_id  recipe_id_2  shared_count  recipe_count  recipe_count_2  \\\n",
       "0          0         1118             1             2               5   \n",
       "1         60         1118             1             4               5   \n",
       "2       1066         1118             1             2               5   \n",
       "3       1086         1118             1             6               5   \n",
       "4          0         4446             1             2              14   \n",
       "\n",
       "   pct_users  \n",
       "0   0.166667  \n",
       "1   0.125000  \n",
       "2   0.166667  \n",
       "3   0.100000  \n",
       "4   0.066667  "
      ]
     },
     "metadata": {},
     "output_type": "display_data"
    },
    {
     "name": "stdout",
     "output_type": "stream",
     "text": [
      "\n",
      "======NUMERICAL COL SUMMARY======\n",
      "          recipe_id   recipe_id_2  shared_count  recipe_count  recipe_count_2  \\\n",
      "count  1.181015e+08  1.181015e+08  1.181015e+08  1.181015e+08    1.181015e+08   \n",
      "mean   5.919704e+04  1.186249e+05  1.084047e+00  1.775030e+01    1.761069e+01   \n",
      "std    4.195803e+04  4.210507e+04  4.472578e-01  4.875553e+01    5.218852e+01   \n",
      "min    0.000000e+00  1.400000e+01  1.000000e+00  2.000000e+00    2.000000e+00   \n",
      "25%    2.388100e+04  8.900700e+04  1.000000e+00  3.000000e+00    3.000000e+00   \n",
      "50%    5.175700e+04  1.260040e+05  1.000000e+00  6.000000e+00    6.000000e+00   \n",
      "75%    8.903400e+04  1.541630e+05  1.000000e+00  1.300000e+01    1.300000e+01   \n",
      "max    1.782560e+05  1.782620e+05  1.830000e+02  1.091000e+03    1.091000e+03   \n",
      "\n",
      "          pct_users  \n",
      "count  1.181015e+08  \n",
      "mean   8.935996e-02  \n",
      "std    7.323516e-02  \n",
      "min    8.756567e-04  \n",
      "25%    3.571429e-02  \n",
      "50%    7.142857e-02  \n",
      "75%    1.250000e-01  \n",
      "max    6.666667e-01  \n",
      "\n",
      "\n",
      "recipe_id: 85366 unique values\n",
      "recipe_id_2: 85345 unique values\n",
      "shared_count: 116 unique values\n",
      "recipe_count: 269 unique values\n",
      "recipe_count_2: 269 unique values\n",
      "pct_users: 12414 unique values\n"
     ]
    }
   ],
   "source": [
    "summarize_df(shared_users)"
   ]
  },
  {
   "cell_type": "markdown",
   "id": "0df2a0e5",
   "metadata": {},
   "source": [
    "---\n",
    "### Determine potential user count threshold"
   ]
  },
  {
   "cell_type": "code",
   "execution_count": 13,
   "id": "0227d710",
   "metadata": {},
   "outputs": [
    {
     "data": {
      "text/plain": [
       "<AxesSubplot:ylabel='Frequency'>"
      ]
     },
     "execution_count": 13,
     "metadata": {},
     "output_type": "execute_result"
    },
    {
     "data": {
      "image/png": "[encoded data removed]",
      "text/plain": [
       "<Figure size 432x288 with 1 Axes>"
      ]
     },
     "metadata": {
      "needs_background": "light"
     },
     "output_type": "display_data"
    }
   ],
   "source": [
    "# Histo\n",
    "shared_users['shared_count'].plot.hist(bins=50)"
   ]
  },
  {
   "cell_type": "markdown",
   "id": "8444b817",
   "metadata": {},
   "source": [
    "It appears the only option is 1"
   ]
  },
  {
   "cell_type": "code",
   "execution_count": 15,
   "id": "6c850444",
   "metadata": {},
   "outputs": [
    {
     "name": "stdout",
     "output_type": "stream",
     "text": [
      "======DATA SUMMARY======\n",
      "7465403 rows by 6 columns\n",
      "\n",
      "======COLUMNS======\n",
      "recipe_id           int64\n",
      "recipe_id_2         int64\n",
      "shared_count        int64\n",
      "recipe_count        int64\n",
      "recipe_count_2      int64\n",
      "pct_users         float64\n",
      "dtype: object\n",
      "\n",
      "======PREVIEW======\n"
     ]
    },
    {
     "data": {
      "text/html": [
       "<div>\n",
       "<style scoped>\n",
       "    .dataframe tbody tr th:only-of-type {\n",
       "        vertical-align: middle;\n",
       "    }\n",
       "\n",
       "    .dataframe tbody tr th {\n",
       "        vertical-align: top;\n",
       "    }\n",
       "\n",
       "    .dataframe thead th {\n",
       "        text-align: right;\n",
       "    }\n",
       "</style>\n",
       "<table border=\"1\" class=\"dataframe\">\n",
       "  <thead>\n",
       "    <tr style=\"text-align: right;\">\n",
       "      <th></th>\n",
       "      <th>recipe_id</th>\n",
       "      <th>recipe_id_2</th>\n",
       "      <th>shared_count</th>\n",
       "      <th>recipe_count</th>\n",
       "      <th>recipe_count_2</th>\n",
       "      <th>pct_users</th>\n",
       "    </tr>\n",
       "  </thead>\n",
       "  <tbody>\n",
       "    <tr>\n",
       "      <th>112</th>\n",
       "      <td>2949</td>\n",
       "      <td>5904</td>\n",
       "      <td>3</td>\n",
       "      <td>256</td>\n",
       "      <td>25</td>\n",
       "      <td>0.010714</td>\n",
       "    </tr>\n",
       "    <tr>\n",
       "      <th>209</th>\n",
       "      <td>903</td>\n",
       "      <td>15142</td>\n",
       "      <td>2</td>\n",
       "      <td>79</td>\n",
       "      <td>13</td>\n",
       "      <td>0.021978</td>\n",
       "    </tr>\n",
       "    <tr>\n",
       "      <th>210</th>\n",
       "      <td>946</td>\n",
       "      <td>15142</td>\n",
       "      <td>2</td>\n",
       "      <td>249</td>\n",
       "      <td>13</td>\n",
       "      <td>0.007663</td>\n",
       "    </tr>\n",
       "    <tr>\n",
       "      <th>214</th>\n",
       "      <td>1113</td>\n",
       "      <td>15142</td>\n",
       "      <td>2</td>\n",
       "      <td>17</td>\n",
       "      <td>13</td>\n",
       "      <td>0.068966</td>\n",
       "    </tr>\n",
       "    <tr>\n",
       "      <th>223</th>\n",
       "      <td>1504</td>\n",
       "      <td>15142</td>\n",
       "      <td>2</td>\n",
       "      <td>15</td>\n",
       "      <td>13</td>\n",
       "      <td>0.074074</td>\n",
       "    </tr>\n",
       "  </tbody>\n",
       "</table>\n",
       "</div>"
      ],
      "text/plain": [
       "     recipe_id  recipe_id_2  shared_count  recipe_count  recipe_count_2  \\\n",
       "112       2949         5904             3           256              25   \n",
       "209        903        15142             2            79              13   \n",
       "210        946        15142             2           249              13   \n",
       "214       1113        15142             2            17              13   \n",
       "223       1504        15142             2            15              13   \n",
       "\n",
       "     pct_users  \n",
       "112   0.010714  \n",
       "209   0.021978  \n",
       "210   0.007663  \n",
       "214   0.068966  \n",
       "223   0.074074  "
      ]
     },
     "metadata": {},
     "output_type": "display_data"
    },
    {
     "name": "stdout",
     "output_type": "stream",
     "text": [
      "\n",
      "======NUMERICAL COL SUMMARY======\n",
      "          recipe_id   recipe_id_2  shared_count  recipe_count  recipe_count_2  \\\n",
      "count  7.465403e+06  7.465403e+06  7.465403e+06  7.465403e+06    7.465403e+06   \n",
      "mean   5.894039e+04  1.184377e+05  2.329604e+00  4.824399e+01    4.924792e+01   \n",
      "std    4.192853e+04  4.225706e+04  1.228209e+00  1.012047e+02    1.116337e+02   \n",
      "min    2.000000e+00  1.090000e+02  2.000000e+00  2.000000e+00    2.000000e+00   \n",
      "25%    2.399200e+04  8.893900e+04  2.000000e+00  7.000000e+00    7.000000e+00   \n",
      "50%    5.150800e+04  1.261200e+05  2.000000e+00  1.500000e+01    1.500000e+01   \n",
      "75%    8.891900e+04  1.539760e+05  2.000000e+00  4.100000e+01    3.900000e+01   \n",
      "max    1.782240e+05  1.782620e+05  1.830000e+02  1.091000e+03    1.091000e+03   \n",
      "\n",
      "          pct_users  \n",
      "count  7.465403e+06  \n",
      "mean   7.659172e-02  \n",
      "std    7.397382e-02  \n",
      "min    1.725626e-03  \n",
      "25%    2.097902e-02  \n",
      "50%    5.555556e-02  \n",
      "75%    1.111111e-01  \n",
      "max    6.666667e-01  \n",
      "\n",
      "\n",
      "recipe_id: 66286 unique values\n",
      "recipe_id_2: 66192 unique values\n",
      "shared_count: 115 unique values\n",
      "recipe_count: 269 unique values\n",
      "recipe_count_2: 269 unique values\n",
      "pct_users: 11953 unique values\n"
     ]
    }
   ],
   "source": [
    "summarize_df(shared_users[shared_users['shared_count'] >= 2])"
   ]
  },
  {
   "cell_type": "markdown",
   "id": "caf54de4",
   "metadata": {},
   "source": [
    "---\n",
    "Determine potential percentage of users threshold"
   ]
  },
  {
   "cell_type": "code",
   "execution_count": 14,
   "id": "655d63b9",
   "metadata": {},
   "outputs": [
    {
     "data": {
      "text/plain": [
       "<AxesSubplot:ylabel='Frequency'>"
      ]
     },
     "execution_count": 14,
     "metadata": {},
     "output_type": "execute_result"
    },
    {
     "data": {
      "image/png": "[encoded data removed]",
      "text/plain": [
       "<Figure size 432x288 with 1 Axes>"
      ]
     },
     "metadata": {
      "needs_background": "light"
     },
     "output_type": "display_data"
    }
   ],
   "source": [
    "# Determine potential pct users threshold\n",
    "shared_users['pct_users'].plot.hist(bins=50)"
   ]
  },
  {
   "cell_type": "code",
   "execution_count": 26,
   "id": "6dbcdc5c",
   "metadata": {},
   "outputs": [
    {
     "name": "stdout",
     "output_type": "stream",
     "text": [
      "A threshold of 0.01 reduces the row count to 111330246, 94.27% of original\n",
      "A threshold of 0.02 reduces the row count to 102116807, 86.47% of original\n",
      "A threshold of 0.03 reduces the row count to 93510647, 79.18% of original\n",
      "A threshold of 0.04 reduces the row count to 85122761, 72.08% of original\n",
      "A threshold of 0.05 reduces the row count to 76884968, 65.10% of original\n",
      "A threshold of 0.060000000000000005 reduces the row count to 66917889, 56.66% of original\n",
      "A threshold of 0.06999999999999999 reduces the row count to 60157677, 50.94% of original\n",
      "A threshold of 0.08 reduces the row count to 52207652, 44.21% of original\n",
      "A threshold of 0.09 reduces the row count to 47468859, 40.19% of original\n",
      "A threshold of 0.09999999999999999 reduces the row count to 42407536, 35.91% of original\n"
     ]
    }
   ],
   "source": [
    "thresholds = np.arange(0.01, .11, .01)\n",
    "orig_len = shared_users.shape[0]\n",
    "for thresh in thresholds:\n",
    "    new_len = shared_users[shared_users['pct_users'] >= thresh].shape[0]\n",
    "    print(\"A threshold of {} reduces the row count to {}, {:.2%} of original\".format(thresh, new_len, new_len/orig_len))"
   ]
  },
  {
   "cell_type": "code",
   "execution_count": 12,
   "id": "d03e247c",
   "metadata": {},
   "outputs": [],
   "source": [
    "# Write out full file\n",
    "shared_users[['recipe_id', 'recipe_id_2', 'pct_users']].to_parquet('/Users/andrewtaylor/Georgia Institute of Technology/CSE6242_Spring_2022 - General/05-AlgoDevelopment/community_detection/clustering_data_filtered')"
   ]
  },
  {
   "cell_type": "code",
   "execution_count": 27,
   "id": "0e305bd0",
   "metadata": {},
   "outputs": [],
   "source": [
    "# Write out file considering only more than 2 users\n",
    "shared_users[shared_users['shared_count'] >= 2][['recipe_id', 'recipe_id_2', 'pct_users']].to_parquet('/Users/andrewtaylor/Georgia Institute of Technology/CSE6242_Spring_2022 - General/05-AlgoDevelopment/community_detection/clustering_data_filtered_numthresh-2')"
   ]
  },
  {
   "cell_type": "code",
   "execution_count": 28,
   "id": "4dec62a1",
   "metadata": {},
   "outputs": [],
   "source": [
    "# Write out file considering percentage threshold of 8%\n",
    "shared_users[shared_users['pct_users'] >= 0.08][['recipe_id', 'recipe_id_2', 'pct_users']].to_parquet('/Users/andrewtaylor/Georgia Institute of Technology/CSE6242_Spring_2022 - General/05-AlgoDevelopment/community_detection/clustering_data_filtered_pctthresh-08')"
   ]
  }
 ],
 "metadata": {
  "kernelspec": {
   "display_name": "CSE 6242 Project Final",
   "language": "python",
   "name": "cse6242-project-final"
  },
  "language_info": {
   "codemirror_mode": {
    "name": "ipython",
    "version": 3
   },
   "file_extension": ".py",
   "mimetype": "text/x-python",
   "name": "python",
   "nbconvert_exporter": "python",
   "pygments_lexer": "ipython3",
   "version": "3.9.12"
  }
 },
 "nbformat": 4,
 "nbformat_minor": 5
}
