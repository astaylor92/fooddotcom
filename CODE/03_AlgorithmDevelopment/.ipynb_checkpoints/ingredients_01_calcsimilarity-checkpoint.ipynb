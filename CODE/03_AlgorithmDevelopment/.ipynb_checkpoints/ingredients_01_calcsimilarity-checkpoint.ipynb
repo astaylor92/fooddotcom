{
 "cells": [
  {
   "cell_type": "code",
   "execution_count": 1,
   "metadata": {},
   "outputs": [],
   "source": [
    "import pandas as pd\n",
    "import gensim\n",
    "from gensim.models import Word2Vec\n",
    "import re\n",
    "import numpy as np\n",
    "import statistics\n",
    "import math"
   ]
  },
  {
   "cell_type": "markdown",
   "metadata": {},
   "source": [
    "### Ingredient Similarity\n",
    "### Reading file recipes_in into a dataframe 'recipes_in'"
   ]
  },
  {
   "cell_type": "code",
   "execution_count": 29,
   "metadata": {},
   "outputs": [
    {
     "data": {
      "text/html": [
       "<div>\n",
       "<style scoped>\n",
       "    .dataframe tbody tr th:only-of-type {\n",
       "        vertical-align: middle;\n",
       "    }\n",
       "\n",
       "    .dataframe tbody tr th {\n",
       "        vertical-align: top;\n",
       "    }\n",
       "\n",
       "    .dataframe thead th {\n",
       "        text-align: right;\n",
       "    }\n",
       "</style>\n",
       "<table border=\"1\" class=\"dataframe\">\n",
       "  <thead>\n",
       "    <tr style=\"text-align: right;\">\n",
       "      <th></th>\n",
       "      <th>nutrition</th>\n",
       "      <th>minutes</th>\n",
       "      <th>techniques</th>\n",
       "      <th>cuisine</th>\n",
       "      <th>meal_of_day</th>\n",
       "      <th>ingredients</th>\n",
       "    </tr>\n",
       "    <tr>\n",
       "      <th>recipe_id</th>\n",
       "      <th></th>\n",
       "      <th></th>\n",
       "      <th></th>\n",
       "      <th></th>\n",
       "      <th></th>\n",
       "      <th></th>\n",
       "    </tr>\n",
       "  </thead>\n",
       "  <tbody>\n",
       "    <tr>\n",
       "      <th>137739</th>\n",
       "      <td>{'calories': 51.5, 'carbohydrates': 4.0, 'prot...</td>\n",
       "      <td>55</td>\n",
       "      <td>{'bake': 1, 'barbecue': 0, 'blanch': 0, 'blend...</td>\n",
       "      <td>north-american</td>\n",
       "      <td>side-dishes</td>\n",
       "      <td>[winter squash, mexican seasoning, mixed spice...</td>\n",
       "    </tr>\n",
       "    <tr>\n",
       "      <th>31490</th>\n",
       "      <td>{'calories': 173.4, 'carbohydrates': 1.0, 'pro...</td>\n",
       "      <td>30</td>\n",
       "      <td>{'bake': 1, 'barbecue': 0, 'blanch': 0, 'blend...</td>\n",
       "      <td>north-american</td>\n",
       "      <td>breakfast</td>\n",
       "      <td>[prepared pizza crust, sausage patty, eggs, mi...</td>\n",
       "    </tr>\n",
       "    <tr>\n",
       "      <th>112140</th>\n",
       "      <td>{'calories': 269.8, 'carbohydrates': 5.0, 'pro...</td>\n",
       "      <td>130</td>\n",
       "      <td>{'bake': 0, 'barbecue': 0, 'blanch': 0, 'blend...</td>\n",
       "      <td>NO CUISINE</td>\n",
       "      <td>main-dish</td>\n",
       "      <td>[ground beef, yellow onions, diced tomatoes, t...</td>\n",
       "    </tr>\n",
       "    <tr>\n",
       "      <th>59389</th>\n",
       "      <td>{'calories': 368.1, 'carbohydrates': 20.0, 'pr...</td>\n",
       "      <td>45</td>\n",
       "      <td>{'bake': 1, 'barbecue': 0, 'blanch': 0, 'blend...</td>\n",
       "      <td>NO CUISINE</td>\n",
       "      <td>side-dishes</td>\n",
       "      <td>[spreadable cheese with garlic and herbs, new ...</td>\n",
       "    </tr>\n",
       "    <tr>\n",
       "      <th>44061</th>\n",
       "      <td>{'calories': 352.9, 'carbohydrates': 28.0, 'pr...</td>\n",
       "      <td>190</td>\n",
       "      <td>{'bake': 0, 'barbecue': 0, 'blanch': 0, 'blend...</td>\n",
       "      <td>north-american</td>\n",
       "      <td>NO MEAL</td>\n",
       "      <td>[tomato juice, apple cider vinegar, sugar, sal...</td>\n",
       "    </tr>\n",
       "  </tbody>\n",
       "</table>\n",
       "</div>"
      ],
      "text/plain": [
       "                                                   nutrition  minutes  \\\n",
       "recipe_id                                                               \n",
       "137739     {'calories': 51.5, 'carbohydrates': 4.0, 'prot...       55   \n",
       "31490      {'calories': 173.4, 'carbohydrates': 1.0, 'pro...       30   \n",
       "112140     {'calories': 269.8, 'carbohydrates': 5.0, 'pro...      130   \n",
       "59389      {'calories': 368.1, 'carbohydrates': 20.0, 'pr...       45   \n",
       "44061      {'calories': 352.9, 'carbohydrates': 28.0, 'pr...      190   \n",
       "\n",
       "                                                  techniques         cuisine  \\\n",
       "recipe_id                                                                      \n",
       "137739     {'bake': 1, 'barbecue': 0, 'blanch': 0, 'blend...  north-american   \n",
       "31490      {'bake': 1, 'barbecue': 0, 'blanch': 0, 'blend...  north-american   \n",
       "112140     {'bake': 0, 'barbecue': 0, 'blanch': 0, 'blend...      NO CUISINE   \n",
       "59389      {'bake': 1, 'barbecue': 0, 'blanch': 0, 'blend...      NO CUISINE   \n",
       "44061      {'bake': 0, 'barbecue': 0, 'blanch': 0, 'blend...  north-american   \n",
       "\n",
       "           meal_of_day                                        ingredients  \n",
       "recipe_id                                                                  \n",
       "137739     side-dishes  [winter squash, mexican seasoning, mixed spice...  \n",
       "31490        breakfast  [prepared pizza crust, sausage patty, eggs, mi...  \n",
       "112140       main-dish  [ground beef, yellow onions, diced tomatoes, t...  \n",
       "59389      side-dishes  [spreadable cheese with garlic and herbs, new ...  \n",
       "44061          NO MEAL  [tomato juice, apple cider vinegar, sugar, sal...  "
      ]
     },
     "execution_count": 29,
     "metadata": {},
     "output_type": "execute_result"
    }
   ],
   "source": [
    "recipes_in = pd.read_parquet(r'../01_DataCleansing/recipes_in.parquet')\n",
    "recipes_in.head()"
   ]
  },
  {
   "cell_type": "markdown",
   "metadata": {},
   "source": [
    "### Create the corpus required to train the genism word2vec model\n",
    "a list of ingredients lists and each ingredient list is from one recipe "
   ]
  },
  {
   "cell_type": "code",
   "execution_count": 30,
   "metadata": {},
   "outputs": [
    {
     "data": {
      "text/plain": [
       "[['winter squash',\n",
       "  'mexican seasoning',\n",
       "  'mixed spice',\n",
       "  'honey',\n",
       "  'butter',\n",
       "  'olive oil',\n",
       "  'salt'],\n",
       " ['prepared pizza crust',\n",
       "  'sausage patty',\n",
       "  'eggs',\n",
       "  'milk',\n",
       "  'salt and pepper',\n",
       "  'cheese'],\n",
       " ['ground beef',\n",
       "  'yellow onions',\n",
       "  'diced tomatoes',\n",
       "  'tomato paste',\n",
       "  'tomato soup',\n",
       "  'rotel tomatoes',\n",
       "  'kidney beans',\n",
       "  'water',\n",
       "  'chili powder',\n",
       "  'ground cumin',\n",
       "  'salt',\n",
       "  'lettuce',\n",
       "  'cheddar cheese'],\n",
       " ['spreadable cheese with garlic and herbs',\n",
       "  'new potatoes',\n",
       "  'shallots',\n",
       "  'parsley',\n",
       "  'tarragon',\n",
       "  'olive oil',\n",
       "  'red wine vinegar',\n",
       "  'salt',\n",
       "  'pepper',\n",
       "  'red bell pepper',\n",
       "  'yellow bell pepper'],\n",
       " ['tomato juice',\n",
       "  'apple cider vinegar',\n",
       "  'sugar',\n",
       "  'salt',\n",
       "  'pepper',\n",
       "  'clove oil',\n",
       "  'cinnamon oil',\n",
       "  'dry mustard']]"
      ]
     },
     "execution_count": 30,
     "metadata": {},
     "output_type": "execute_result"
    }
   ],
   "source": [
    "ingredient_list=[]\n",
    "for i in range(0,len(recipes_in)):\n",
    "    ingredient_list.append(recipes_in.iloc[i].loc['ingredients'].tolist())\n",
    "ingredient_list[0:5]"
   ]
  },
  {
   "cell_type": "markdown",
   "metadata": {},
   "source": [
    "### Number of Ingredients We are Working with"
   ]
  },
  {
   "cell_type": "code",
   "execution_count": 31,
   "metadata": {},
   "outputs": [
    {
     "data": {
      "text/plain": [
       "14942"
      ]
     },
     "execution_count": 31,
     "metadata": {},
     "output_type": "execute_result"
    }
   ],
   "source": [
    "ingredients=list(set(i for x in ingredient_list for i in x))\n",
    "len(ingredients)"
   ]
  },
  {
   "cell_type": "markdown",
   "metadata": {},
   "source": [
    "### Train Word2Vec Models\n",
    "\n",
    "Use Default Parameters\n",
    "<br>Reference: https://towardsdatascience.com/nlp-101-word2vec-skip-gram-and-cbow-93512ee24314"
   ]
  },
  {
   "cell_type": "code",
   "execution_count": 32,
   "metadata": {},
   "outputs": [],
   "source": [
    "model = Word2Vec(ingredient_list, min_count=1)\n"
   ]
  },
  {
   "cell_type": "markdown",
   "metadata": {},
   "source": [
    "### Now Each Ingredient is a Vector"
   ]
  },
  {
   "cell_type": "code",
   "execution_count": 33,
   "metadata": {
    "scrolled": false
   },
   "outputs": [
    {
     "data": {
      "text/plain": [
       "array([ 1.3962319 ,  0.4271814 ,  1.5748521 ,  0.399139  , -0.15688665,\n",
       "        1.5771635 , -0.6919115 , -0.0695715 , -0.41118005,  0.6774158 ,\n",
       "       -0.21325423,  0.18818071, -0.94735336,  1.8496097 ,  1.9725869 ,\n",
       "       -0.7694102 ,  0.4631382 , -0.01829285, -0.38158754, -0.17754999,\n",
       "       -1.2521286 ,  1.8483313 ,  1.3243692 ,  1.3027529 ,  1.8216466 ,\n",
       "       -0.23206396,  1.8037609 , -1.7476158 ,  1.1567531 , -2.022955  ,\n",
       "        0.6580762 ,  0.28219718,  0.9629183 , -0.25779623,  0.48896566,\n",
       "        0.48033178, -0.92856336,  0.9239151 , -1.1036108 , -0.05262694,\n",
       "       -0.33574107, -2.0250132 ,  0.35639846, -1.2506629 , -1.1147768 ,\n",
       "       -0.5971193 , -0.15951352,  0.05871995, -0.5625914 ,  1.1142678 ,\n",
       "        1.5630797 ,  0.9732683 ,  0.11251692,  0.25580555, -1.0224637 ,\n",
       "        1.0075767 ,  1.6258405 ,  1.122648  , -1.4554864 , -0.22417465,\n",
       "       -0.12667611, -0.0978438 ,  0.5684083 ,  0.49465257, -0.6075554 ,\n",
       "        1.8511976 , -0.831534  , -0.67877173,  1.4002752 ,  1.8574027 ,\n",
       "       -1.7844504 ,  2.4157639 ,  1.4580127 ,  0.33040696, -1.1440428 ,\n",
       "        1.6234608 ,  0.2946733 ,  0.03328916,  1.3456663 ,  1.0948457 ,\n",
       "        0.1712845 ,  0.40605038,  1.3662565 ,  1.4407403 ,  1.8164905 ,\n",
       "        0.42113474, -0.47259098, -0.71178293,  1.0449218 ,  1.0717869 ,\n",
       "        1.7887484 ,  0.99825174, -0.2727337 , -1.6621975 , -0.1642811 ,\n",
       "       -1.1370101 , -2.8442297 ,  1.3918296 ,  0.88650954,  0.18610021],\n",
       "      dtype=float32)"
      ]
     },
     "execution_count": 33,
     "metadata": {},
     "output_type": "execute_result"
    }
   ],
   "source": [
    "model.wv.__getitem__('tomato paste')"
   ]
  },
  {
   "cell_type": "markdown",
   "metadata": {},
   "source": [
    "### A Few Tests for Model Outputs for Most Similar Ingredients"
   ]
  },
  {
   "cell_type": "code",
   "execution_count": 34,
   "metadata": {},
   "outputs": [
    {
     "data": {
      "text/plain": [
       "[('tomato puree', 0.7994508147239685),\n",
       " ('tomato sauce', 0.7294666171073914),\n",
       " ('crushed tomatoes', 0.6976363062858582),\n",
       " ('tomato juice', 0.6956126689910889),\n",
       " ('whole tomatoes', 0.6946349740028381),\n",
       " ('dry red wine', 0.6840712428092957),\n",
       " ('bay leaves', 0.6802037954330444),\n",
       " ('red wine', 0.672786295413971),\n",
       " ('tomatoes with juice', 0.6624387502670288),\n",
       " ('canned tomatoes', 0.6620414853096008)]"
      ]
     },
     "metadata": {},
     "output_type": "display_data"
    }
   ],
   "source": [
    "display(model.wv.most_similar('tomato paste'))"
   ]
  },
  {
   "cell_type": "code",
   "execution_count": 35,
   "metadata": {},
   "outputs": [
    {
     "data": {
      "text/plain": [
       "[('lean ground beef', 0.9439941048622131),\n",
       " ('ground chuck', 0.8643509149551392),\n",
       " ('extra lean ground beef', 0.8101382851600647),\n",
       " ('hamburger', 0.7973396182060242),\n",
       " ('ground round', 0.7913963794708252),\n",
       " ('ground turkey', 0.766654908657074),\n",
       " ('ground meat', 0.6845386028289795),\n",
       " ('lean ground turkey', 0.6574926972389221),\n",
       " ('90% lean ground beef', 0.6495521664619446),\n",
       " ('lean hamburger', 0.6449505090713501)]"
      ]
     },
     "metadata": {},
     "output_type": "display_data"
    }
   ],
   "source": [
    "display(model.wv.most_similar('ground beef'))\n"
   ]
  },
  {
   "cell_type": "code",
   "execution_count": 36,
   "metadata": {},
   "outputs": [
    {
     "data": {
      "text/plain": [
       "[('extra virgin olive oil', 0.9226544499397278),\n",
       " ('virgin olive oil', 0.7579464912414551),\n",
       " ('light olive oil', 0.7155978679656982),\n",
       " ('lite olive oil', 0.6425748467445374),\n",
       " ('vegetable oil', 0.6206772923469543),\n",
       " ('olive oil flavored cooking spray', 0.6138953566551208),\n",
       " ('canola oil', 0.6095079779624939),\n",
       " ('chili pepper flakes', 0.575196385383606),\n",
       " ('oil', 0.5733540654182434),\n",
       " ('oregano leaves', 0.5602754950523376)]"
      ]
     },
     "metadata": {},
     "output_type": "display_data"
    }
   ],
   "source": [
    "display(model.wv.most_similar('olive oil'))\n"
   ]
  },
  {
   "cell_type": "code",
   "execution_count": 37,
   "metadata": {},
   "outputs": [
    {
     "data": {
      "text/plain": [
       "[('egg', 0.9236786961555481),\n",
       " ('extra large eggs', 0.5855139493942261),\n",
       " ('egg whites', 0.5508499145507812),\n",
       " ('egg substitute', 0.5169443488121033),\n",
       " ('egg yolk', 0.49542543292045593),\n",
       " ('egg yolks', 0.48913753032684326),\n",
       " ('egg white', 0.46426424384117126),\n",
       " ('extra-large eggs', 0.43051624298095703),\n",
       " ('beef medallions', 0.41059550642967224),\n",
       " ('red food coloring paste', 0.38984766602516174)]"
      ]
     },
     "metadata": {},
     "output_type": "display_data"
    }
   ],
   "source": [
    "display(model.wv.most_similar('eggs'))\n"
   ]
  },
  {
   "cell_type": "markdown",
   "metadata": {},
   "source": [
    "### Vectorize ingredient list for each recipe\n",
    "Add columns 'recipe_ingredients_vecto'to Datafram 'recipes_in' by averaging all ingredient vectors from each recipe."
   ]
  },
  {
   "cell_type": "code",
   "execution_count": 38,
   "metadata": {},
   "outputs": [
    {
     "data": {
      "text/html": [
       "<div>\n",
       "<style scoped>\n",
       "    .dataframe tbody tr th:only-of-type {\n",
       "        vertical-align: middle;\n",
       "    }\n",
       "\n",
       "    .dataframe tbody tr th {\n",
       "        vertical-align: top;\n",
       "    }\n",
       "\n",
       "    .dataframe thead th {\n",
       "        text-align: right;\n",
       "    }\n",
       "</style>\n",
       "<table border=\"1\" class=\"dataframe\">\n",
       "  <thead>\n",
       "    <tr style=\"text-align: right;\">\n",
       "      <th></th>\n",
       "      <th>nutrition</th>\n",
       "      <th>minutes</th>\n",
       "      <th>techniques</th>\n",
       "      <th>cuisine</th>\n",
       "      <th>meal_of_day</th>\n",
       "      <th>ingredients</th>\n",
       "      <th>recipe_ingredients_vector</th>\n",
       "    </tr>\n",
       "    <tr>\n",
       "      <th>recipe_id</th>\n",
       "      <th></th>\n",
       "      <th></th>\n",
       "      <th></th>\n",
       "      <th></th>\n",
       "      <th></th>\n",
       "      <th></th>\n",
       "      <th></th>\n",
       "    </tr>\n",
       "  </thead>\n",
       "  <tbody>\n",
       "    <tr>\n",
       "      <th>137739</th>\n",
       "      <td>{'calories': 51.5, 'carbohydrates': 4.0, 'prot...</td>\n",
       "      <td>55</td>\n",
       "      <td>{'bake': 1, 'barbecue': 0, 'blanch': 0, 'blend...</td>\n",
       "      <td>north-american</td>\n",
       "      <td>side-dishes</td>\n",
       "      <td>[winter squash, mexican seasoning, mixed spice...</td>\n",
       "      <td>[-0.19628285, 0.3473978, 0.07327713, -0.008137...</td>\n",
       "    </tr>\n",
       "    <tr>\n",
       "      <th>31490</th>\n",
       "      <td>{'calories': 173.4, 'carbohydrates': 1.0, 'pro...</td>\n",
       "      <td>30</td>\n",
       "      <td>{'bake': 1, 'barbecue': 0, 'blanch': 0, 'blend...</td>\n",
       "      <td>north-american</td>\n",
       "      <td>breakfast</td>\n",
       "      <td>[prepared pizza crust, sausage patty, eggs, mi...</td>\n",
       "      <td>[0.8475206, -0.17422628, 0.78840834, 0.3105595...</td>\n",
       "    </tr>\n",
       "    <tr>\n",
       "      <th>112140</th>\n",
       "      <td>{'calories': 269.8, 'carbohydrates': 5.0, 'pro...</td>\n",
       "      <td>130</td>\n",
       "      <td>{'bake': 0, 'barbecue': 0, 'blanch': 0, 'blend...</td>\n",
       "      <td>NO CUISINE</td>\n",
       "      <td>main-dish</td>\n",
       "      <td>[ground beef, yellow onions, diced tomatoes, t...</td>\n",
       "      <td>[0.81354225, 1.0795594, 1.3617136, -0.60430837...</td>\n",
       "    </tr>\n",
       "    <tr>\n",
       "      <th>59389</th>\n",
       "      <td>{'calories': 368.1, 'carbohydrates': 20.0, 'pr...</td>\n",
       "      <td>45</td>\n",
       "      <td>{'bake': 1, 'barbecue': 0, 'blanch': 0, 'blend...</td>\n",
       "      <td>NO CUISINE</td>\n",
       "      <td>side-dishes</td>\n",
       "      <td>[spreadable cheese with garlic and herbs, new ...</td>\n",
       "      <td>[0.2621753, -0.11066092, 0.4143465, -0.2925097...</td>\n",
       "    </tr>\n",
       "    <tr>\n",
       "      <th>44061</th>\n",
       "      <td>{'calories': 352.9, 'carbohydrates': 28.0, 'pr...</td>\n",
       "      <td>190</td>\n",
       "      <td>{'bake': 0, 'barbecue': 0, 'blanch': 0, 'blend...</td>\n",
       "      <td>north-american</td>\n",
       "      <td>NO MEAL</td>\n",
       "      <td>[tomato juice, apple cider vinegar, sugar, sal...</td>\n",
       "      <td>[0.0114387795, -0.2737496, 0.55514616, -0.3837...</td>\n",
       "    </tr>\n",
       "  </tbody>\n",
       "</table>\n",
       "</div>"
      ],
      "text/plain": [
       "                                                   nutrition  minutes  \\\n",
       "recipe_id                                                               \n",
       "137739     {'calories': 51.5, 'carbohydrates': 4.0, 'prot...       55   \n",
       "31490      {'calories': 173.4, 'carbohydrates': 1.0, 'pro...       30   \n",
       "112140     {'calories': 269.8, 'carbohydrates': 5.0, 'pro...      130   \n",
       "59389      {'calories': 368.1, 'carbohydrates': 20.0, 'pr...       45   \n",
       "44061      {'calories': 352.9, 'carbohydrates': 28.0, 'pr...      190   \n",
       "\n",
       "                                                  techniques         cuisine  \\\n",
       "recipe_id                                                                      \n",
       "137739     {'bake': 1, 'barbecue': 0, 'blanch': 0, 'blend...  north-american   \n",
       "31490      {'bake': 1, 'barbecue': 0, 'blanch': 0, 'blend...  north-american   \n",
       "112140     {'bake': 0, 'barbecue': 0, 'blanch': 0, 'blend...      NO CUISINE   \n",
       "59389      {'bake': 1, 'barbecue': 0, 'blanch': 0, 'blend...      NO CUISINE   \n",
       "44061      {'bake': 0, 'barbecue': 0, 'blanch': 0, 'blend...  north-american   \n",
       "\n",
       "           meal_of_day                                        ingredients  \\\n",
       "recipe_id                                                                   \n",
       "137739     side-dishes  [winter squash, mexican seasoning, mixed spice...   \n",
       "31490        breakfast  [prepared pizza crust, sausage patty, eggs, mi...   \n",
       "112140       main-dish  [ground beef, yellow onions, diced tomatoes, t...   \n",
       "59389      side-dishes  [spreadable cheese with garlic and herbs, new ...   \n",
       "44061          NO MEAL  [tomato juice, apple cider vinegar, sugar, sal...   \n",
       "\n",
       "                                   recipe_ingredients_vector  \n",
       "recipe_id                                                     \n",
       "137739     [-0.19628285, 0.3473978, 0.07327713, -0.008137...  \n",
       "31490      [0.8475206, -0.17422628, 0.78840834, 0.3105595...  \n",
       "112140     [0.81354225, 1.0795594, 1.3617136, -0.60430837...  \n",
       "59389      [0.2621753, -0.11066092, 0.4143465, -0.2925097...  \n",
       "44061      [0.0114387795, -0.2737496, 0.55514616, -0.3837...  "
      ]
     },
     "execution_count": 38,
     "metadata": {},
     "output_type": "execute_result"
    }
   ],
   "source": [
    "\n",
    "def list_to_vec_model(l):\n",
    "    return model.wv.__getitem__(x for x in l).sum(axis=0)/len(l)   \n",
    "recipes_in['recipe_ingredients_vector']=recipes_in.apply(lambda x: list_to_vec_model(x['ingredients']), axis=1)\n",
    "\n",
    "\n",
    "\n",
    "recipes_in.head()"
   ]
  },
  {
   "cell_type": "markdown",
   "metadata": {},
   "source": [
    "### Get a Dataframe with Recipe id and Ingredient List Vector"
   ]
  },
  {
   "cell_type": "code",
   "execution_count": 39,
   "metadata": {},
   "outputs": [
    {
     "data": {
      "text/html": [
       "<div>\n",
       "<style scoped>\n",
       "    .dataframe tbody tr th:only-of-type {\n",
       "        vertical-align: middle;\n",
       "    }\n",
       "\n",
       "    .dataframe tbody tr th {\n",
       "        vertical-align: top;\n",
       "    }\n",
       "\n",
       "    .dataframe thead th {\n",
       "        text-align: right;\n",
       "    }\n",
       "</style>\n",
       "<table border=\"1\" class=\"dataframe\">\n",
       "  <thead>\n",
       "    <tr style=\"text-align: right;\">\n",
       "      <th></th>\n",
       "      <th>recipe_id</th>\n",
       "      <th>recipe_ingredients_vector</th>\n",
       "    </tr>\n",
       "  </thead>\n",
       "  <tbody>\n",
       "    <tr>\n",
       "      <th>0</th>\n",
       "      <td>137739</td>\n",
       "      <td>[-0.19628285, 0.3473978, 0.07327713, -0.008137...</td>\n",
       "    </tr>\n",
       "    <tr>\n",
       "      <th>1</th>\n",
       "      <td>31490</td>\n",
       "      <td>[0.8475206, -0.17422628, 0.78840834, 0.3105595...</td>\n",
       "    </tr>\n",
       "    <tr>\n",
       "      <th>2</th>\n",
       "      <td>112140</td>\n",
       "      <td>[0.81354225, 1.0795594, 1.3617136, -0.60430837...</td>\n",
       "    </tr>\n",
       "    <tr>\n",
       "      <th>3</th>\n",
       "      <td>59389</td>\n",
       "      <td>[0.2621753, -0.11066092, 0.4143465, -0.2925097...</td>\n",
       "    </tr>\n",
       "    <tr>\n",
       "      <th>4</th>\n",
       "      <td>44061</td>\n",
       "      <td>[0.0114387795, -0.2737496, 0.55514616, -0.3837...</td>\n",
       "    </tr>\n",
       "  </tbody>\n",
       "</table>\n",
       "</div>"
      ],
      "text/plain": [
       "   recipe_id                          recipe_ingredients_vector\n",
       "0     137739  [-0.19628285, 0.3473978, 0.07327713, -0.008137...\n",
       "1      31490  [0.8475206, -0.17422628, 0.78840834, 0.3105595...\n",
       "2     112140  [0.81354225, 1.0795594, 1.3617136, -0.60430837...\n",
       "3      59389  [0.2621753, -0.11066092, 0.4143465, -0.2925097...\n",
       "4      44061  [0.0114387795, -0.2737496, 0.55514616, -0.3837..."
      ]
     },
     "execution_count": 39,
     "metadata": {},
     "output_type": "execute_result"
    }
   ],
   "source": [
    "recipes_ingredient_vec=recipes_in['recipe_ingredients_vector'].reset_index()\n",
    "recipes_ingredient_vec.head()"
   ]
  },
  {
   "cell_type": "code",
   "execution_count": 40,
   "metadata": {},
   "outputs": [
    {
     "data": {
      "text/plain": [
       "231637"
      ]
     },
     "execution_count": 40,
     "metadata": {},
     "output_type": "execute_result"
    }
   ],
   "source": [
    "len(recipes_ingredient_vec)"
   ]
  },
  {
   "cell_type": "code",
   "execution_count": 41,
   "metadata": {},
   "outputs": [],
   "source": [
    "recipes_ingredient_vec.to_parquet('../05_RecipeExplorationTool/data/recipes_ingredient_vec.parquet')"
   ]
  }
 ],
 "metadata": {
  "kernelspec": {
   "display_name": "CSE 6242 Project Final",
   "language": "python",
   "name": "cse6242-project-final"
  },
  "language_info": {
   "codemirror_mode": {
    "name": "ipython",
    "version": 3
   },
   "file_extension": ".py",
   "mimetype": "text/x-python",
   "name": "python",
   "nbconvert_exporter": "python",
   "pygments_lexer": "ipython3",
   "version": "3.9.12"
  }
 },
 "nbformat": 4,
 "nbformat_minor": 4
}
