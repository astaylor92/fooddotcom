{
 "cells": [
  {
   "cell_type": "markdown",
   "id": "2e72d9e3",
   "metadata": {},
   "source": [
    "# Community Detection\n",
    "\n",
    "<hr style=\"border:2px solid black\"> </hr>\n",
    "\n",
    "## Notebook 02.01 - Perform Louvain's algorithm on network, only considering edges with 2+ shared users\n",
    "\n",
    "Create a recipe graph with weighted edges based on users. Analyze the graph to detect user communities, and use the distance between communities to calculate similarity scoring.\n",
    "\n",
    "---\n",
    "\n",
    "### Import libraries"
   ]
  },
  {
   "cell_type": "code",
   "execution_count": 1,
   "id": "9a7ca3a1",
   "metadata": {},
   "outputs": [],
   "source": [
    "import matplotlib.pyplot as plt\n",
    "import pyspark.sql.functions as F\n",
    "import pandas as pd\n",
    "import numpy as np\n",
    "import time\n",
    "import networkx as nx\n",
    "import networkx.algorithms.community as nx_comm\n",
    "import sys\n",
    "import scipy\n",
    "from node2vec import Node2Vec\n",
    "from sklearn.cluster import KMeans"
   ]
  },
  {
   "cell_type": "code",
   "execution_count": 2,
   "id": "cba60ed5",
   "metadata": {},
   "outputs": [],
   "source": [
    "def num_uniques(ser):\n",
    "    try:\n",
    "        return len(ser.unique())\n",
    "    except:\n",
    "        return \"Not unique check-able\""
   ]
  },
  {
   "cell_type": "code",
   "execution_count": 3,
   "id": "47743aac",
   "metadata": {},
   "outputs": [],
   "source": [
    "def summarize_df(df):\n",
    "    print(\"======DATA SUMMARY======\")\n",
    "    print(\"{} rows by {} columns\".format(df.shape[0], df.shape[1]))\n",
    "    print(\"\\n======COLUMNS======\")\n",
    "    print(df.dtypes)\n",
    "    print(\"\\n======PREVIEW======\")\n",
    "    display(df.head())\n",
    "    print(\"\\n======NUMERICAL COL SUMMARY======\")\n",
    "    print(df.describe())\n",
    "    print(\"\\n\")\n",
    "    for col in df.columns:\n",
    "        print(\"{}: {} unique values\".format(col, num_uniques(df[col])))"
   ]
  },
  {
   "cell_type": "markdown",
   "id": "6db5a7ba",
   "metadata": {},
   "source": [
    "---\n",
    "### Create network and analyze communities"
   ]
  },
  {
   "cell_type": "code",
   "execution_count": null,
   "id": "f33445d3",
   "metadata": {},
   "outputs": [],
   "source": [
    "def determine_communities(shared_users):\n",
    "    # Creating graph\n",
    "    print(\"Creating graph variable in networkx...\")\n",
    "    print(time.asctime(time.localtime(time.time())))\n",
    "    G = nx.from_pandas_edgelist(df=shared_users, source='recipe_id', target='recipe_id_2', edge_attr='pct_users')\n",
    "    \n",
    "    # Checking to see how many disconnected subgraphs were created by sampling method\n",
    "    print(\"\\nAnalyzing disconnected subgraphs...\")\n",
    "    print(time.asctime(time.localtime(time.time())))\n",
    "    comps = [len(c) for c in sorted(nx.connected_components(G), key=len, reverse=True)]\n",
    "    print(\"There are {} disconnected subgraphs in G\".format(len(comps)))\n",
    "    print(comps)\n",
    "    \n",
    "    # Community analysis using Louvain's algorithm\n",
    "    print(\"\\nDetecting communities...\")\n",
    "    print(time.asctime(time.localtime(time.time())))\n",
    "    louvain_communities = nx_comm.louvain_communities(G, weight='pct_users')\n",
    "    \n",
    "    return G, louvain_communities"
   ]
  },
  {
   "cell_type": "code",
   "execution_count": 10,
   "id": "5c4e5550",
   "metadata": {},
   "outputs": [],
   "source": [
    "def analyze_communities(G, louvain_communities):\n",
    "    # Evaluate partitions modularity\n",
    "    print(\"Evaluating modularity..\")\n",
    "    l_mod = nx_comm.modularity(G, louvain_communities, weight='pct_users')\n",
    "    print(\"Louvain modularity is {}\".format(l_mod))\n",
    "    \n",
    "    # Evaluate partitions coverage and performance\n",
    "    print(\"\\nEvaluating coverage and performance..\")\n",
    "    l_coverage, l_perform = nx_comm.quality.partition_quality(G, louvain_communities)\n",
    "    print(\"Louvain coverage is {:.3f} and performance is {:.3f}\".format(l_coverage, l_perform))\n",
    "    \n",
    "    # Create assignments dataframe\n",
    "    print(\"\\nDetermining assignments dataframe...\")\n",
    "    louvain_assignments = pd.DataFrame([[node, ind] for ind, node_set in enumerate(louvain_communities) for node in node_set],\n",
    "                                   columns=['recipe_id', 'community_id'])\n",
    "    \n",
    "    # Determine community sizes\n",
    "    print(\"\\nDetermining sizes of communities...\")\n",
    "    community_sizes = np.array([[i, len(a)] for i, a in enumerate(louvain_communities)])\n",
    "    community_sizes = community_sizes[community_sizes[:, 1].argsort()[::-1]]\n",
    "    print(\"Top 5 community sizes\")\n",
    "    print(community_sizes[:5])\n",
    "    \n",
    "    return l_mod, l_coverage, l_perform, louvain_assignments, community_sizes"
   ]
  },
  {
   "cell_type": "code",
   "execution_count": 21,
   "id": "f54b8030",
   "metadata": {},
   "outputs": [],
   "source": [
    "def determine_intercommunity_distance(shared_users, louvain_communities, louvain_assignments):\n",
    "    # Join clusters to shared users\n",
    "    print(\"Joining clusters to user-level file...\")\n",
    "    print(time.asctime(time.localtime(time.time())))\n",
    "    shared_users = shared_users.merge(louvain_assignments, on='recipe_id')\n",
    "    shared_users = shared_users.merge(louvain_assignments, left_on='recipe_id_2', right_on='recipe_id', suffixes=('', '_r')) \\\n",
    "                            .drop('recipe_id_r', axis=1) \\\n",
    "                            .rename({'community_id_r':'community_id_2'}, axis=1)\n",
    "    \n",
    "    # Calculate the median distance between clusters\n",
    "    print(\"\\nCalculating median distance between clusters...\")\n",
    "    print(time.asctime(time.localtime(time.time())))\n",
    "    comms = shared_users[['community_id', 'community_id_2', 'pct_users']] \\\n",
    "                    .groupby(by=['community_id', 'community_id_2']) \\\n",
    "                    .agg({'pct_users': ['median']}) \\\n",
    "                    .reset_index()\n",
    "    comms = comms[comms['community_id'] <= comms['community_id_2']]\n",
    "    comms.columns = comms.columns.map('_'.join)\n",
    "    comms = comms.rename({'community_id_': 'community_id', 'community_id_2_': 'community_id_2'}, axis=1)\n",
    "    \n",
    "    # Invert weights for distance calculation\n",
    "    print(\"\\nInverting weights for distance calculation...\")\n",
    "    print(time.asctime(time.localtime(time.time())))\n",
    "    comms['pct_users_median_inv'] = comms['pct_users_median'].max() - comms['pct_users_median'] \\\n",
    "                                + comms['pct_users_median'].min()\n",
    "    \n",
    "    \n",
    "    # Create community graph and check subgraphs\n",
    "    print(\"\\nCreating community graph and checking subgraphs...\")\n",
    "    print(time.asctime(time.localtime(time.time())))\n",
    "    comm_G = nx.from_pandas_edgelist(df=comms, source='community_id', target='community_id_2',\n",
    "                                     edge_attr=['pct_users_median', 'pct_users_median_inv'])\n",
    "    comm_comps = [len(c) for c in sorted(nx.connected_components(comm_G), key=len, reverse=True)]\n",
    "    print(\"There are {} disconnected subgraphs in the community graph\".format(len(comps)))\n",
    "    print(comm_comps)\n",
    "        \n",
    "        \n",
    "    # Visualize graph\n",
    "    # TBD\n",
    "    \n",
    "    # Use dijkstra's algorithm to calculate all to all distances\n",
    "    print(\"\\nCalculating distances...\")\n",
    "    print(time.asctime(time.localtime(time.time())))\n",
    "    comm_dists = dict(nx.all_pairs_dijkstra_path_length(comm_G, weight='pct_users_median_inv'))\n",
    "    comm_dists = pd.DataFrame([[source, dest, dist] for source, dists in comm_dists.items() for dest, dist in dists.items()], \n",
    "                                 columns=['community_id', 'community_id_2', 'community_distance'])\n",
    "    comm_dists = comm_dists[comm_dists['community_id'] != comm_dists['community_id_2'] ]\n",
    "    print(\"Complete\")\n",
    "    \n",
    "    return comm_dists, comm_comps\n",
    "    "
   ]
  },
  {
   "cell_type": "code",
   "execution_count": 4,
   "id": "dd0756a7",
   "metadata": {
    "scrolled": true
   },
   "outputs": [],
   "source": [
    "# Import data\n",
    "shared_users = pd.read_parquet('/Users/andrewtaylor/Georgia Institute of Technology/CSE6242_Spring_2022 - General/05-AlgoDevelopment/community_detection/clustering_data_filtered_numthresh-2')"
   ]
  },
  {
   "cell_type": "code",
   "execution_count": null,
   "id": "7bb5d2e6",
   "metadata": {},
   "outputs": [],
   "source": [
    "# Assign communities\n",
    "G, l_communities = determine_communities(shared_users)"
   ]
  },
  {
   "cell_type": "code",
   "execution_count": 12,
   "id": "f9fcf79e",
   "metadata": {},
   "outputs": [
    {
     "name": "stdout",
     "output_type": "stream",
     "text": [
      "Evaluating modularity..\n",
      "Louvain modularity is 0.3921599841665412\n",
      "Evaluating coverage and performance..\n",
      "Louvain coverage is 0.555 and performance is 0.692\n",
      "Determining assignments dataframe...\n",
      "Determining sizes of communities...\n",
      "Top 5 community sizes\n",
      "[[    0 38458]\n",
      " [   17  8253]\n",
      " [  114  7479]\n",
      " [   23  4320]\n",
      " [   10  4220]]\n"
     ]
    }
   ],
   "source": [
    "# Evaluate communities\n",
    "l_mod, l_coverage, l_perform, l_assign, comm_sizes = analyze_communities(G, l_communities)"
   ]
  },
  {
   "cell_type": "code",
   "execution_count": 20,
   "id": "4367386e",
   "metadata": {},
   "outputs": [
    {
     "name": "stdout",
     "output_type": "stream",
     "text": [
      "Joining clusters to user-level file...\n",
      "Mon Apr 11 09:56:03 2022\n",
      "\n",
      "Calculating median distance between clusters...\n",
      "Mon Apr 11 09:56:07 2022\n",
      "\n",
      "Inverting weights for distance calculation...\n",
      "Mon Apr 11 09:56:07 2022\n",
      "\n",
      "Creating community graph and checking subgraphs...\n",
      "Mon Apr 11 09:56:07 2022\n",
      "There are 81 disconnected subgraphs in the community graph\n",
      "[203, 1, 1, 1, 1, 1, 1, 1, 1, 1, 1, 1, 1, 1, 1, 1, 1, 1, 1, 1, 1, 1, 1, 1, 1, 1, 1, 1, 1, 1, 1, 1, 1, 1, 1, 1, 1, 1, 1, 1, 1, 1, 1, 1, 1, 1, 1, 1, 1, 1, 1, 1, 1, 1, 1, 1, 1, 1, 1, 1, 1, 1, 1, 1, 1, 1, 1, 1, 1, 1, 1, 1, 1, 1, 1, 1, 1, 1, 1, 1, 1, 1, 1, 1, 1, 1, 1, 1, 1, 1, 1, 1, 1, 1, 1, 1, 1, 1, 1, 1, 1, 1, 1, 1, 1, 1, 1, 1, 1, 1, 1, 1, 1, 1, 1]\n",
      "\n",
      "Calculating distances...\n",
      "Mon Apr 11 09:56:07 2022\n"
     ]
    }
   ],
   "source": [
    "# Determine intercommunity distances\n",
    "c_dists, c_comps = determine_intercommunity_distance(shared_users, l_communities, l_assign)"
   ]
  },
  {
   "cell_type": "markdown",
   "id": "2d3f84b2",
   "metadata": {},
   "source": [
    "---\n",
    "### Check all recipes are in the assignments"
   ]
  },
  {
   "cell_type": "code",
   "execution_count": 29,
   "id": "063045fb",
   "metadata": {},
   "outputs": [],
   "source": [
    "# Read in OG users and recipe files\n",
    "u_recipes = pd.read_csv('/Users/andrewtaylor/Georgia Institute of Technology/CSE6242_Spring_2022 - General/04-EDA&DataCleaning/Clean Data/users_in_count2_mean4.csv') \\\n",
    "                ['recipe_id'].unique()"
   ]
  },
  {
   "cell_type": "code",
   "execution_count": 28,
   "id": "6fd2705e",
   "metadata": {},
   "outputs": [],
   "source": [
    "r_recipes = pd.read_parquet('/Users/andrewtaylor/Georgia Institute of Technology/CSE6242_Spring_2022 - General/04-EDA&DataCleaning/Clean Data/recipes_in_count2_mean4.parquet') \\\n",
    "                    .reset_index() \\\n",
    "                    ['recipe_id'].unique()"
   ]
  },
  {
   "cell_type": "code",
   "execution_count": 31,
   "id": "de76d3a7",
   "metadata": {},
   "outputs": [],
   "source": [
    "assign_recipes = l_assign['recipe_id'].unique()"
   ]
  },
  {
   "cell_type": "code",
   "execution_count": 47,
   "id": "c51ab562",
   "metadata": {},
   "outputs": [],
   "source": [
    "def check_recipes(list_og, list_check):\n",
    "    missing = []\n",
    "    for r in list_og:\n",
    "        if r not in list_check:\n",
    "            missing += [r]\n",
    "    \n",
    "    print(\"{} of {} recipes missing\".format(len(missing), len(list_og)))\n",
    "    return missing"
   ]
  },
  {
   "cell_type": "code",
   "execution_count": 48,
   "id": "7fe55e31",
   "metadata": {},
   "outputs": [
    {
     "name": "stdout",
     "output_type": "stream",
     "text": [
      "11964 of 85519 recipes missing\n"
     ]
    }
   ],
   "source": [
    "u_recipes_missing = check_recipes(u_recipes, assign_recipes)"
   ]
  },
  {
   "cell_type": "code",
   "execution_count": 49,
   "id": "87104aa3",
   "metadata": {},
   "outputs": [
    {
     "name": "stdout",
     "output_type": "stream",
     "text": [
      "6750 of 48454 recipes missing\n"
     ]
    }
   ],
   "source": [
    "r_recipes_missing = check_recipes(r_recipes, assign_recipes)"
   ]
  },
  {
   "cell_type": "markdown",
   "id": "300d9091",
   "metadata": {},
   "source": [
    "---\n",
    "### Check all distances are accounted for"
   ]
  },
  {
   "cell_type": "code",
   "execution_count": 59,
   "id": "b73e3583",
   "metadata": {},
   "outputs": [],
   "source": [
    "def check_distance(louvain_communities, comm_dist):\n",
    "    expected = len(louvain_communities)**2 - len(louvain_communities)\n",
    "    got = comm_dist.shape[0]\n",
    "    print(\"Expected {} distance records, got {}\".format(expected, got))"
   ]
  },
  {
   "cell_type": "code",
   "execution_count": 60,
   "id": "698c32db",
   "metadata": {},
   "outputs": [
    {
     "name": "stdout",
     "output_type": "stream",
     "text": [
      "Expected 100172 distance records, got 41006\n"
     ]
    }
   ],
   "source": [
    "check_distance(l_communities, c_dists)"
   ]
  },
  {
   "cell_type": "code",
   "execution_count": 323,
   "id": "ebf2a0c8",
   "metadata": {},
   "outputs": [
    {
     "data": {
      "text/html": [
       "<div>\n",
       "<style scoped>\n",
       "    .dataframe tbody tr th:only-of-type {\n",
       "        vertical-align: middle;\n",
       "    }\n",
       "\n",
       "    .dataframe tbody tr th {\n",
       "        vertical-align: top;\n",
       "    }\n",
       "\n",
       "    .dataframe thead th {\n",
       "        text-align: right;\n",
       "    }\n",
       "</style>\n",
       "<table border=\"1\" class=\"dataframe\">\n",
       "  <thead>\n",
       "    <tr style=\"text-align: right;\">\n",
       "      <th></th>\n",
       "      <th>community_id</th>\n",
       "      <th>community_id_2</th>\n",
       "      <th>community_distance</th>\n",
       "    </tr>\n",
       "  </thead>\n",
       "  <tbody>\n",
       "    <tr>\n",
       "      <th>count</th>\n",
       "      <td>44180.000000</td>\n",
       "      <td>44180.000000</td>\n",
       "      <td>44180.000000</td>\n",
       "    </tr>\n",
       "    <tr>\n",
       "      <th>mean</th>\n",
       "      <td>121.859122</td>\n",
       "      <td>121.859122</td>\n",
       "      <td>1.289872</td>\n",
       "    </tr>\n",
       "    <tr>\n",
       "      <th>std</th>\n",
       "      <td>81.285190</td>\n",
       "      <td>81.285190</td>\n",
       "      <td>0.205059</td>\n",
       "    </tr>\n",
       "    <tr>\n",
       "      <th>min</th>\n",
       "      <td>0.000000</td>\n",
       "      <td>0.000000</td>\n",
       "      <td>0.000000</td>\n",
       "    </tr>\n",
       "    <tr>\n",
       "      <th>25%</th>\n",
       "      <td>52.000000</td>\n",
       "      <td>52.000000</td>\n",
       "      <td>1.274004</td>\n",
       "    </tr>\n",
       "    <tr>\n",
       "      <th>50%</th>\n",
       "      <td>108.000000</td>\n",
       "      <td>108.000000</td>\n",
       "      <td>1.299178</td>\n",
       "    </tr>\n",
       "    <tr>\n",
       "      <th>75%</th>\n",
       "      <td>190.000000</td>\n",
       "      <td>190.000000</td>\n",
       "      <td>1.314229</td>\n",
       "    </tr>\n",
       "    <tr>\n",
       "      <th>max</th>\n",
       "      <td>289.000000</td>\n",
       "      <td>289.000000</td>\n",
       "      <td>1.933785</td>\n",
       "    </tr>\n",
       "  </tbody>\n",
       "</table>\n",
       "</div>"
      ],
      "text/plain": [
       "       community_id  community_id_2  community_distance\n",
       "count  44180.000000    44180.000000        44180.000000\n",
       "mean     121.859122      121.859122            1.289872\n",
       "std       81.285190       81.285190            0.205059\n",
       "min        0.000000        0.000000            0.000000\n",
       "25%       52.000000       52.000000            1.274004\n",
       "50%      108.000000      108.000000            1.299178\n",
       "75%      190.000000      190.000000            1.314229\n",
       "max      289.000000      289.000000            1.933785"
      ]
     },
     "execution_count": 323,
     "metadata": {},
     "output_type": "execute_result"
    }
   ],
   "source": [
    "comm_dists_adj.describe()"
   ]
  },
  {
   "cell_type": "code",
   "execution_count": 324,
   "id": "a1bfbf89",
   "metadata": {},
   "outputs": [],
   "source": [
    "# Scale to a range of 0 to 1\n",
    "dist_min_adj = comm_dists_adj['community_distance'].min()\n",
    "dist_max_adj = comm_dists_adj['community_distance'].max()\n",
    "comm_dists_adj['community_distance'] = comm_dists_adj['community_distance'].apply(lambda x: (x - dist_min_adj)/(dist_max_adj - dist_min_adj))"
   ]
  },
  {
   "cell_type": "code",
   "execution_count": 325,
   "id": "1fb88e41",
   "metadata": {},
   "outputs": [
    {
     "data": {
      "text/html": [
       "<div>\n",
       "<style scoped>\n",
       "    .dataframe tbody tr th:only-of-type {\n",
       "        vertical-align: middle;\n",
       "    }\n",
       "\n",
       "    .dataframe tbody tr th {\n",
       "        vertical-align: top;\n",
       "    }\n",
       "\n",
       "    .dataframe thead th {\n",
       "        text-align: right;\n",
       "    }\n",
       "</style>\n",
       "<table border=\"1\" class=\"dataframe\">\n",
       "  <thead>\n",
       "    <tr style=\"text-align: right;\">\n",
       "      <th></th>\n",
       "      <th>community_id</th>\n",
       "      <th>community_id_2</th>\n",
       "      <th>community_distance</th>\n",
       "    </tr>\n",
       "  </thead>\n",
       "  <tbody>\n",
       "    <tr>\n",
       "      <th>count</th>\n",
       "      <td>44180.000000</td>\n",
       "      <td>44180.000000</td>\n",
       "      <td>44180.000000</td>\n",
       "    </tr>\n",
       "    <tr>\n",
       "      <th>mean</th>\n",
       "      <td>121.859122</td>\n",
       "      <td>121.859122</td>\n",
       "      <td>0.667020</td>\n",
       "    </tr>\n",
       "    <tr>\n",
       "      <th>std</th>\n",
       "      <td>81.285190</td>\n",
       "      <td>81.285190</td>\n",
       "      <td>0.106040</td>\n",
       "    </tr>\n",
       "    <tr>\n",
       "      <th>min</th>\n",
       "      <td>0.000000</td>\n",
       "      <td>0.000000</td>\n",
       "      <td>0.000000</td>\n",
       "    </tr>\n",
       "    <tr>\n",
       "      <th>25%</th>\n",
       "      <td>52.000000</td>\n",
       "      <td>52.000000</td>\n",
       "      <td>0.658814</td>\n",
       "    </tr>\n",
       "    <tr>\n",
       "      <th>50%</th>\n",
       "      <td>108.000000</td>\n",
       "      <td>108.000000</td>\n",
       "      <td>0.671832</td>\n",
       "    </tr>\n",
       "    <tr>\n",
       "      <th>75%</th>\n",
       "      <td>190.000000</td>\n",
       "      <td>190.000000</td>\n",
       "      <td>0.679615</td>\n",
       "    </tr>\n",
       "    <tr>\n",
       "      <th>max</th>\n",
       "      <td>289.000000</td>\n",
       "      <td>289.000000</td>\n",
       "      <td>1.000000</td>\n",
       "    </tr>\n",
       "  </tbody>\n",
       "</table>\n",
       "</div>"
      ],
      "text/plain": [
       "       community_id  community_id_2  community_distance\n",
       "count  44180.000000    44180.000000        44180.000000\n",
       "mean     121.859122      121.859122            0.667020\n",
       "std       81.285190       81.285190            0.106040\n",
       "min        0.000000        0.000000            0.000000\n",
       "25%       52.000000       52.000000            0.658814\n",
       "50%      108.000000      108.000000            0.671832\n",
       "75%      190.000000      190.000000            0.679615\n",
       "max      289.000000      289.000000            1.000000"
      ]
     },
     "execution_count": 325,
     "metadata": {},
     "output_type": "execute_result"
    }
   ],
   "source": [
    "comm_dists_adj.describe()"
   ]
  },
  {
   "cell_type": "code",
   "execution_count": 326,
   "id": "a3a56852",
   "metadata": {},
   "outputs": [
    {
     "data": {
      "text/plain": [
       "<AxesSubplot:ylabel='Frequency'>"
      ]
     },
     "execution_count": 326,
     "metadata": {},
     "output_type": "execute_result"
    },
    {
     "data": {
      "image/png": "[encoded data removed]",
      "text/plain": [
       "<Figure size 432x288 with 1 Axes>"
      ]
     },
     "metadata": {
      "needs_background": "light"
     },
     "output_type": "display_data"
    }
   ],
   "source": [
    "comm_dists_adj['community_distance'].plot.hist()"
   ]
  }
 ],
 "metadata": {
  "kernelspec": {
   "display_name": "CSE 6242 Project Graph",
   "language": "python",
   "name": "cse6242-project-graph"
  },
  "language_info": {
   "codemirror_mode": {
    "name": "ipython",
    "version": 3
   },
   "file_extension": ".py",
   "mimetype": "text/x-python",
   "name": "python",
   "nbconvert_exporter": "python",
   "pygments_lexer": "ipython3",
   "version": "3.8.12"
  }
 },
 "nbformat": 4,
 "nbformat_minor": 5
}
