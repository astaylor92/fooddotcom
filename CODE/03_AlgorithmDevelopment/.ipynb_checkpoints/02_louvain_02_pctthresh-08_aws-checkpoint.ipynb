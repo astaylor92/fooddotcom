{
 "cells": [
  {
   "cell_type": "markdown",
   "id": "368ec512",
   "metadata": {},
   "source": [
    "# Community Detection\n",
    "\n",
    "<hr style=\"border:2px solid black\"> </hr>\n",
    "\n",
    "## Notebook 02.01 - Perform Louvain's algorithm on network, only considering edges with 2+ shared users\n",
    "\n",
    "Create a recipe graph with weighted edges based on users. Analyze the graph to detect user communities, and use the distance between communities to calculate similarity scoring. \n",
    "\n",
    "**Note** - this was run on AWS cloud, so filepaths are not relative to the repository folder and some references may need to be updated.\n",
    "\n",
    "---\n",
    "\n",
    "### Import libraries"
   ]
  },
  {
   "cell_type": "code",
   "execution_count": 3,
   "id": "ff8e0809",
   "metadata": {},
   "outputs": [],
   "source": [
    "import matplotlib.pyplot as plt\n",
    "import pandas as pd\n",
    "import numpy as np\n",
    "import time\n",
    "import networkx as nx\n",
    "import networkx.algorithms.community as nx_comm\n",
    "import sys\n",
    "from node2vec import Node2Vec\n",
    "from sagemaker import get_execution_role\n",
    "import boto3"
   ]
  },
  {
   "cell_type": "code",
   "execution_count": 4,
   "id": "cc8334e9",
   "metadata": {},
   "outputs": [],
   "source": [
    "def num_uniques(ser):\n",
    "    try:\n",
    "        return len(ser.unique())\n",
    "    except:\n",
    "        return \"Not unique check-able\""
   ]
  },
  {
   "cell_type": "code",
   "execution_count": 5,
   "id": "0312e5aa",
   "metadata": {},
   "outputs": [],
   "source": [
    "def summarize_df(df):\n",
    "    print(\"======DATA SUMMARY======\")\n",
    "    print(\"{} rows by {} columns\".format(df.shape[0], df.shape[1]))\n",
    "    print(\"\\n======COLUMNS======\")\n",
    "    print(df.dtypes)\n",
    "    print(\"\\n======PREVIEW======\")\n",
    "    display(df.head())\n",
    "    print(\"\\n======NUMERICAL COL SUMMARY======\")\n",
    "    print(df.describe())\n",
    "    print(\"\\n\")\n",
    "    for col in df.columns:\n",
    "        print(\"{}: {} unique values\".format(col, num_uniques(df[col])))"
   ]
  },
  {
   "cell_type": "markdown",
   "id": "f408b1e9",
   "metadata": {},
   "source": [
    "---\n",
    "### Create network and analyze communities"
   ]
  },
  {
   "cell_type": "code",
   "execution_count": 6,
   "id": "e9e6e6e2",
   "metadata": {},
   "outputs": [],
   "source": [
    "def determine_communities(shared_users):\n",
    "    # Creating graph\n",
    "    print(\"Creating graph variable in networkx...\")\n",
    "    print(time.asctime(time.localtime(time.time())))\n",
    "    G = nx.from_pandas_edgelist(df=shared_users, source='recipe_id', target='recipe_id_2', edge_attr='pct_users')\n",
    "    \n",
    "    # Checking to see how many disconnected subgraphs were created by sampling method\n",
    "    print(\"\\nAnalyzing disconnected subgraphs...\")\n",
    "    print(time.asctime(time.localtime(time.time())))\n",
    "    comps = [len(c) for c in sorted(nx.connected_components(G), key=len, reverse=True)]\n",
    "    print(\"There are {} disconnected subgraphs in G\".format(len(comps)))\n",
    "    print(comps)\n",
    "    \n",
    "    # Community analysis using Louvain's algorithm\n",
    "    print(\"\\nDetecting communities...\")\n",
    "    print(time.asctime(time.localtime(time.time())))\n",
    "    louvain_communities = nx_comm.louvain_communities(G, weight='pct_users')\n",
    "    print(\"There are {} communities\".format(len(louvain_communities)))\n",
    "    \n",
    "    return G, louvain_communities"
   ]
  },
  {
   "cell_type": "code",
   "execution_count": 7,
   "id": "e5f2bb87",
   "metadata": {},
   "outputs": [],
   "source": [
    "def analyze_communities(G, louvain_communities):\n",
    "    # Evaluate partitions modularity\n",
    "    print(\"Evaluating modularity..\")\n",
    "    l_mod = nx_comm.modularity(G, louvain_communities, weight='pct_users')\n",
    "    print(\"Louvain modularity is {}\".format(l_mod))\n",
    "    \n",
    "    # Evaluate partitions coverage and performance\n",
    "    print(\"\\nEvaluating coverage and performance..\")\n",
    "    l_coverage, l_perform = nx_comm.quality.partition_quality(G, louvain_communities)\n",
    "    print(\"Louvain coverage is {:.3f} and performance is {:.3f}\".format(l_coverage, l_perform))\n",
    "    \n",
    "    # Create assignments dataframe\n",
    "    print(\"\\nDetermining assignments dataframe...\")\n",
    "    louvain_assignments = pd.DataFrame([[node, ind] for ind, node_set in enumerate(louvain_communities) for node in node_set],\n",
    "                                   columns=['recipe_id', 'community_id'])\n",
    "    \n",
    "    # Determine community sizes\n",
    "    print(\"\\nDetermining sizes of communities...\")\n",
    "    community_sizes = np.array([[i, len(a)] for i, a in enumerate(louvain_communities)])\n",
    "    community_sizes = pd.DataFrame(community_sizes[community_sizes[:, 1].argsort()[::-1]], columns=['community_id', 'size'])\n",
    "    print(\"Top 5 community sizes\")\n",
    "    print(community_sizes[:5])\n",
    "    \n",
    "    return l_mod, l_coverage, l_perform, louvain_assignments, community_sizes"
   ]
  },
  {
   "cell_type": "code",
   "execution_count": 8,
   "id": "ea429978",
   "metadata": {},
   "outputs": [],
   "source": [
    "def determine_intercommunity_distance(shared_users, louvain_communities, louvain_assignments):\n",
    "    # Join clusters to shared users\n",
    "    print(\"Joining clusters to user-level file...\")\n",
    "    print(time.asctime(time.localtime(time.time())))\n",
    "    shared_users = shared_users.merge(louvain_assignments, on='recipe_id')\n",
    "    shared_users = shared_users.merge(louvain_assignments, left_on='recipe_id_2', right_on='recipe_id', suffixes=('', '_r')) \\\n",
    "                            .drop('recipe_id_r', axis=1) \\\n",
    "                            .rename({'community_id_r':'community_id_2'}, axis=1)\n",
    "    \n",
    "    # Calculate the median distance between clusters\n",
    "    print(\"\\nCalculating median distance between clusters...\")\n",
    "    print(time.asctime(time.localtime(time.time())))\n",
    "    comms = shared_users[['community_id', 'community_id_2', 'pct_users']] \\\n",
    "                    .groupby(by=['community_id', 'community_id_2']) \\\n",
    "                    .agg({'pct_users': ['median']}) \\\n",
    "                    .reset_index()\n",
    "    comms = comms[comms['community_id'] <= comms['community_id_2']]\n",
    "    comms.columns = comms.columns.map('_'.join)\n",
    "    comms = comms.rename({'community_id_': 'community_id', 'community_id_2_': 'community_id_2'}, axis=1)\n",
    "    \n",
    "    # Invert weights for distance calculation\n",
    "    print(\"\\nInverting weights for distance calculation...\")\n",
    "    print(time.asctime(time.localtime(time.time())))\n",
    "    comms['pct_users_median_inv'] = comms['pct_users_median'].max() - comms['pct_users_median'] \\\n",
    "                                + comms['pct_users_median'].min()\n",
    "    \n",
    "    \n",
    "    # Create community graph and check subgraphs\n",
    "    print(\"\\nCreating community graph and checking subgraphs...\")\n",
    "    print(time.asctime(time.localtime(time.time())))\n",
    "    comm_G = nx.from_pandas_edgelist(df=comms, source='community_id', target='community_id_2',\n",
    "                                     edge_attr=['pct_users_median', 'pct_users_median_inv'])\n",
    "    comm_comps = [len(c) for c in sorted(nx.connected_components(comm_G), key=len, reverse=True)]\n",
    "    print(\"There are {} disconnected subgraphs in the community graph\".format(len(comm_comps)))\n",
    "    print(comm_comps)\n",
    "\n",
    "    \n",
    "    # Use dijkstra's algorithm to calculate all to all distances\n",
    "    print(\"\\nCalculating distances...\")\n",
    "    print(time.asctime(time.localtime(time.time())))\n",
    "    comm_dists = dict(nx.all_pairs_dijkstra_path_length(comm_G, weight='pct_users_median_inv'))\n",
    "    comm_dists = pd.DataFrame([[source, dest, dist] for source, dists in comm_dists.items() for dest, dist in dists.items()], \n",
    "                                 columns=['community_id', 'community_id_2', 'community_distance'])\n",
    "    comm_dists = comm_dists[comm_dists['community_id'] != comm_dists['community_id_2'] ]\n",
    "    print(\"Complete\")\n",
    "    \n",
    "    return comms, comm_dists, comm_comps\n",
    "    "
   ]
  },
  {
   "cell_type": "code",
   "execution_count": 11,
   "id": "b67a0e56",
   "metadata": {},
   "outputs": [],
   "source": [
    "# Import data\n",
    "role = get_execution_role()\n",
    "bucket='sagemaker-cse-6242'\n",
    "data_key = 'clustering_data_filtered_pctthresh-08'\n",
    "data_location = 's3://{}/{}'.format(bucket, data_key)\n",
    "shared_users = pd.read_parquet(data_location)"
   ]
  },
  {
   "cell_type": "code",
   "execution_count": 12,
   "id": "9b2d7eac",
   "metadata": {},
   "outputs": [
    {
     "name": "stdout",
     "output_type": "stream",
     "text": [
      "Creating graph variable in networkx...\n",
      "Mon Apr 11 18:21:53 2022\n",
      "\n",
      "Analyzing disconnected subgraphs...\n",
      "Mon Apr 11 18:24:18 2022\n",
      "There are 15 disconnected subgraphs in G\n",
      "[83331, 3, 2, 2, 2, 2, 2, 2, 2, 2, 2, 2, 2, 2, 2]\n",
      "\n",
      "Detecting communities...\n",
      "Mon Apr 11 18:24:33 2022\n",
      "There are 31 communities\n"
     ]
    }
   ],
   "source": [
    "# Assign communities\n",
    "G, l_communities = determine_communities(shared_users)"
   ]
  },
  {
   "cell_type": "code",
   "execution_count": 13,
   "id": "cf6b6200",
   "metadata": {
    "scrolled": true
   },
   "outputs": [
    {
     "name": "stdout",
     "output_type": "stream",
     "text": [
      "Evaluating modularity..\n",
      "Louvain modularity is 0.46427852929002955\n",
      "\n",
      "Evaluating coverage and performance..\n",
      "Louvain coverage is 0.526 and performance is 0.839\n",
      "\n",
      "Determining assignments dataframe...\n",
      "\n",
      "Determining sizes of communities...\n",
      "Top 5 community sizes\n",
      "   community_id   size\n",
      "0             8  23148\n",
      "1             6  20144\n",
      "2            14   9918\n",
      "3             7   5321\n",
      "4            25   3367\n"
     ]
    }
   ],
   "source": [
    "# Evaluate communities\n",
    "l_mod, l_coverage, l_perform, l_assign, comm_sizes = analyze_communities(G, l_communities)"
   ]
  },
  {
   "cell_type": "code",
   "execution_count": 14,
   "id": "a5205e5e",
   "metadata": {},
   "outputs": [
    {
     "data": {
      "text/html": [
       "<div>\n",
       "<style scoped>\n",
       "    .dataframe tbody tr th:only-of-type {\n",
       "        vertical-align: middle;\n",
       "    }\n",
       "\n",
       "    .dataframe tbody tr th {\n",
       "        vertical-align: top;\n",
       "    }\n",
       "\n",
       "    .dataframe thead th {\n",
       "        text-align: right;\n",
       "    }\n",
       "</style>\n",
       "<table border=\"1\" class=\"dataframe\">\n",
       "  <thead>\n",
       "    <tr style=\"text-align: right;\">\n",
       "      <th></th>\n",
       "      <th>community_id</th>\n",
       "      <th>size</th>\n",
       "    </tr>\n",
       "  </thead>\n",
       "  <tbody>\n",
       "    <tr>\n",
       "      <th>count</th>\n",
       "      <td>31.000000</td>\n",
       "      <td>31.000000</td>\n",
       "    </tr>\n",
       "    <tr>\n",
       "      <th>mean</th>\n",
       "      <td>15.000000</td>\n",
       "      <td>2689.032258</td>\n",
       "    </tr>\n",
       "    <tr>\n",
       "      <th>std</th>\n",
       "      <td>9.092121</td>\n",
       "      <td>5486.465155</td>\n",
       "    </tr>\n",
       "    <tr>\n",
       "      <th>min</th>\n",
       "      <td>0.000000</td>\n",
       "      <td>2.000000</td>\n",
       "    </tr>\n",
       "    <tr>\n",
       "      <th>25%</th>\n",
       "      <td>7.500000</td>\n",
       "      <td>2.000000</td>\n",
       "    </tr>\n",
       "    <tr>\n",
       "      <th>50%</th>\n",
       "      <td>15.000000</td>\n",
       "      <td>768.000000</td>\n",
       "    </tr>\n",
       "    <tr>\n",
       "      <th>75%</th>\n",
       "      <td>22.500000</td>\n",
       "      <td>2497.500000</td>\n",
       "    </tr>\n",
       "    <tr>\n",
       "      <th>max</th>\n",
       "      <td>30.000000</td>\n",
       "      <td>23148.000000</td>\n",
       "    </tr>\n",
       "  </tbody>\n",
       "</table>\n",
       "</div>"
      ],
      "text/plain": [
       "       community_id          size\n",
       "count     31.000000     31.000000\n",
       "mean      15.000000   2689.032258\n",
       "std        9.092121   5486.465155\n",
       "min        0.000000      2.000000\n",
       "25%        7.500000      2.000000\n",
       "50%       15.000000    768.000000\n",
       "75%       22.500000   2497.500000\n",
       "max       30.000000  23148.000000"
      ]
     },
     "execution_count": 14,
     "metadata": {},
     "output_type": "execute_result"
    }
   ],
   "source": [
    "comm_sizes.describe()"
   ]
  },
  {
   "cell_type": "code",
   "execution_count": 15,
   "id": "3836a7ac",
   "metadata": {},
   "outputs": [
    {
     "name": "stdout",
     "output_type": "stream",
     "text": [
      "Joining clusters to user-level file...\n",
      "Mon Apr 11 18:43:36 2022\n",
      "\n",
      "Calculating median distance between clusters...\n",
      "Mon Apr 11 18:43:53 2022\n",
      "\n",
      "Inverting weights for distance calculation...\n",
      "Mon Apr 11 18:43:56 2022\n",
      "\n",
      "Creating community graph and checking subgraphs...\n",
      "Mon Apr 11 18:43:56 2022\n",
      "There are 15 disconnected subgraphs in the community graph\n",
      "[17, 1, 1, 1, 1, 1, 1, 1, 1, 1, 1, 1, 1, 1, 1]\n",
      "\n",
      "Calculating distances...\n",
      "Mon Apr 11 18:43:56 2022\n",
      "Complete\n"
     ]
    }
   ],
   "source": [
    "# Determine intercommunity distances\n",
    "comms, c_dists, c_comps = determine_intercommunity_distance(shared_users, l_communities, l_assign)"
   ]
  },
  {
   "cell_type": "code",
   "execution_count": 16,
   "id": "1c1cd843",
   "metadata": {},
   "outputs": [],
   "source": [
    "def visualize_community_graph(comms, node_sizes, k=0.4, alpha=0.9):\n",
    "    edge_list = [(r[0],r[1]) for r in np.array(comms[comms['community_id'] != comms['community_id_2']][['community_id', 'community_id_2']])]\n",
    "    G = nx.from_pandas_edgelist(df=comms, source='community_id', target='community_id_2', \n",
    "                                edge_attr=['pct_users_median'])\n",
    "    node_sizes = node_sizes[node_sizes['community_id'].apply(lambda x: x in list(G.nodes()))]\n",
    "    node_list = node_sizes['community_id']\n",
    "    node_sizes = node_sizes['size']/20\n",
    "#     weights = list(nx.get_edge_attributes(G,'pct_users_median').values())\n",
    "#     widths = [int((a - min(weights[:-1]))/(max(weights[:-1]) - min(weights[:-1]))*4) for a in weights]\n",
    "#     print(widths)\n",
    "    plt.figure(figsize=(5, 4))\n",
    "    nx.draw(G, nodelist=node_list, node_size=node_sizes, edgelist=edge_list, width=0.2,\n",
    "            alpha=alpha, pos=nx.spring_layout(G, weight='pct_users_median', k=k))"
   ]
  },
  {
   "cell_type": "code",
   "execution_count": 17,
   "id": "1acfdf97",
   "metadata": {
    "scrolled": true
   },
   "outputs": [
    {
     "data": {
      "image/png": "[encoded data removed]",
      "text/plain": [
       "<Figure size 360x288 with 1 Axes>"
      ]
     },
     "metadata": {},
     "output_type": "display_data"
    }
   ],
   "source": [
    "visualize_community_graph(comms, comm_sizes, k=0.7)"
   ]
  },
  {
   "cell_type": "markdown",
   "id": "5a3b0775",
   "metadata": {},
   "source": [
    "---\n",
    "### Check all recipes are in the assignments"
   ]
  },
  {
   "cell_type": "code",
   "execution_count": 18,
   "id": "c13ed199",
   "metadata": {},
   "outputs": [],
   "source": [
    "# Import data\n",
    "role = get_execution_role()\n",
    "bucket='sagemaker-cse-6242'\n",
    "data_key = 'users_in_count2_mean4.csv'\n",
    "data_location = 's3://{}/{}'.format(bucket, data_key)\n",
    "u_recipes = pd.read_csv(data_location)['recipe_id'].unique()"
   ]
  },
  {
   "cell_type": "code",
   "execution_count": 19,
   "id": "2d7f70dd",
   "metadata": {},
   "outputs": [],
   "source": [
    "# Import data\n",
    "role = get_execution_role()\n",
    "bucket='sagemaker-cse-6242'\n",
    "data_key = 'recipes_in_count2_mean4.parquet'\n",
    "data_location = 's3://{}/{}'.format(bucket, data_key)\n",
    "r_recipes = pd.read_parquet(data_location).reset_index()['recipe_id'].unique()"
   ]
  },
  {
   "cell_type": "code",
   "execution_count": 20,
   "id": "39c5799f",
   "metadata": {},
   "outputs": [],
   "source": [
    "assign_recipes = l_assign['recipe_id'].unique()"
   ]
  },
  {
   "cell_type": "code",
   "execution_count": 21,
   "id": "65b376a8",
   "metadata": {},
   "outputs": [],
   "source": [
    "def check_recipes(list_og, list_check):\n",
    "    missing = []\n",
    "    for r in list_og:\n",
    "        if r not in list_check:\n",
    "            missing += [r]\n",
    "    \n",
    "    print(\"{} of {} recipes missing\".format(len(missing), len(list_og)))\n",
    "    return missing"
   ]
  },
  {
   "cell_type": "code",
   "execution_count": 22,
   "id": "d6117b9f",
   "metadata": {},
   "outputs": [
    {
     "name": "stdout",
     "output_type": "stream",
     "text": [
      "2159 of 85519 recipes missing\n"
     ]
    }
   ],
   "source": [
    "u_recipes_missing = check_recipes(u_recipes, assign_recipes)"
   ]
  },
  {
   "cell_type": "code",
   "execution_count": 23,
   "id": "60929af6",
   "metadata": {},
   "outputs": [
    {
     "name": "stdout",
     "output_type": "stream",
     "text": [
      "1202 of 48454 recipes missing\n"
     ]
    }
   ],
   "source": [
    "r_recipes_missing = check_recipes(r_recipes, assign_recipes)"
   ]
  },
  {
   "cell_type": "markdown",
   "id": "5f93bd5a",
   "metadata": {},
   "source": [
    "---\n",
    "### Check all distances are accounted for"
   ]
  },
  {
   "cell_type": "code",
   "execution_count": 24,
   "id": "9088b27e",
   "metadata": {},
   "outputs": [],
   "source": [
    "def check_distance(louvain_communities, comm_dist):\n",
    "    expected = len(louvain_communities)**2 - len(louvain_communities)\n",
    "    got = comm_dist.shape[0]\n",
    "    print(\"Expected {} distance records, got {}\".format(expected, got))"
   ]
  },
  {
   "cell_type": "code",
   "execution_count": 25,
   "id": "5b079d8d",
   "metadata": {},
   "outputs": [
    {
     "data": {
      "text/html": [
       "<div>\n",
       "<style scoped>\n",
       "    .dataframe tbody tr th:only-of-type {\n",
       "        vertical-align: middle;\n",
       "    }\n",
       "\n",
       "    .dataframe tbody tr th {\n",
       "        vertical-align: top;\n",
       "    }\n",
       "\n",
       "    .dataframe thead th {\n",
       "        text-align: right;\n",
       "    }\n",
       "</style>\n",
       "<table border=\"1\" class=\"dataframe\">\n",
       "  <thead>\n",
       "    <tr style=\"text-align: right;\">\n",
       "      <th></th>\n",
       "      <th>community_id</th>\n",
       "      <th>community_id_2</th>\n",
       "      <th>community_distance</th>\n",
       "    </tr>\n",
       "  </thead>\n",
       "  <tbody>\n",
       "    <tr>\n",
       "      <th>1</th>\n",
       "      <td>0</td>\n",
       "      <td>9</td>\n",
       "      <td>0.375619</td>\n",
       "    </tr>\n",
       "    <tr>\n",
       "      <th>2</th>\n",
       "      <td>0</td>\n",
       "      <td>14</td>\n",
       "      <td>0.375619</td>\n",
       "    </tr>\n",
       "    <tr>\n",
       "      <th>3</th>\n",
       "      <td>0</td>\n",
       "      <td>16</td>\n",
       "      <td>0.375619</td>\n",
       "    </tr>\n",
       "    <tr>\n",
       "      <th>4</th>\n",
       "      <td>0</td>\n",
       "      <td>3</td>\n",
       "      <td>0.393476</td>\n",
       "    </tr>\n",
       "    <tr>\n",
       "      <th>5</th>\n",
       "      <td>0</td>\n",
       "      <td>5</td>\n",
       "      <td>0.393476</td>\n",
       "    </tr>\n",
       "    <tr>\n",
       "      <th>...</th>\n",
       "      <td>...</td>\n",
       "      <td>...</td>\n",
       "      <td>...</td>\n",
       "    </tr>\n",
       "    <tr>\n",
       "      <th>288</th>\n",
       "      <td>29</td>\n",
       "      <td>27</td>\n",
       "      <td>0.780417</td>\n",
       "    </tr>\n",
       "    <tr>\n",
       "      <th>289</th>\n",
       "      <td>29</td>\n",
       "      <td>1</td>\n",
       "      <td>0.786953</td>\n",
       "    </tr>\n",
       "    <tr>\n",
       "      <th>290</th>\n",
       "      <td>29</td>\n",
       "      <td>4</td>\n",
       "      <td>0.786953</td>\n",
       "    </tr>\n",
       "    <tr>\n",
       "      <th>291</th>\n",
       "      <td>29</td>\n",
       "      <td>13</td>\n",
       "      <td>0.786953</td>\n",
       "    </tr>\n",
       "    <tr>\n",
       "      <th>292</th>\n",
       "      <td>29</td>\n",
       "      <td>25</td>\n",
       "      <td>0.786953</td>\n",
       "    </tr>\n",
       "  </tbody>\n",
       "</table>\n",
       "<p>272 rows × 3 columns</p>\n",
       "</div>"
      ],
      "text/plain": [
       "     community_id  community_id_2  community_distance\n",
       "1               0               9            0.375619\n",
       "2               0              14            0.375619\n",
       "3               0              16            0.375619\n",
       "4               0               3            0.393476\n",
       "5               0               5            0.393476\n",
       "..            ...             ...                 ...\n",
       "288            29              27            0.780417\n",
       "289            29               1            0.786953\n",
       "290            29               4            0.786953\n",
       "291            29              13            0.786953\n",
       "292            29              25            0.786953\n",
       "\n",
       "[272 rows x 3 columns]"
      ]
     },
     "execution_count": 25,
     "metadata": {},
     "output_type": "execute_result"
    }
   ],
   "source": [
    "c_dists"
   ]
  },
  {
   "cell_type": "code",
   "execution_count": 26,
   "id": "79994c23",
   "metadata": {
    "scrolled": true
   },
   "outputs": [
    {
     "data": {
      "text/plain": [
       "31"
      ]
     },
     "execution_count": 26,
     "metadata": {},
     "output_type": "execute_result"
    }
   ],
   "source": [
    "len(l_communities)"
   ]
  },
  {
   "cell_type": "code",
   "execution_count": 27,
   "id": "6421c650",
   "metadata": {
    "scrolled": true
   },
   "outputs": [
    {
     "name": "stdout",
     "output_type": "stream",
     "text": [
      "Expected 930 distance records, got 272\n"
     ]
    }
   ],
   "source": [
    "check_distance(l_communities, c_dists)"
   ]
  },
  {
   "cell_type": "code",
   "execution_count": 40,
   "id": "4898193d",
   "metadata": {},
   "outputs": [],
   "source": [
    "# Write out files\n",
    "# Community assignments\n",
    "data_key = 'community_assignments_pctthresh-08.parquet'\n",
    "l_assign.to_parquet(data_key)\n",
    "\n",
    "# Community distances\n",
    "data_key = 'community_distances_pctthresh-08.parquet'\n",
    "c_dists.to_parquet(data_key)\n",
    "\n",
    "# Community graph edges\n",
    "data_key = 'community_graph_edges_pctthresh-08.parquet'\n",
    "comms.to_parquet(data_key)\n",
    "\n",
    "# Community graph subgraphs\n",
    "data_key = 'community_graph_subg_pctthresh-08.parquet'\n",
    "np.savetxt(data_key, np.array(c_comps))"
   ]
  }
 ],
 "metadata": {
  "kernelspec": {
   "display_name": "CSE 6242 Project",
   "language": "python",
   "name": "cse6242-project"
  },
  "language_info": {
   "codemirror_mode": {
    "name": "ipython",
    "version": 3
   },
   "file_extension": ".py",
   "mimetype": "text/x-python",
   "name": "python",
   "nbconvert_exporter": "python",
   "pygments_lexer": "ipython3",
   "version": "3.6.13"
  }
 },
 "nbformat": 4,
 "nbformat_minor": 5
}
