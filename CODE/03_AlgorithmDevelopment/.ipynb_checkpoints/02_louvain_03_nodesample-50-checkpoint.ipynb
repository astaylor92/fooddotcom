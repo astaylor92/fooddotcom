{
 "cells": [
  {
   "cell_type": "markdown",
   "id": "2e72d9e3",
   "metadata": {},
   "source": [
    "# Community Detection\n",
    "\n",
    "<hr style=\"border:2px solid black\"> </hr>\n",
    "\n",
    "## Notebook 02.03 - Perform Louvain's algorithm on network, uniformly random sampling 50% nodes\n",
    "\n",
    "Create a recipe graph with weighted edges based on users. Analyze the graph to detect user communities, and use the distance between communities to calculate similarity scoring.\n",
    "\n",
    "---\n",
    "\n",
    "### Import libraries"
   ]
  },
  {
   "cell_type": "code",
   "execution_count": 1,
   "id": "9a7ca3a1",
   "metadata": {},
   "outputs": [],
   "source": [
    "import matplotlib.pyplot as plt\n",
    "import pyspark.sql.functions as F\n",
    "import pandas as pd\n",
    "import numpy as np\n",
    "import time\n",
    "import networkx as nx\n",
    "import networkx.algorithms.community as nx_comm\n",
    "import sys\n",
    "import scipy\n",
    "from node2vec import Node2Vec\n",
    "from sklearn.cluster import KMeans"
   ]
  },
  {
   "cell_type": "code",
   "execution_count": 2,
   "id": "cba60ed5",
   "metadata": {},
   "outputs": [],
   "source": [
    "def num_uniques(ser):\n",
    "    try:\n",
    "        return len(ser.unique())\n",
    "    except:\n",
    "        return \"Not unique check-able\""
   ]
  },
  {
   "cell_type": "code",
   "execution_count": 3,
   "id": "47743aac",
   "metadata": {},
   "outputs": [],
   "source": [
    "def summarize_df(df):\n",
    "    print(\"======DATA SUMMARY======\")\n",
    "    print(\"{} rows by {} columns\".format(df.shape[0], df.shape[1]))\n",
    "    print(\"\\n======COLUMNS======\")\n",
    "    print(df.dtypes)\n",
    "    print(\"\\n======PREVIEW======\")\n",
    "    display(df.head())\n",
    "    print(\"\\n======NUMERICAL COL SUMMARY======\")\n",
    "    print(df.describe())\n",
    "    print(\"\\n\")\n",
    "    for col in df.columns:\n",
    "        print(\"{}: {} unique values\".format(col, num_uniques(df[col])))"
   ]
  },
  {
   "cell_type": "markdown",
   "id": "197b8c1c",
   "metadata": {},
   "source": [
    "---\n",
    "### Create network and analyze communities"
   ]
  },
  {
   "cell_type": "code",
   "execution_count": 30,
   "id": "0fc98206",
   "metadata": {},
   "outputs": [],
   "source": [
    "def determine_communities(shared_users):\n",
    "    # Creating graph\n",
    "    print(\"Creating graph variable in networkx...\")\n",
    "    print(time.asctime(time.localtime(time.time())))\n",
    "    G = nx.from_pandas_edgelist(df=shared_users, source='recipe_id', target='recipe_id_2', edge_attr='pct_users')\n",
    "    \n",
    "    # Checking to see how many disconnected subgraphs were created by sampling method\n",
    "    print(\"\\nAnalyzing disconnected subgraphs...\")\n",
    "    print(time.asctime(time.localtime(time.time())))\n",
    "    comps = [len(c) for c in sorted(nx.connected_components(G), key=len, reverse=True)]\n",
    "    print(\"There are {} disconnected subgraphs in G\".format(len(comps)))\n",
    "    print(comps)\n",
    "    \n",
    "    # Community analysis using Louvain's algorithm\n",
    "    print(\"\\nDetecting communities...\")\n",
    "    print(time.asctime(time.localtime(time.time())))\n",
    "    louvain_communities = nx_comm.louvain_communities(G, weight='pct_users')\n",
    "    print(\"There are {} communities\".format(len(louvain_communities)))\n",
    "    \n",
    "    return G, louvain_communities"
   ]
  },
  {
   "cell_type": "code",
   "execution_count": 5,
   "id": "7f1726a5",
   "metadata": {},
   "outputs": [],
   "source": [
    "def analyze_communities(G, louvain_communities):\n",
    "    # Evaluate partitions modularity\n",
    "    print(\"Evaluating modularity..\")\n",
    "    l_mod = nx_comm.modularity(G, louvain_communities, weight='pct_users')\n",
    "    print(\"Louvain modularity is {}\".format(l_mod))\n",
    "    \n",
    "    # Evaluate partitions coverage and performance\n",
    "    print(\"\\nEvaluating coverage and performance..\")\n",
    "    l_coverage, l_perform = nx_comm.quality.partition_quality(G, louvain_communities)\n",
    "    print(\"Louvain coverage is {:.3f} and performance is {:.3f}\".format(l_coverage, l_perform))\n",
    "    \n",
    "    # Create assignments dataframe\n",
    "    print(\"\\nDetermining assignments dataframe...\")\n",
    "    louvain_assignments = pd.DataFrame([[node, ind] for ind, node_set in enumerate(louvain_communities) for node in node_set],\n",
    "                                   columns=['recipe_id', 'community_id'])\n",
    "    \n",
    "    # Determine community sizes\n",
    "    print(\"\\nDetermining sizes of communities...\")\n",
    "    community_sizes = np.array([[i, len(a)] for i, a in enumerate(louvain_communities)])\n",
    "    community_sizes = pd.DataFrame(community_sizes[community_sizes[:, 1].argsort()[::-1]], columns=['community_id', 'size'])\n",
    "    print(\"Top 5 community sizes\")\n",
    "    print(community_sizes[:5])\n",
    "    \n",
    "    return l_mod, l_coverage, l_perform, louvain_assignments, community_sizes"
   ]
  },
  {
   "cell_type": "code",
   "execution_count": 37,
   "id": "fcd700c6",
   "metadata": {},
   "outputs": [],
   "source": [
    "def determine_intercommunity_distance(shared_users, louvain_communities, louvain_assignments):\n",
    "    # Join clusters to shared users\n",
    "    print(\"Joining clusters to user-level file...\")\n",
    "    print(time.asctime(time.localtime(time.time())))\n",
    "    shared_users = shared_users.merge(louvain_assignments, on='recipe_id')\n",
    "    shared_users = shared_users.merge(louvain_assignments, left_on='recipe_id_2', right_on='recipe_id', suffixes=('', '_r')) \\\n",
    "                            .drop('recipe_id_r', axis=1) \\\n",
    "                            .rename({'community_id_r':'community_id_2'}, axis=1)\n",
    "    \n",
    "    # Calculate the median distance between clusters\n",
    "    print(\"\\nCalculating median distance between clusters...\")\n",
    "    print(time.asctime(time.localtime(time.time())))\n",
    "    comms = shared_users[['community_id', 'community_id_2', 'pct_users']] \\\n",
    "                    .groupby(by=['community_id', 'community_id_2']) \\\n",
    "                    .agg({'pct_users': ['median']}) \\\n",
    "                    .reset_index()\n",
    "    comms = comms[comms['community_id'] <= comms['community_id_2']]\n",
    "    comms.columns = comms.columns.map('_'.join)\n",
    "    comms = comms.rename({'community_id_': 'community_id', 'community_id_2_': 'community_id_2'}, axis=1)\n",
    "    \n",
    "    # Invert weights for distance calculation\n",
    "    print(\"\\nInverting weights for distance calculation...\")\n",
    "    print(time.asctime(time.localtime(time.time())))\n",
    "    comms['pct_users_median_inv'] = comms['pct_users_median'].max() - comms['pct_users_median'] \\\n",
    "                                + comms['pct_users_median'].min()\n",
    "    \n",
    "    \n",
    "    # Create community graph and check subgraphs\n",
    "    print(\"\\nCreating community graph and checking subgraphs...\")\n",
    "    print(time.asctime(time.localtime(time.time())))\n",
    "    comm_G = nx.from_pandas_edgelist(df=comms, source='community_id', target='community_id_2',\n",
    "                                     edge_attr=['pct_users_median', 'pct_users_median_inv'])\n",
    "    comm_comps = [len(c) for c in sorted(nx.connected_components(comm_G), key=len, reverse=True)]\n",
    "    print(\"There are {} disconnected subgraphs in the community graph\".format(len(comm_comps)))\n",
    "    print(comm_comps)\n",
    "        \n",
    "        \n",
    "    # Visualize graph\n",
    "    # TBD\n",
    "    \n",
    "    # Use dijkstra's algorithm to calculate all to all distances\n",
    "    print(\"\\nCalculating distances...\")\n",
    "    print(time.asctime(time.localtime(time.time())))\n",
    "    comm_dists = dict(nx.all_pairs_dijkstra_path_length(comm_G, weight='pct_users_median_inv'))\n",
    "    comm_dists = pd.DataFrame([[source, dest, dist] for source, dists in comm_dists.items() for dest, dist in dists.items()], \n",
    "                                 columns=['community_id', 'community_id_2', 'community_distance'])\n",
    "    comm_dists = comm_dists[comm_dists['community_id'] != comm_dists['community_id_2'] ]\n",
    "    print(\"Complete\")\n",
    "    \n",
    "    return comms, comm_dists, comm_comps\n",
    "    "
   ]
  },
  {
   "cell_type": "code",
   "execution_count": 26,
   "id": "dd0756a7",
   "metadata": {
    "scrolled": true
   },
   "outputs": [],
   "source": [
    "# Import data\n",
    "shared_users = pd.read_parquet('clustering_data_filtered_pctthresh-08')"
   ]
  },
  {
   "cell_type": "code",
   "execution_count": 32,
   "id": "fc808a62",
   "metadata": {},
   "outputs": [
    {
     "name": "stdout",
     "output_type": "stream",
     "text": [
      "======DATA SUMMARY======\n",
      "12786763 rows by 3 columns\n",
      "\n",
      "======COLUMNS======\n",
      "recipe_id        int64\n",
      "recipe_id_2      int64\n",
      "pct_users      float64\n",
      "dtype: object\n",
      "\n",
      "======PREVIEW======\n"
     ]
    },
    {
     "data": {
      "text/html": [
       "<div>\n",
       "<style scoped>\n",
       "    .dataframe tbody tr th:only-of-type {\n",
       "        vertical-align: middle;\n",
       "    }\n",
       "\n",
       "    .dataframe tbody tr th {\n",
       "        vertical-align: top;\n",
       "    }\n",
       "\n",
       "    .dataframe thead th {\n",
       "        text-align: right;\n",
       "    }\n",
       "</style>\n",
       "<table border=\"1\" class=\"dataframe\">\n",
       "  <thead>\n",
       "    <tr style=\"text-align: right;\">\n",
       "      <th></th>\n",
       "      <th>recipe_id</th>\n",
       "      <th>recipe_id_2</th>\n",
       "      <th>pct_users</th>\n",
       "    </tr>\n",
       "  </thead>\n",
       "  <tbody>\n",
       "    <tr>\n",
       "      <th>159</th>\n",
       "      <td>0</td>\n",
       "      <td>11190</td>\n",
       "      <td>0.125000</td>\n",
       "    </tr>\n",
       "    <tr>\n",
       "      <th>160</th>\n",
       "      <td>114</td>\n",
       "      <td>11190</td>\n",
       "      <td>0.083333</td>\n",
       "    </tr>\n",
       "    <tr>\n",
       "      <th>164</th>\n",
       "      <td>2004</td>\n",
       "      <td>11190</td>\n",
       "      <td>0.125000</td>\n",
       "    </tr>\n",
       "    <tr>\n",
       "      <th>166</th>\n",
       "      <td>3184</td>\n",
       "      <td>11190</td>\n",
       "      <td>0.125000</td>\n",
       "    </tr>\n",
       "    <tr>\n",
       "      <th>171</th>\n",
       "      <td>6775</td>\n",
       "      <td>11190</td>\n",
       "      <td>0.111111</td>\n",
       "    </tr>\n",
       "  </tbody>\n",
       "</table>\n",
       "</div>"
      ],
      "text/plain": [
       "     recipe_id  recipe_id_2  pct_users\n",
       "159          0        11190   0.125000\n",
       "160        114        11190   0.083333\n",
       "164       2004        11190   0.125000\n",
       "166       3184        11190   0.125000\n",
       "171       6775        11190   0.111111"
      ]
     },
     "metadata": {},
     "output_type": "display_data"
    },
    {
     "name": "stdout",
     "output_type": "stream",
     "text": [
      "\n",
      "======NUMERICAL COL SUMMARY======\n",
      "          recipe_id   recipe_id_2     pct_users\n",
      "count  1.278676e+07  1.278676e+07  1.278676e+07\n",
      "mean   5.932713e+04  1.183808e+05  1.517570e-01\n",
      "std    4.170550e+04  4.178089e+04  6.683426e-02\n",
      "min    0.000000e+00  5.800000e+01  8.000000e-02\n",
      "25%    2.421400e+04  8.879800e+04  1.000000e-01\n",
      "50%    5.208200e+04  1.253990e+05  1.250000e-01\n",
      "75%    8.879600e+04  1.535960e+05  1.818182e-01\n",
      "max    1.782240e+05  1.782560e+05  6.666667e-01\n",
      "\n",
      "\n",
      "recipe_id: 40815 unique values\n",
      "recipe_id_2: 40400 unique values\n",
      "pct_users: 230 unique values\n"
     ]
    }
   ],
   "source": [
    "# Sample data\n",
    "shared_nodes = pd.concat([shared_users['recipe_id'], shared_users['recipe_id']]).unique()\n",
    "sampled_nodes = np.random.choice(shared_nodes, size=int(.5*len(shared_nodes)), replace=False)\n",
    "sampled_users = shared_users[(shared_users['recipe_id'].isin(sampled_nodes)) & (shared_users['recipe_id_2'].isin(sampled_nodes))]\n",
    "summarize_df(sampled_users)"
   ]
  },
  {
   "cell_type": "code",
   "execution_count": 33,
   "id": "e67ca593",
   "metadata": {},
   "outputs": [
    {
     "name": "stdout",
     "output_type": "stream",
     "text": [
      "Creating graph variable in networkx...\n",
      "Mon Apr 11 12:03:11 2022\n",
      "\n",
      "Analyzing disconnected subgraphs...\n",
      "Mon Apr 11 12:04:01 2022\n",
      "There are 2 disconnected subgraphs in G\n",
      "[41116, 2]\n",
      "\n",
      "Detecting communities...\n",
      "Mon Apr 11 12:04:07 2022\n",
      "There are 18 communities\n"
     ]
    }
   ],
   "source": [
    "# Assign communities\n",
    "G, l_communities = determine_communities(sampled_users)"
   ]
  },
  {
   "cell_type": "code",
   "execution_count": 34,
   "id": "1f7011e7",
   "metadata": {},
   "outputs": [
    {
     "name": "stdout",
     "output_type": "stream",
     "text": [
      "Evaluating modularity..\n",
      "Louvain modularity is 0.4739452230006969\n",
      "\n",
      "Evaluating coverage and performance..\n",
      "Louvain coverage is 0.519 and performance is 0.810\n",
      "\n",
      "Determining assignments dataframe...\n",
      "\n",
      "Determining sizes of communities...\n",
      "Top 5 community sizes\n",
      "   community_id   size\n",
      "0            10  16329\n",
      "1            15   4435\n",
      "2             0   3168\n",
      "3             2   2411\n",
      "4             1   1907\n"
     ]
    }
   ],
   "source": [
    "# Evaluate communities\n",
    "l_mod, l_coverage, l_perform, l_assign, comm_sizes = analyze_communities(G, l_communities)"
   ]
  },
  {
   "cell_type": "code",
   "execution_count": 35,
   "id": "2688cf28",
   "metadata": {},
   "outputs": [
    {
     "data": {
      "text/html": [
       "<div>\n",
       "<style scoped>\n",
       "    .dataframe tbody tr th:only-of-type {\n",
       "        vertical-align: middle;\n",
       "    }\n",
       "\n",
       "    .dataframe tbody tr th {\n",
       "        vertical-align: top;\n",
       "    }\n",
       "\n",
       "    .dataframe thead th {\n",
       "        text-align: right;\n",
       "    }\n",
       "</style>\n",
       "<table border=\"1\" class=\"dataframe\">\n",
       "  <thead>\n",
       "    <tr style=\"text-align: right;\">\n",
       "      <th></th>\n",
       "      <th>community_id</th>\n",
       "      <th>size</th>\n",
       "    </tr>\n",
       "  </thead>\n",
       "  <tbody>\n",
       "    <tr>\n",
       "      <th>count</th>\n",
       "      <td>18.000000</td>\n",
       "      <td>18.000000</td>\n",
       "    </tr>\n",
       "    <tr>\n",
       "      <th>mean</th>\n",
       "      <td>8.500000</td>\n",
       "      <td>2284.333333</td>\n",
       "    </tr>\n",
       "    <tr>\n",
       "      <th>std</th>\n",
       "      <td>5.338539</td>\n",
       "      <td>3664.152771</td>\n",
       "    </tr>\n",
       "    <tr>\n",
       "      <th>min</th>\n",
       "      <td>0.000000</td>\n",
       "      <td>2.000000</td>\n",
       "    </tr>\n",
       "    <tr>\n",
       "      <th>25%</th>\n",
       "      <td>4.250000</td>\n",
       "      <td>928.000000</td>\n",
       "    </tr>\n",
       "    <tr>\n",
       "      <th>50%</th>\n",
       "      <td>8.500000</td>\n",
       "      <td>1332.000000</td>\n",
       "    </tr>\n",
       "    <tr>\n",
       "      <th>75%</th>\n",
       "      <td>12.750000</td>\n",
       "      <td>1842.000000</td>\n",
       "    </tr>\n",
       "    <tr>\n",
       "      <th>max</th>\n",
       "      <td>17.000000</td>\n",
       "      <td>16329.000000</td>\n",
       "    </tr>\n",
       "  </tbody>\n",
       "</table>\n",
       "</div>"
      ],
      "text/plain": [
       "       community_id          size\n",
       "count     18.000000     18.000000\n",
       "mean       8.500000   2284.333333\n",
       "std        5.338539   3664.152771\n",
       "min        0.000000      2.000000\n",
       "25%        4.250000    928.000000\n",
       "50%        8.500000   1332.000000\n",
       "75%       12.750000   1842.000000\n",
       "max       17.000000  16329.000000"
      ]
     },
     "execution_count": 35,
     "metadata": {},
     "output_type": "execute_result"
    }
   ],
   "source": [
    "comm_sizes.describe()"
   ]
  },
  {
   "cell_type": "code",
   "execution_count": 38,
   "id": "134c2d00",
   "metadata": {},
   "outputs": [
    {
     "name": "stdout",
     "output_type": "stream",
     "text": [
      "Joining clusters to user-level file...\n",
      "Mon Apr 11 12:13:26 2022\n",
      "\n",
      "Calculating median distance between clusters...\n",
      "Mon Apr 11 12:13:41 2022\n",
      "\n",
      "Inverting weights for distance calculation...\n",
      "Mon Apr 11 12:13:42 2022\n",
      "\n",
      "Creating community graph and checking subgraphs...\n",
      "Mon Apr 11 12:13:42 2022\n",
      "There are 2 disconnected subgraphs in the community graph\n",
      "[17, 1]\n",
      "\n",
      "Calculating distances...\n",
      "Mon Apr 11 12:13:42 2022\n",
      "Complete\n"
     ]
    }
   ],
   "source": [
    "# Determine intercommunity distances\n",
    "comms, c_dists, c_comps = determine_intercommunity_distance(shared_users, l_communities, l_assign)"
   ]
  },
  {
   "cell_type": "code",
   "execution_count": 46,
   "id": "7ea3cf4b",
   "metadata": {},
   "outputs": [],
   "source": [
    "def visualize_community_graph(comms, node_sizes, k=0.4, alpha=0.9):\n",
    "    edge_list = [(r[0],r[1]) for r in np.array(comms[comms['community_id'] != comms['community_id_2']][['community_id', 'community_id_2']])]\n",
    "    G = nx.from_pandas_edgelist(df=comms, source='community_id', target='community_id_2', \n",
    "                                edge_attr=['pct_users_median'])\n",
    "    node_sizes = node_sizes[node_sizes['community_id'].apply(lambda x: x in list(G.nodes()))]\n",
    "    node_list = node_sizes['community_id']\n",
    "    node_sizes = node_sizes['size']/20\n",
    "#     weights = list(nx.get_edge_attributes(G,'pct_users_median').values())\n",
    "#     widths = [int((a - min(weights[:-1]))/(max(weights[:-1]) - min(weights[:-1]))*4) for a in weights]\n",
    "#     print(widths)\n",
    "    plt.figure(figsize=(5, 4))\n",
    "    nx.draw(G, nodelist=node_list, node_size=node_sizes, edgelist=edge_list, width=0.2,\n",
    "            alpha=alpha, pos=nx.spring_layout(G, weight='pct_users_median', k=k))"
   ]
  },
  {
   "cell_type": "code",
   "execution_count": 49,
   "id": "eb300425",
   "metadata": {},
   "outputs": [
    {
     "data": {
      "image/png": "[encoded data removed]",
      "text/plain": [
       "<Figure size 360x288 with 1 Axes>"
      ]
     },
     "metadata": {},
     "output_type": "display_data"
    }
   ],
   "source": [
    "visualize_community_graph(comms, comm_sizes[:-1], k=0.9)"
   ]
  },
  {
   "cell_type": "markdown",
   "id": "02faa941",
   "metadata": {},
   "source": [
    "---\n",
    "### Check all recipes are in the assignments"
   ]
  },
  {
   "cell_type": "code",
   "execution_count": 50,
   "id": "a1d1d429",
   "metadata": {},
   "outputs": [],
   "source": [
    "# Read in OG users and recipe files\n",
    "u_recipes = pd.read_csv('../01_Data_Cleansing/users_in_count2_mean4.csv') \\\n",
    "                ['recipe_id'].unique()"
   ]
  },
  {
   "cell_type": "code",
   "execution_count": 51,
   "id": "3dcf5c41",
   "metadata": {},
   "outputs": [],
   "source": [
    "r_recipes = pd.read_parquet('../01_Data_Cleansing/recipes_in_count2_mean4.parquet') \\\n",
    "                    .reset_index() \\\n",
    "                    ['recipe_id'].unique()"
   ]
  },
  {
   "cell_type": "code",
   "execution_count": 52,
   "id": "e19c4150",
   "metadata": {},
   "outputs": [],
   "source": [
    "assign_recipes = l_assign['recipe_id'].unique()"
   ]
  },
  {
   "cell_type": "code",
   "execution_count": 53,
   "id": "bcb6055a",
   "metadata": {},
   "outputs": [],
   "source": [
    "def check_recipes(list_og, list_check):\n",
    "    missing = []\n",
    "    for r in list_og:\n",
    "        if r not in list_check:\n",
    "            missing += [r]\n",
    "    \n",
    "    print(\"{} of {} recipes missing\".format(len(missing), len(list_og)))\n",
    "    return missing"
   ]
  },
  {
   "cell_type": "code",
   "execution_count": 54,
   "id": "ceb3c415",
   "metadata": {},
   "outputs": [
    {
     "name": "stdout",
     "output_type": "stream",
     "text": [
      "44401 of 85519 recipes missing\n"
     ]
    }
   ],
   "source": [
    "u_recipes_missing = check_recipes(u_recipes, assign_recipes)"
   ]
  },
  {
   "cell_type": "code",
   "execution_count": 55,
   "id": "5e9eec1c",
   "metadata": {},
   "outputs": [
    {
     "name": "stdout",
     "output_type": "stream",
     "text": [
      "25161 of 48454 recipes missing\n"
     ]
    }
   ],
   "source": [
    "r_recipes_missing = check_recipes(r_recipes, assign_recipes)"
   ]
  },
  {
   "cell_type": "markdown",
   "id": "5dbb250f",
   "metadata": {},
   "source": [
    "---\n",
    "### Check all distances are accounted for"
   ]
  },
  {
   "cell_type": "code",
   "execution_count": 56,
   "id": "cd1b45ff",
   "metadata": {},
   "outputs": [],
   "source": [
    "def check_distance(louvain_communities, comm_dist):\n",
    "    expected = len(louvain_communities)**2 - len(louvain_communities)\n",
    "    got = comm_dist.shape[0]\n",
    "    print(\"Expected {} distance records, got {}\".format(expected, got))"
   ]
  },
  {
   "cell_type": "code",
   "execution_count": 57,
   "id": "47da7663",
   "metadata": {},
   "outputs": [
    {
     "name": "stdout",
     "output_type": "stream",
     "text": [
      "Expected 306 distance records, got 272\n"
     ]
    }
   ],
   "source": [
    "check_distance(l_communities, c_dists)"
   ]
  },
  {
   "cell_type": "code",
   "execution_count": 58,
   "id": "017ab3cb",
   "metadata": {},
   "outputs": [],
   "source": [
    "# Write out files\n",
    "# Community assignments\n",
    "data_key = 'community_assignments_sample-50.parquet'\n",
    "l_assign.to_parquet(data_key)\n",
    "\n",
    "# Community distances\n",
    "data_key = 'community_distances_sample-50.parquet'\n",
    "c_dists.to_parquet(data_key)\n",
    "\n",
    "# Community graph edges\n",
    "data_key = 'community_graph_edges_sample-50.parquet'\n",
    "comms.to_parquet(data_key)\n",
    "\n",
    "# Community graph subgraphs\n",
    "data_key = 'community_graph_subg_sample-50.parquet'\n",
    "np.savetxt(data_key, np.array(c_comps))"
   ]
  }
 ],
 "metadata": {
  "kernelspec": {
   "display_name": "CSE 6242 Project Graph",
   "language": "python",
   "name": "cse6242-project-graph"
  },
  "language_info": {
   "codemirror_mode": {
    "name": "ipython",
    "version": 3
   },
   "file_extension": ".py",
   "mimetype": "text/x-python",
   "name": "python",
   "nbconvert_exporter": "python",
   "pygments_lexer": "ipython3",
   "version": "3.8.12"
  }
 },
 "nbformat": 4,
 "nbformat_minor": 5
}
