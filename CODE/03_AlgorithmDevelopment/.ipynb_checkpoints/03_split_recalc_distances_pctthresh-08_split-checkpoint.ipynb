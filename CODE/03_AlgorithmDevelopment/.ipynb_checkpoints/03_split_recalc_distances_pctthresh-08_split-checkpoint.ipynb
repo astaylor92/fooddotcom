{
 "cells": [
  {
   "cell_type": "markdown",
   "id": "ca632fd9",
   "metadata": {},
   "source": [
    "# Community Detection\n",
    "\n",
    "<hr style=\"border:2px solid black\"> </hr>\n",
    "\n",
    "## Notebook 03 - Split largest clusters and recalculate distances / assignments\n",
    "\n",
    "---\n",
    "\n",
    "### Import libraries"
   ]
  },
  {
   "cell_type": "code",
   "execution_count": 1,
   "id": "0a0a9d65",
   "metadata": {},
   "outputs": [],
   "source": [
    "import matplotlib.pyplot as plt\n",
    "import pandas as pd\n",
    "import numpy as np\n",
    "import time\n",
    "import networkx as nx\n",
    "import networkx.algorithms.community as nx_comm"
   ]
  },
  {
   "cell_type": "code",
   "execution_count": 2,
   "id": "437338d0",
   "metadata": {},
   "outputs": [],
   "source": [
    "def determine_intercommunity_distance(shared_users, louvain_assignments):\n",
    "    # Join clusters to shared users\n",
    "    print(\"Joining clusters to user-level file...\")\n",
    "    print(time.asctime(time.localtime(time.time())))\n",
    "    shared_users = shared_users.merge(louvain_assignments, on='recipe_id')\n",
    "    shared_users = shared_users.merge(louvain_assignments, left_on='recipe_id_2', right_on='recipe_id', suffixes=('', '_r')) \\\n",
    "                            .drop('recipe_id_r', axis=1) \\\n",
    "                            .rename({'community_id_r':'community_id_2'}, axis=1)\n",
    "\n",
    "    # Calculate the mean distance between clusters\n",
    "    print(\"\\nCalculating median distance between clusters...\")\n",
    "    print(time.asctime(time.localtime(time.time())))\n",
    "    comms = shared_users[['community_id', 'community_id_2', 'pct_users']] \\\n",
    "                    .groupby(by=['community_id', 'community_id_2']) \\\n",
    "                    .agg({'pct_users': ['mean']}) \\\n",
    "                    .reset_index()\n",
    "    comms = comms[comms['community_id'] <= comms['community_id_2']]\n",
    "    comms.columns = comms.columns.map('_'.join)\n",
    "    comms = comms.rename({'community_id_': 'community_id', 'community_id_2_': 'community_id_2'}, axis=1)\n",
    "\n",
    "    # Invert weights for distance calculation\n",
    "    print(\"\\nInverting weights for distance calculation...\")\n",
    "    print(time.asctime(time.localtime(time.time())))\n",
    "    comms['pct_users_mean_inv'] = comms['pct_users_mean'].max() - comms['pct_users_mean'] \\\n",
    "                                + comms['pct_users_mean'].min()\n",
    "\n",
    "\n",
    "    # Create community graph and check subgraphs\n",
    "    print(\"\\nCreating community graph and checking subgraphs...\")\n",
    "    print(time.asctime(time.localtime(time.time())))\n",
    "    comm_G = nx.from_pandas_edgelist(df=comms, source='community_id', target='community_id_2',\n",
    "                                     edge_attr=['pct_users_mean', 'pct_users_mean_inv'])\n",
    "    comm_comps = [len(c) for c in sorted(nx.connected_components(comm_G), key=len, reverse=True)]\n",
    "    print(\"There are {} disconnected subgraphs in the community graph\".format(len(comm_comps)))\n",
    "    print(comm_comps)\n",
    "\n",
    "\n",
    "    # Use dijkstra's algorithm to calculate all to all distances\n",
    "    print(\"\\nCalculating distances...\")\n",
    "    print(time.asctime(time.localtime(time.time())))\n",
    "    comm_dists = dict(nx.all_pairs_dijkstra_path_length(comm_G, weight='pct_users_mean_inv'))\n",
    "    comm_dists = pd.DataFrame([[source, dest, dist] for source, dists in comm_dists.items() for dest, dist in dists.items()], \n",
    "                                 columns=['community_id', 'community_id_2', 'community_distance'])\n",
    "    comm_dists = comm_dists[comm_dists['community_id'] != comm_dists['community_id_2'] ]\n",
    "    print(\"Complete\")\n",
    "    return comms, comm_dists, comm_comps"
   ]
  },
  {
   "cell_type": "code",
   "execution_count": 4,
   "id": "9a9d0a1b",
   "metadata": {},
   "outputs": [],
   "source": [
    "# Import data\n",
    "shared_users = pd.read_parquet('clustering_data_filtered_pctthresh-08')\n",
    "louvain_assignments = pd.read_parquet('community_assignments_pctthresh-08.parquet')"
   ]
  },
  {
   "cell_type": "code",
   "execution_count": null,
   "id": "88d2b7f2",
   "metadata": {},
   "outputs": [],
   "source": [
    "# Create\n",
    "graph\n",
    "G = nx.from_pandas_edgelist(df=shared_users, source='recipe_id', target='recipe_id_2', edge_attr='pct_users')"
   ]
  },
  {
   "cell_type": "code",
   "execution_count": 118,
   "id": "ac7e8618",
   "metadata": {},
   "outputs": [
    {
     "name": "stdout",
     "output_type": "stream",
     "text": [
      "11574\n",
      "11574\n",
      "5787\n",
      "5787\n",
      "5787\n",
      "5787\n"
     ]
    }
   ],
   "source": [
    "## Bisect community 8 twice\n",
    "# Split out sub-graph\n",
    "sub_nbunch = list(louvain_assignments[louvain_assignments['community_id'] == 8]['recipe_id'])\n",
    "sub_G = nx.subgraph(G, sub_nbunch)\n",
    "\n",
    "# Split \n",
    "a, b = nx_comm.kernighan_lin_bisection(sub_G, weight='pct_users')\n",
    "print(len(a))\n",
    "print(len(b))\n",
    "\n",
    "## Split each one more time\n",
    "# Split out sub-graph for a\n",
    "sub_G_a = nx.subgraph(sub_G, a)\n",
    "\n",
    "# Split a\n",
    "a1, a2 = nx_comm.kernighan_lin_bisection(sub_G_a, weight='pct_users')\n",
    "print(len(a1))\n",
    "print(len(a2))\n",
    "\n",
    "\n",
    "# Split out sub-graph fo b\n",
    "sub_G_b = nx.subgraph(sub_G, b)\n",
    "\n",
    "# Split b\n",
    "b1, b2 = nx_comm.kernighan_lin_bisection(sub_G_b, weight='pct_users')\n",
    "print(len(b1))\n",
    "print(len(b2))"
   ]
  },
  {
   "cell_type": "code",
   "execution_count": 119,
   "id": "78a75661",
   "metadata": {},
   "outputs": [],
   "source": [
    "a1_df = pd.DataFrame(np.array([list(a1), np.repeat(31, len(a1))]).T, columns=['recipe_id', 'community_id'])\n",
    "a2_df = pd.DataFrame(np.array([list(a2), np.repeat(32, len(a2))]).T, columns=['recipe_id', 'community_id'])\n",
    "b1_df = pd.DataFrame(np.array([list(b1), np.repeat(33, len(b1))]).T, columns=['recipe_id', 'community_id'])\n",
    "b2_df = pd.DataFrame(np.array([list(b2), np.repeat(34, len(b2))]).T, columns=['recipe_id', 'community_id'])"
   ]
  },
  {
   "cell_type": "code",
   "execution_count": 120,
   "id": "0d5dab6c",
   "metadata": {},
   "outputs": [
    {
     "name": "stdout",
     "output_type": "stream",
     "text": [
      "83360\n",
      "83360\n"
     ]
    }
   ],
   "source": [
    "# Update assignments\n",
    "louvain_assignments_adj = pd.concat([louvain_assignments[louvain_assignments['community_id'] != 8], a1_df, a2_df, b1_df, b2_df])\n",
    "print(len(louvain_assignments_adj['recipe_id'].unique()))\n",
    "print(len(louvain_assignments['recipe_id'].unique()))"
   ]
  },
  {
   "cell_type": "code",
   "execution_count": 121,
   "id": "2d6cc2c8",
   "metadata": {},
   "outputs": [
    {
     "name": "stdout",
     "output_type": "stream",
     "text": [
      "10072\n",
      "10072\n",
      "5036\n",
      "5036\n",
      "5036\n",
      "5036\n"
     ]
    }
   ],
   "source": [
    "## Bisect community 6 twice\n",
    "# Split out sub-graph\n",
    "sub_nbunch = list(louvain_assignments[louvain_assignments['community_id'] == 6]['recipe_id'])\n",
    "sub_G = nx.subgraph(G, sub_nbunch)\n",
    "\n",
    "# Split \n",
    "a, b = nx_comm.kernighan_lin_bisection(sub_G, weight='pct_users')\n",
    "print(len(a))\n",
    "print(len(b))\n",
    "\n",
    "## Split each one more time\n",
    "# Split out sub-graph for a\n",
    "sub_G_a = nx.subgraph(sub_G, a)\n",
    "\n",
    "# Split a\n",
    "a1, a2 = nx_comm.kernighan_lin_bisection(sub_G_a, weight='pct_users')\n",
    "print(len(a1))\n",
    "print(len(a2))\n",
    "\n",
    "\n",
    "# Split out sub-graph fo b\n",
    "sub_G_b = nx.subgraph(sub_G, b)\n",
    "\n",
    "# Split b\n",
    "b1, b2 = nx_comm.kernighan_lin_bisection(sub_G_b, weight='pct_users')\n",
    "print(len(b1))\n",
    "print(len(b2))"
   ]
  },
  {
   "cell_type": "code",
   "execution_count": 122,
   "id": "224b0a9d",
   "metadata": {},
   "outputs": [],
   "source": [
    "a1_df = pd.DataFrame(np.array([list(a1), np.repeat(35, len(a1))]).T, columns=['recipe_id', 'community_id'])\n",
    "a2_df = pd.DataFrame(np.array([list(a2), np.repeat(36, len(a2))]).T, columns=['recipe_id', 'community_id'])\n",
    "b1_df = pd.DataFrame(np.array([list(b1), np.repeat(37, len(b1))]).T, columns=['recipe_id', 'community_id'])\n",
    "b2_df = pd.DataFrame(np.array([list(b2), np.repeat(38, len(b2))]).T, columns=['recipe_id', 'community_id'])"
   ]
  },
  {
   "cell_type": "code",
   "execution_count": 123,
   "id": "513ce97c",
   "metadata": {},
   "outputs": [
    {
     "name": "stdout",
     "output_type": "stream",
     "text": [
      "83360\n",
      "83360\n"
     ]
    }
   ],
   "source": [
    "# Update assignments\n",
    "louvain_assignments_adj = pd.concat([louvain_assignments_adj[louvain_assignments_adj['community_id'] != 6], a1_df, a2_df, b1_df, b2_df])\n",
    "print(len(louvain_assignments_adj['recipe_id'].unique()))\n",
    "print(len(louvain_assignments['recipe_id'].unique()))"
   ]
  },
  {
   "cell_type": "code",
   "execution_count": 124,
   "id": "0d5e2cd1",
   "metadata": {},
   "outputs": [
    {
     "name": "stdout",
     "output_type": "stream",
     "text": [
      "4959\n",
      "4959\n"
     ]
    }
   ],
   "source": [
    "## Bisect community 14 once\n",
    "# Split out sub-graph\n",
    "sub_nbunch = list(louvain_assignments[louvain_assignments['community_id'] == 14]['recipe_id'])\n",
    "sub_G = nx.subgraph(G, sub_nbunch)\n",
    "\n",
    "# Split \n",
    "a1, a2 = nx_comm.kernighan_lin_bisection(sub_G, weight='pct_users')\n",
    "print(len(a1))\n",
    "print(len(a2))"
   ]
  },
  {
   "cell_type": "code",
   "execution_count": 125,
   "id": "d658d588",
   "metadata": {},
   "outputs": [],
   "source": [
    "a1_df = pd.DataFrame(np.array([list(a1), np.repeat(39, len(a1))]).T, columns=['recipe_id', 'community_id'])\n",
    "a2_df = pd.DataFrame(np.array([list(a2), np.repeat(40, len(a2))]).T, columns=['recipe_id', 'community_id'])"
   ]
  },
  {
   "cell_type": "code",
   "execution_count": 126,
   "id": "78123be8",
   "metadata": {},
   "outputs": [
    {
     "name": "stdout",
     "output_type": "stream",
     "text": [
      "83360\n",
      "83360\n"
     ]
    }
   ],
   "source": [
    "# Update assignments\n",
    "louvain_assignments_adj = pd.concat([louvain_assignments_adj[louvain_assignments_adj['community_id'] != 14], a1_df, a2_df]) \\\n",
    "                            .reset_index()\n",
    "print(len(louvain_assignments_adj['recipe_id'].unique()))\n",
    "print(len(louvain_assignments['recipe_id'].unique()))"
   ]
  },
  {
   "cell_type": "code",
   "execution_count": 127,
   "id": "ea011492",
   "metadata": {
    "scrolled": true
   },
   "outputs": [
    {
     "name": "stdout",
     "output_type": "stream",
     "text": [
      "Joining clusters to user-level file...\n",
      "Mon Apr 11 16:45:37 2022\n",
      "\n",
      "Calculating median distance between clusters...\n",
      "Mon Apr 11 16:46:20 2022\n",
      "\n",
      "Inverting weights for distance calculation...\n",
      "Mon Apr 11 16:46:24 2022\n",
      "\n",
      "Creating community graph and checking subgraphs...\n",
      "Mon Apr 11 16:46:24 2022\n",
      "There are 15 disconnected subgraphs in the community graph\n",
      "[24, 1, 1, 1, 1, 1, 1, 1, 1, 1, 1, 1, 1, 1, 1]\n",
      "\n",
      "Calculating distances...\n",
      "Mon Apr 11 16:46:24 2022\n",
      "Complete\n"
     ]
    }
   ],
   "source": [
    "comms, comm_dists, comm_comps = determine_intercommunity_distance(shared_users, louvain_assignments_adj)"
   ]
  },
  {
   "cell_type": "code",
   "execution_count": 132,
   "id": "ec3f2f88",
   "metadata": {
    "scrolled": true
   },
   "outputs": [
    {
     "data": {
      "text/plain": [
       "<AxesSubplot:ylabel='Frequency'>"
      ]
     },
     "execution_count": 132,
     "metadata": {},
     "output_type": "execute_result"
    },
    {
     "data": {
      "image/png": "[encoded data removed]",
      "text/plain": [
       "<Figure size 432x288 with 1 Axes>"
      ]
     },
     "metadata": {
      "needs_background": "light"
     },
     "output_type": "display_data"
    }
   ],
   "source": [
    "comms['pct_users_mean'].plot.hist(bins=30)"
   ]
  },
  {
   "cell_type": "code",
   "execution_count": 153,
   "id": "6257a653",
   "metadata": {},
   "outputs": [],
   "source": [
    "def visualize_community_graph(comms, node_sizes, k=0.4, alpha=0.9):\n",
    "    comms_adj = comms[comms['pct_users_mean'] > .135]\n",
    "    edge_list = [(r[0],r[1]) for r in np.array(comms_adj[comms_adj['community_id'] != comms_adj['community_id_2']][['community_id', 'community_id_2']])]\n",
    "    G = nx.from_pandas_edgelist(df=comms_adj, source='community_id', target='community_id_2', \n",
    "                                edge_attr=['pct_users_mean'])\n",
    "    node_sizes = node_sizes[node_sizes['community_id'].apply(lambda x: x in list(G.nodes()))]\n",
    "    node_list = node_sizes['community_id']\n",
    "    node_sizes = node_sizes['size']/10\n",
    "#     weights = list(nx.get_edge_attributes(G,'pct_users_median').values())\n",
    "#     widths = [int((a - min(weights[:-1]))/(max(weights[:-1]) - min(weights[:-1]))*4) for a in weights]\n",
    "#     print(widths)\n",
    "    plt.figure(figsize=(5, 4))\n",
    "    nx.draw(G, nodelist=node_list, node_size=node_sizes, edgelist=edge_list, width=0.2,\n",
    "            alpha=alpha, pos=nx.spring_layout(G, weight='pct_users_mean', k=k))"
   ]
  },
  {
   "cell_type": "code",
   "execution_count": 154,
   "id": "97c9c469",
   "metadata": {},
   "outputs": [
    {
     "data": {
      "image/png": "[encoded data removed]",
      "text/plain": [
       "<Figure size 360x288 with 1 Axes>"
      ]
     },
     "metadata": {},
     "output_type": "display_data"
    }
   ],
   "source": [
    "comm_sizes = louvain_assignments_adj.groupby('community_id', as_index=False).count().rename({'recipe_id':'size'}, axis=1)\n",
    "visualize_community_graph(comms, comm_sizes, k=0.9)"
   ]
  },
  {
   "cell_type": "code",
   "execution_count": 152,
   "id": "ef8d90a2",
   "metadata": {},
   "outputs": [],
   "source": [
    "## Write files\n",
    "# Community assignments\n",
    "data_key = 'community_assignments_pctthresh-08_split.parquet'\n",
    "louvain_assignments_adj.to_parquet(data_key)\n",
    "\n",
    "# Community distances\n",
    "data_key = 'community_distances_pctthresh-08_split.parquet'\n",
    "comm_dists.to_parquet(data_key)\n",
    "\n",
    "# Community graph edges\n",
    "data_key = '../05_Recipe_Exploration_Tool/community_graph_edges_pctthresh-08_split.parquet'\n",
    "comms.to_parquet(data_key)\n",
    "\n",
    "# Community graph subgraphs\n",
    "data_key = 'community_graph_subg_pctthresh-08_split.parquet'\n",
    "np.savetxt(data_key, np.array(comm_comps))"
   ]
  }
 ],
 "metadata": {
  "kernelspec": {
   "display_name": "CSE 6242 Project Graph",
   "language": "python",
   "name": "cse6242-project-graph"
  },
  "language_info": {
   "codemirror_mode": {
    "name": "ipython",
    "version": 3
   },
   "file_extension": ".py",
   "mimetype": "text/x-python",
   "name": "python",
   "nbconvert_exporter": "python",
   "pygments_lexer": "ipython3",
   "version": "3.8.12"
  }
 },
 "nbformat": 4,
 "nbformat_minor": 5
}
