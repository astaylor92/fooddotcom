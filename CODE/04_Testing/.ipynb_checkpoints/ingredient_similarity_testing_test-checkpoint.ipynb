{
 "cells": [
  {
   "cell_type": "code",
   "execution_count": 1,
   "metadata": {},
   "outputs": [],
   "source": [
    "import pandas as pd\n",
    "import gensim\n",
    "from gensim.models import Word2Vec\n",
    "import re\n",
    "import numpy as np\n",
    "import statistics\n",
    "import math\n",
    "import itertools"
   ]
  },
  {
   "cell_type": "code",
   "execution_count": 2,
   "metadata": {},
   "outputs": [],
   "source": [
    "recipes_in = pd.read_parquet('../01_DataCleansing/recipes_in.parquet')\n",
    "users_in = pd.read_csv('../01_DataCleansing/users_in.csv')"
   ]
  },
  {
   "cell_type": "markdown",
   "metadata": {},
   "source": [
    "### Define Function for Cosine Similarity Calculation"
   ]
  },
  {
   "cell_type": "code",
   "execution_count": 3,
   "metadata": {},
   "outputs": [],
   "source": [
    "def cosine_sim(List1, List2):\n",
    "    return List1.dot(List2)/ (np.linalg.norm(List1) * np.linalg.norm(List2))"
   ]
  },
  {
   "cell_type": "markdown",
   "metadata": {},
   "source": [
    "### Create the corpus required to train the genism word2vec model"
   ]
  },
  {
   "cell_type": "code",
   "execution_count": 4,
   "metadata": {},
   "outputs": [],
   "source": [
    "ingredient_list=[]\n",
    "for i in range(0,len(recipes_in)):\n",
    "    ingredient_list.append(recipes_in.iloc[i].loc['ingredients'].tolist())"
   ]
  },
  {
   "cell_type": "markdown",
   "metadata": {},
   "source": [
    "### Train the Word2Vec Model with Parameters Used in the Algorithm"
   ]
  },
  {
   "cell_type": "code",
   "execution_count": 5,
   "metadata": {},
   "outputs": [],
   "source": [
    "model = Word2Vec(ingredient_list, min_count=1)"
   ]
  },
  {
   "cell_type": "markdown",
   "metadata": {},
   "source": [
    "### Ingredient Similarity Validation from the Word2Vec Model"
   ]
  },
  {
   "cell_type": "code",
   "execution_count": 6,
   "metadata": {},
   "outputs": [
    {
     "data": {
      "text/plain": [
       "[('tomato puree', 0.7689598202705383),\n",
       " ('tomato sauce', 0.6704436540603638),\n",
       " ('crushed tomatoes', 0.6690917015075684),\n",
       " ('whole tomatoes', 0.6635255217552185),\n",
       " ('tomato juice', 0.6633947491645813),\n",
       " ('bay leaves', 0.6569827198982239),\n",
       " ('red wine', 0.6488566994667053),\n",
       " ('dry red wine', 0.6406188011169434),\n",
       " ('tomatoes with juice', 0.6372570991516113),\n",
       " ('dried chili pepper flakes', 0.6194062232971191)]"
      ]
     },
     "metadata": {},
     "output_type": "display_data"
    },
    {
     "data": {
      "text/plain": [
       "[('lean ground beef', 0.9392921924591064),\n",
       " ('ground chuck', 0.8433729410171509),\n",
       " ('hamburger', 0.7979741096496582),\n",
       " ('extra lean ground beef', 0.7952334880828857),\n",
       " ('ground round', 0.7843409180641174),\n",
       " ('ground turkey', 0.754817008972168),\n",
       " ('ground meat', 0.7473284602165222),\n",
       " ('ground sirloin', 0.64708012342453),\n",
       " ('ground venison', 0.638462245464325),\n",
       " ('90% lean ground beef', 0.6384150981903076)]"
      ]
     },
     "metadata": {},
     "output_type": "display_data"
    },
    {
     "data": {
      "text/plain": [
       "[('extra virgin olive oil', 0.9020969867706299),\n",
       " ('virgin olive oil', 0.7491848468780518),\n",
       " ('light olive oil', 0.7039201855659485),\n",
       " ('lite olive oil', 0.6744064688682556),\n",
       " ('vegetable oil', 0.6077904105186462),\n",
       " ('canola oil', 0.6065067052841187),\n",
       " ('dried chili pepper flakes', 0.5814028382301331),\n",
       " ('chili pepper flakes', 0.5796778798103333),\n",
       " ('spanish olive oil', 0.5781193971633911),\n",
       " ('olive oil flavored cooking spray', 0.5743055939674377)]"
      ]
     },
     "metadata": {},
     "output_type": "display_data"
    },
    {
     "data": {
      "text/plain": [
       "[('egg', 0.9116581678390503),\n",
       " ('extra large eggs', 0.5568637847900391),\n",
       " ('egg whites', 0.5317972302436829),\n",
       " ('egg yolk', 0.5168436765670776),\n",
       " ('egg substitute', 0.5098385214805603),\n",
       " ('egg yolks', 0.4603763818740845),\n",
       " ('egg white', 0.4577726125717163),\n",
       " ('extra-large eggs', 0.41717207431793213),\n",
       " ('all-bran cereal with raisins', 0.3838845491409302),\n",
       " ('egg beaters egg substitute', 0.3824930489063263)]"
      ]
     },
     "metadata": {},
     "output_type": "display_data"
    }
   ],
   "source": [
    "display(model.wv.most_similar('tomato paste'))\n",
    "display(model.wv.most_similar('ground beef'))\n",
    "display(model.wv.most_similar('olive oil'))\n",
    "display(model.wv.most_similar('eggs'))"
   ]
  },
  {
   "cell_type": "markdown",
   "metadata": {},
   "source": [
    "### Vectorize ingredient list for each recipe\n",
    "Add column 'recipe_ingredients_vector'by averaging all ingredient vectors from each recipe."
   ]
  },
  {
   "cell_type": "code",
   "execution_count": 7,
   "metadata": {},
   "outputs": [
    {
     "data": {
      "text/html": [
       "<div>\n",
       "<style scoped>\n",
       "    .dataframe tbody tr th:only-of-type {\n",
       "        vertical-align: middle;\n",
       "    }\n",
       "\n",
       "    .dataframe tbody tr th {\n",
       "        vertical-align: top;\n",
       "    }\n",
       "\n",
       "    .dataframe thead th {\n",
       "        text-align: right;\n",
       "    }\n",
       "</style>\n",
       "<table border=\"1\" class=\"dataframe\">\n",
       "  <thead>\n",
       "    <tr style=\"text-align: right;\">\n",
       "      <th></th>\n",
       "      <th>nutrition</th>\n",
       "      <th>minutes</th>\n",
       "      <th>techniques</th>\n",
       "      <th>cuisine</th>\n",
       "      <th>meal_of_day</th>\n",
       "      <th>ingredients</th>\n",
       "      <th>recipe_ingredients_vector</th>\n",
       "    </tr>\n",
       "    <tr>\n",
       "      <th>recipe_id</th>\n",
       "      <th></th>\n",
       "      <th></th>\n",
       "      <th></th>\n",
       "      <th></th>\n",
       "      <th></th>\n",
       "      <th></th>\n",
       "      <th></th>\n",
       "    </tr>\n",
       "  </thead>\n",
       "  <tbody>\n",
       "    <tr>\n",
       "      <th>137739</th>\n",
       "      <td>{'calories': 51.5, 'carbohydrates': 4.0, 'prot...</td>\n",
       "      <td>55</td>\n",
       "      <td>{'Bake': 1, 'Barbecue': 0, 'Blanch': 0, 'Blend...</td>\n",
       "      <td>North American</td>\n",
       "      <td>Side Dishes</td>\n",
       "      <td>[winter squash, mexican seasoning, mixed spice...</td>\n",
       "      <td>[-0.18798865, -0.08859058, -0.42880353, 0.0475...</td>\n",
       "    </tr>\n",
       "    <tr>\n",
       "      <th>31490</th>\n",
       "      <td>{'calories': 173.4, 'carbohydrates': 1.0, 'pro...</td>\n",
       "      <td>30</td>\n",
       "      <td>{'Bake': 1, 'Barbecue': 0, 'Blanch': 0, 'Blend...</td>\n",
       "      <td>North American</td>\n",
       "      <td>Breakfast</td>\n",
       "      <td>[prepared pizza crust, sausage patty, eggs, mi...</td>\n",
       "      <td>[-0.50021666, -0.013074194, 0.61354846, -0.557...</td>\n",
       "    </tr>\n",
       "    <tr>\n",
       "      <th>112140</th>\n",
       "      <td>{'calories': 269.8, 'carbohydrates': 5.0, 'pro...</td>\n",
       "      <td>130</td>\n",
       "      <td>{'Bake': 0, 'Barbecue': 0, 'Blanch': 0, 'Blend...</td>\n",
       "      <td>Uncategorized</td>\n",
       "      <td>Main Dish</td>\n",
       "      <td>[ground beef, yellow onions, diced tomatoes, t...</td>\n",
       "      <td>[-0.78042513, -0.06335425, -0.16580707, -0.683...</td>\n",
       "    </tr>\n",
       "    <tr>\n",
       "      <th>59389</th>\n",
       "      <td>{'calories': 368.1, 'carbohydrates': 20.0, 'pr...</td>\n",
       "      <td>45</td>\n",
       "      <td>{'Bake': 1, 'Barbecue': 0, 'Blanch': 0, 'Blend...</td>\n",
       "      <td>Uncategorized</td>\n",
       "      <td>Side Dishes</td>\n",
       "      <td>[spreadable cheese with garlic and herbs, new ...</td>\n",
       "      <td>[0.26123694, -0.295517, -0.35570833, -1.08916,...</td>\n",
       "    </tr>\n",
       "    <tr>\n",
       "      <th>44061</th>\n",
       "      <td>{'calories': 352.9, 'carbohydrates': 28.0, 'pr...</td>\n",
       "      <td>190</td>\n",
       "      <td>{'Bake': 0, 'Barbecue': 0, 'Blanch': 0, 'Blend...</td>\n",
       "      <td>North American</td>\n",
       "      <td>NO MEAL</td>\n",
       "      <td>[tomato juice, apple cider vinegar, sugar, sal...</td>\n",
       "      <td>[0.03214314, -0.11727638, -0.46814972, -0.2997...</td>\n",
       "    </tr>\n",
       "    <tr>\n",
       "      <th>...</th>\n",
       "      <td>...</td>\n",
       "      <td>...</td>\n",
       "      <td>...</td>\n",
       "      <td>...</td>\n",
       "      <td>...</td>\n",
       "      <td>...</td>\n",
       "      <td>...</td>\n",
       "    </tr>\n",
       "    <tr>\n",
       "      <th>486161</th>\n",
       "      <td>{'calories': 415.2, 'carbohydrates': 15.0, 'pr...</td>\n",
       "      <td>60</td>\n",
       "      <td>{'Bake': 0, 'Barbecue': 0, 'Blanch': 0, 'Blend...</td>\n",
       "      <td>North American</td>\n",
       "      <td>NO MEAL</td>\n",
       "      <td>[celery, onion, green sweet pepper, garlic clo...</td>\n",
       "      <td>[-0.21480156, -0.19607411, -0.48717177, -0.670...</td>\n",
       "    </tr>\n",
       "    <tr>\n",
       "      <th>493372</th>\n",
       "      <td>{'calories': 14.8, 'carbohydrates': 1.0, 'prot...</td>\n",
       "      <td>5</td>\n",
       "      <td>{'Bake': 0, 'Barbecue': 0, 'Blanch': 0, 'Blend...</td>\n",
       "      <td>Uncategorized</td>\n",
       "      <td>NO MEAL</td>\n",
       "      <td>[paprika, salt, garlic powder, onion powder, d...</td>\n",
       "      <td>[-0.36401704, -0.40349442, 0.15369682, -0.7406...</td>\n",
       "    </tr>\n",
       "    <tr>\n",
       "      <th>308080</th>\n",
       "      <td>{'calories': 59.2, 'carbohydrates': 0.0, 'prot...</td>\n",
       "      <td>40</td>\n",
       "      <td>{'Bake': 0, 'Barbecue': 0, 'Blanch': 0, 'Blend...</td>\n",
       "      <td>Uncategorized</td>\n",
       "      <td>Appetizers</td>\n",
       "      <td>[hard-cooked eggs, mayonnaise, dijon mustard, ...</td>\n",
       "      <td>[0.12334852, -0.33342174, 0.06355281, -1.05657...</td>\n",
       "    </tr>\n",
       "    <tr>\n",
       "      <th>298512</th>\n",
       "      <td>{'calories': 188.0, 'carbohydrates': 9.0, 'pro...</td>\n",
       "      <td>29</td>\n",
       "      <td>{'Bake': 1, 'Barbecue': 0, 'Blanch': 0, 'Blend...</td>\n",
       "      <td>Uncategorized</td>\n",
       "      <td>Desserts</td>\n",
       "      <td>[butter, eagle brand condensed milk, light bro...</td>\n",
       "      <td>[0.06909981, 0.2974269, -0.59410584, -0.052630...</td>\n",
       "    </tr>\n",
       "    <tr>\n",
       "      <th>298509</th>\n",
       "      <td>{'calories': 174.9, 'carbohydrates': 6.0, 'pro...</td>\n",
       "      <td>20</td>\n",
       "      <td>{'Bake': 1, 'Barbecue': 0, 'Blanch': 0, 'Blend...</td>\n",
       "      <td>Comfort Food</td>\n",
       "      <td>Desserts</td>\n",
       "      <td>[granulated sugar, shortening, eggs, flour, cr...</td>\n",
       "      <td>[0.14317802, 0.8854844, -0.23650181, 1.0703638...</td>\n",
       "    </tr>\n",
       "  </tbody>\n",
       "</table>\n",
       "<p>231637 rows × 7 columns</p>\n",
       "</div>"
      ],
      "text/plain": [
       "                                                   nutrition  minutes  \\\n",
       "recipe_id                                                               \n",
       "137739     {'calories': 51.5, 'carbohydrates': 4.0, 'prot...       55   \n",
       "31490      {'calories': 173.4, 'carbohydrates': 1.0, 'pro...       30   \n",
       "112140     {'calories': 269.8, 'carbohydrates': 5.0, 'pro...      130   \n",
       "59389      {'calories': 368.1, 'carbohydrates': 20.0, 'pr...       45   \n",
       "44061      {'calories': 352.9, 'carbohydrates': 28.0, 'pr...      190   \n",
       "...                                                      ...      ...   \n",
       "486161     {'calories': 415.2, 'carbohydrates': 15.0, 'pr...       60   \n",
       "493372     {'calories': 14.8, 'carbohydrates': 1.0, 'prot...        5   \n",
       "308080     {'calories': 59.2, 'carbohydrates': 0.0, 'prot...       40   \n",
       "298512     {'calories': 188.0, 'carbohydrates': 9.0, 'pro...       29   \n",
       "298509     {'calories': 174.9, 'carbohydrates': 6.0, 'pro...       20   \n",
       "\n",
       "                                                  techniques         cuisine  \\\n",
       "recipe_id                                                                      \n",
       "137739     {'Bake': 1, 'Barbecue': 0, 'Blanch': 0, 'Blend...  North American   \n",
       "31490      {'Bake': 1, 'Barbecue': 0, 'Blanch': 0, 'Blend...  North American   \n",
       "112140     {'Bake': 0, 'Barbecue': 0, 'Blanch': 0, 'Blend...   Uncategorized   \n",
       "59389      {'Bake': 1, 'Barbecue': 0, 'Blanch': 0, 'Blend...   Uncategorized   \n",
       "44061      {'Bake': 0, 'Barbecue': 0, 'Blanch': 0, 'Blend...  North American   \n",
       "...                                                      ...             ...   \n",
       "486161     {'Bake': 0, 'Barbecue': 0, 'Blanch': 0, 'Blend...  North American   \n",
       "493372     {'Bake': 0, 'Barbecue': 0, 'Blanch': 0, 'Blend...   Uncategorized   \n",
       "308080     {'Bake': 0, 'Barbecue': 0, 'Blanch': 0, 'Blend...   Uncategorized   \n",
       "298512     {'Bake': 1, 'Barbecue': 0, 'Blanch': 0, 'Blend...   Uncategorized   \n",
       "298509     {'Bake': 1, 'Barbecue': 0, 'Blanch': 0, 'Blend...    Comfort Food   \n",
       "\n",
       "           meal_of_day                                        ingredients  \\\n",
       "recipe_id                                                                   \n",
       "137739     Side Dishes  [winter squash, mexican seasoning, mixed spice...   \n",
       "31490        Breakfast  [prepared pizza crust, sausage patty, eggs, mi...   \n",
       "112140       Main Dish  [ground beef, yellow onions, diced tomatoes, t...   \n",
       "59389      Side Dishes  [spreadable cheese with garlic and herbs, new ...   \n",
       "44061          NO MEAL  [tomato juice, apple cider vinegar, sugar, sal...   \n",
       "...                ...                                                ...   \n",
       "486161         NO MEAL  [celery, onion, green sweet pepper, garlic clo...   \n",
       "493372         NO MEAL  [paprika, salt, garlic powder, onion powder, d...   \n",
       "308080      Appetizers  [hard-cooked eggs, mayonnaise, dijon mustard, ...   \n",
       "298512        Desserts  [butter, eagle brand condensed milk, light bro...   \n",
       "298509        Desserts  [granulated sugar, shortening, eggs, flour, cr...   \n",
       "\n",
       "                                   recipe_ingredients_vector  \n",
       "recipe_id                                                     \n",
       "137739     [-0.18798865, -0.08859058, -0.42880353, 0.0475...  \n",
       "31490      [-0.50021666, -0.013074194, 0.61354846, -0.557...  \n",
       "112140     [-0.78042513, -0.06335425, -0.16580707, -0.683...  \n",
       "59389      [0.26123694, -0.295517, -0.35570833, -1.08916,...  \n",
       "44061      [0.03214314, -0.11727638, -0.46814972, -0.2997...  \n",
       "...                                                      ...  \n",
       "486161     [-0.21480156, -0.19607411, -0.48717177, -0.670...  \n",
       "493372     [-0.36401704, -0.40349442, 0.15369682, -0.7406...  \n",
       "308080     [0.12334852, -0.33342174, 0.06355281, -1.05657...  \n",
       "298512     [0.06909981, 0.2974269, -0.59410584, -0.052630...  \n",
       "298509     [0.14317802, 0.8854844, -0.23650181, 1.0703638...  \n",
       "\n",
       "[231637 rows x 7 columns]"
      ]
     },
     "execution_count": 7,
     "metadata": {},
     "output_type": "execute_result"
    }
   ],
   "source": [
    "recipes=recipes_in.copy()\n",
    "def list_to_vec_model(l):\n",
    "    return model.wv.__getitem__(x for x in l).sum(axis=0)/len(l)   \n",
    "recipes['recipe_ingredients_vector']=recipes.apply(lambda x: list_to_vec_model(x['ingredients']), axis=1)\n",
    "recipes"
   ]
  },
  {
   "cell_type": "markdown",
   "metadata": {},
   "source": [
    "### Get a Dataframe with Recipe id, Ingredient List and Ingredient List Vector"
   ]
  },
  {
   "cell_type": "code",
   "execution_count": 8,
   "metadata": {},
   "outputs": [
    {
     "data": {
      "text/html": [
       "<div>\n",
       "<style scoped>\n",
       "    .dataframe tbody tr th:only-of-type {\n",
       "        vertical-align: middle;\n",
       "    }\n",
       "\n",
       "    .dataframe tbody tr th {\n",
       "        vertical-align: top;\n",
       "    }\n",
       "\n",
       "    .dataframe thead th {\n",
       "        text-align: right;\n",
       "    }\n",
       "</style>\n",
       "<table border=\"1\" class=\"dataframe\">\n",
       "  <thead>\n",
       "    <tr style=\"text-align: right;\">\n",
       "      <th></th>\n",
       "      <th>recipe_id</th>\n",
       "      <th>ingredients</th>\n",
       "      <th>recipe_ingredients_vector</th>\n",
       "    </tr>\n",
       "  </thead>\n",
       "  <tbody>\n",
       "    <tr>\n",
       "      <th>0</th>\n",
       "      <td>137739</td>\n",
       "      <td>[winter squash, mexican seasoning, mixed spice...</td>\n",
       "      <td>[-0.18798865, -0.08859058, -0.42880353, 0.0475...</td>\n",
       "    </tr>\n",
       "    <tr>\n",
       "      <th>1</th>\n",
       "      <td>31490</td>\n",
       "      <td>[prepared pizza crust, sausage patty, eggs, mi...</td>\n",
       "      <td>[-0.50021666, -0.013074194, 0.61354846, -0.557...</td>\n",
       "    </tr>\n",
       "    <tr>\n",
       "      <th>2</th>\n",
       "      <td>112140</td>\n",
       "      <td>[ground beef, yellow onions, diced tomatoes, t...</td>\n",
       "      <td>[-0.78042513, -0.06335425, -0.16580707, -0.683...</td>\n",
       "    </tr>\n",
       "    <tr>\n",
       "      <th>3</th>\n",
       "      <td>59389</td>\n",
       "      <td>[spreadable cheese with garlic and herbs, new ...</td>\n",
       "      <td>[0.26123694, -0.295517, -0.35570833, -1.08916,...</td>\n",
       "    </tr>\n",
       "    <tr>\n",
       "      <th>4</th>\n",
       "      <td>44061</td>\n",
       "      <td>[tomato juice, apple cider vinegar, sugar, sal...</td>\n",
       "      <td>[0.03214314, -0.11727638, -0.46814972, -0.2997...</td>\n",
       "    </tr>\n",
       "  </tbody>\n",
       "</table>\n",
       "</div>"
      ],
      "text/plain": [
       "   recipe_id                                        ingredients  \\\n",
       "0     137739  [winter squash, mexican seasoning, mixed spice...   \n",
       "1      31490  [prepared pizza crust, sausage patty, eggs, mi...   \n",
       "2     112140  [ground beef, yellow onions, diced tomatoes, t...   \n",
       "3      59389  [spreadable cheese with garlic and herbs, new ...   \n",
       "4      44061  [tomato juice, apple cider vinegar, sugar, sal...   \n",
       "\n",
       "                           recipe_ingredients_vector  \n",
       "0  [-0.18798865, -0.08859058, -0.42880353, 0.0475...  \n",
       "1  [-0.50021666, -0.013074194, 0.61354846, -0.557...  \n",
       "2  [-0.78042513, -0.06335425, -0.16580707, -0.683...  \n",
       "3  [0.26123694, -0.295517, -0.35570833, -1.08916,...  \n",
       "4  [0.03214314, -0.11727638, -0.46814972, -0.2997...  "
      ]
     },
     "execution_count": 8,
     "metadata": {},
     "output_type": "execute_result"
    }
   ],
   "source": [
    "recipes_ingredient_vec=recipes[['ingredients','recipe_ingredients_vector']].reset_index()\n",
    "recipes_ingredient_vec.head()"
   ]
  },
  {
   "cell_type": "markdown",
   "metadata": {},
   "source": [
    "### Set Test Users As Those Who Rate At Least 500 Recipes as Non Zero"
   ]
  },
  {
   "cell_type": "code",
   "execution_count": 9,
   "metadata": {},
   "outputs": [
    {
     "data": {
      "text/plain": [
       "24961"
      ]
     },
     "execution_count": 9,
     "metadata": {},
     "output_type": "execute_result"
    }
   ],
   "source": [
    "users_in_exclude0=users_in.copy()\n",
    "users_in_exclude0=users_in_exclude0[users_in_exclude0['ratings']!=0]\n",
    "users=list(set(users_in_exclude0['user_id']))\n",
    "len(users)"
   ]
  },
  {
   "cell_type": "code",
   "execution_count": 10,
   "metadata": {},
   "outputs": [
    {
     "data": {
      "text/plain": [
       "193"
      ]
     },
     "execution_count": 10,
     "metadata": {},
     "output_type": "execute_result"
    }
   ],
   "source": [
    "user_recipe_count=users_in_exclude0.groupby(['user_id']).count()\n",
    "test_users=user_recipe_count[user_recipe_count['recipe_id']>=500].reset_index()\n",
    "test_users=list(test_users['user_id'])\n",
    "len(test_users)"
   ]
  },
  {
   "cell_type": "code",
   "execution_count": null,
   "metadata": {},
   "outputs": [
    {
     "name": "stdout",
     "output_type": "stream",
     "text": [
      "(0.09085094535947513, -0.02056315952339822)\n"
     ]
    }
   ],
   "source": [
    "for u in test_users:\n",
    "    input_user_id=u\n",
    "    idx = np.where((users_in['user_id']==input_user_id) & (users_in['ratings']>=4))\n",
    "    live_user_recipes=users_in.copy()\n",
    "    live_user_recipes=live_user_recipes.loc[idx][['user_id','recipe_id']] \n",
    "    live_user_ingredient=pd.merge(live_user_recipes,recipes_ingredient_vec,how=\"inner\",on='recipe_id')\n",
    "    #Rank recipe similarity by calculating cosine similarity between each recipe and user's ingredient preference\n",
    "    user_pref=live_user_ingredient['recipe_ingredients_vector'].to_numpy().sum(axis=0)\n",
    "    ingredient_sim=recipes_ingredient_vec.copy()\n",
    "    ingredient_sim['user_ingredient_pref']=ingredient_sim.apply(lambda x:user_pref, axis=1)\n",
    "    ingredient_sim['ingredient_sim']=ingredient_sim.apply(lambda x: cosine_sim(x.user_ingredient_pref, x.recipe_ingredients_vector), axis=1)\n",
    "    ingredient_rank=ingredient_sim.sort_values(by='ingredient_sim',ascending=False)\n",
    "    \n",
    "    #Get all ingredients that show up in the top-rated recipes by this user into a list\n",
    "    user_pref_in=[i for x in list(live_user_ingredient['ingredients']) for i in x]\n",
    "    \n",
    "    #Get all ingredients that show up in the top 20 recipes from the similarity ranking into a list\n",
    "    high_rank=ingredient_rank[0:20]\n",
    "    high_rank_in=[i for x in list(high_rank['ingredients']) for i in x]\n",
    "    \n",
    "    #Calculate the similarity scores for each pair of recipes showing up from the above 2 lists and sum up as high_score\n",
    "    temp_high = list(itertools.product(high_rank_in, user_pref_in))\n",
    "    high_score=0\n",
    "    for t in temp_high:\n",
    "        high_score += cosine_sim(model.wv.__getitem__(t[0]),model.wv.__getitem__(t[1]))\n",
    "    \n",
    "    #Get all ingredients that show up in the bottowm 20 recipes from the similarity ranking into a list\n",
    "    low_rank=ingredient_rank[-21:-1]\n",
    "    low_rank_in=[i for x in list(low_rank['ingredients']) for i in x]\n",
    "    \n",
    "    #Calculate the similarity scores for each pair of recipes showing up in the bottowm 20 recipes from the similarity ranking and all ingredients that show up in the top-rated recipes by this user\n",
    "    # Sum up the scores as low_score\n",
    "    temp_low = list(itertools.product(low_rank_in, user_pref_in))\n",
    "    low_score=0\n",
    "    for t in temp_low:\n",
    "        low_score += cosine_sim(model.wv.__getitem__(t[0]),model.wv.__getitem__(t[1]))\n",
    "    \n",
    "    #Print the average of high_score and low_score for each test user\n",
    "    print((high_score/len(temp_high),low_score/len(temp_low)))\n",
    "    "
   ]
  },
  {
   "cell_type": "markdown",
   "metadata": {},
   "source": [
    "The average score of ingredient to ingredient similarity is much higher between ingredients showing up in user's top-rated recipes and those in top 20 ranking recipes than between ingredients showing up in user's top-rated recipes and those in bottom 20 ranking recipes"
   ]
  },
  {
   "cell_type": "code",
   "execution_count": null,
   "metadata": {},
   "outputs": [],
   "source": []
  },
  {
   "cell_type": "code",
   "execution_count": null,
   "metadata": {},
   "outputs": [],
   "source": []
  }
 ],
 "metadata": {
  "kernelspec": {
   "display_name": "CSE 6242 Project Final",
   "language": "python",
   "name": "cse6242-project-final"
  },
  "language_info": {
   "codemirror_mode": {
    "name": "ipython",
    "version": 3
   },
   "file_extension": ".py",
   "mimetype": "text/x-python",
   "name": "python",
   "nbconvert_exporter": "python",
   "pygments_lexer": "ipython3",
   "version": "3.9.12"
  }
 },
 "nbformat": 4,
 "nbformat_minor": 4
}
