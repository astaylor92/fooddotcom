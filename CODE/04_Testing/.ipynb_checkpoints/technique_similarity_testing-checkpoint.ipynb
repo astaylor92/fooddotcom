{
 "cells": [
  {
   "cell_type": "code",
   "execution_count": 192,
   "metadata": {},
   "outputs": [],
   "source": [
    "import pandas as pd\n",
    "import gensim\n",
    "from gensim.models import Word2Vec\n",
    "import re\n",
    "import numpy as np\n",
    "import statistics\n",
    "import math"
   ]
  },
  {
   "cell_type": "code",
   "execution_count": 193,
   "metadata": {},
   "outputs": [],
   "source": [
    "recipes_in = pd.read_parquet('../01_DataCleansing/recipes_in.parquet')\n",
    "users_in = pd.read_csv('../01_DataCleansing/users_in.csv')"
   ]
  },
  {
   "cell_type": "markdown",
   "metadata": {},
   "source": [
    "### Only Keep Recipes that Have Values in Techniques Column in This Test"
   ]
  },
  {
   "cell_type": "code",
   "execution_count": 194,
   "metadata": {},
   "outputs": [],
   "source": [
    "def check_0(x):\n",
    "    if sum(x.values())!=0:\n",
    "        return 'Y'\n",
    "    else:\n",
    "        return 'N'"
   ]
  },
  {
   "cell_type": "code",
   "execution_count": 195,
   "metadata": {},
   "outputs": [],
   "source": [
    "recipes=recipes_in.copy()\n",
    "recipes['check']=recipes.apply(lambda x:check_0(x['techniques']), axis=1)\n",
    "recipes=recipes[recipes['check']=='Y']"
   ]
  },
  {
   "cell_type": "code",
   "execution_count": 196,
   "metadata": {},
   "outputs": [],
   "source": [
    "tech_mat = np.array(recipes['techniques'].apply(lambda x: list(x.values())).tolist())"
   ]
  },
  {
   "cell_type": "markdown",
   "metadata": {},
   "source": [
    "### Set Test Users As Those Who Rate At Least 500 Recipes as Non Zero"
   ]
  },
  {
   "cell_type": "code",
   "execution_count": 197,
   "metadata": {},
   "outputs": [
    {
     "data": {
      "text/plain": [
       "24961"
      ]
     },
     "execution_count": 197,
     "metadata": {},
     "output_type": "execute_result"
    }
   ],
   "source": [
    "users_in_exclude0=users_in.copy()\n",
    "users_in_exclude0=users_in_exclude0[users_in_exclude0['ratings']!=0]\n",
    "users=list(set(users_in_exclude0['user_id']))\n",
    "len(users)\n"
   ]
  },
  {
   "cell_type": "code",
   "execution_count": 198,
   "metadata": {},
   "outputs": [
    {
     "data": {
      "text/plain": [
       "193"
      ]
     },
     "execution_count": 198,
     "metadata": {},
     "output_type": "execute_result"
    }
   ],
   "source": [
    "user_recipe_count=users_in_exclude0.groupby(['user_id']).count()\n",
    "test_users=user_recipe_count[user_recipe_count['recipe_id']>=500].reset_index()\n",
    "test_users=list(test_users['user_id'])\n",
    "len(test_users)"
   ]
  },
  {
   "cell_type": "code",
   "execution_count": 199,
   "metadata": {},
   "outputs": [],
   "source": [
    "yes=[]\n",
    "yes_low=[]\n",
    "for u in test_users:\n",
    "    input_user_id=u\n",
    "    idx = np.where((users_in['user_id']==input_user_id) & (users_in['ratings']>=4))\n",
    "    live_user_recipes=users_in.copy()\n",
    "    live_user_recipes=live_user_recipes.loc[idx][['user_id','recipe_id']]    \n",
    "    \n",
    "    #Calculate similarity scores for all recipes given this user's recipe preferences\n",
    "    user_techniq = np.sum(tech_mat[recipes.index.isin(live_user_recipes['recipe_id']),:],axis=0)\n",
    "    dotp = np.sum(tech_mat * user_techniq,axis=1) # Numerator of cosine similarity\n",
    "    denom = np.linalg.norm(tech_mat,axis=1) * np.linalg.norm(user_techniq) # Denominator of cosine similarity\n",
    "    a = np.divide(dotp,denom,out=np.zeros_like(denom), where=denom!=0) # Cosine similarity, places where denom is zero are set to zero\n",
    "    techniq_sim = pd.DataFrame(a,index=recipes.index,columns=['technique_sim']).reset_index()\n",
    "    tech_rank=techniq_sim.sort_values(by='technique_sim',ascending=False)\n",
    "    \n",
    "    #Get top 10 frequently used techniques by the user\n",
    "    user_pref=pd.merge(live_user_recipes,recipes,how=\"inner\",on='recipe_id')\n",
    "    \n",
    "    u_tech=user_pref['techniques'][1:]\n",
    "    dd=user_pref['techniques'][0]\n",
    "    for d in u_tech: \n",
    "        for key, value in d.items():\n",
    "            dd[key] += value\n",
    "    dd=sorted(dd.items(), key=lambda kv: kv[1],reverse=True)\n",
    "    u=[x[0] for x in dd[0:10]]\n",
    "    \n",
    "    #Get top 10 frequently appeared techniques from the top 20 recipes ranked based on calculated similarity score\n",
    "    high_rank=tech_rank[0:20]\n",
    "    high_tech=pd.merge(high_rank,recipes,how=\"inner\",on='recipe_id')\n",
    "    h_tech=high_tech['techniques'][1:]\n",
    "    dd_high=high_tech['techniques'][0]\n",
    "    for d in h_tech: \n",
    "        for key, value in d.items():\n",
    "            dd_high[key] += value\n",
    "    dd_high=sorted(dd_high.items(), key=lambda kv: kv[1],reverse=True)\n",
    "    h=[x[0] for x in dd_high[0:10]]\n",
    "    \n",
    "    #Get top 10 frequently appeared techniques from the bottom 20 recipes ranked based on calculated similarity score\n",
    "    low_rank=tech_rank[-21:-1]\n",
    "    low_tech=pd.merge(low_rank,recipes,how=\"inner\",on='recipe_id')\n",
    "    l_tech=low_tech['techniques'][1:]\n",
    "    dd_low=low_tech['techniques'][0]\n",
    "    for d in l_tech: \n",
    "        for key, value in d.items():\n",
    "            dd_low[key] += value\n",
    "    dd_low=sorted(dd_low.items(), key=lambda kv: kv[1],reverse=True)\n",
    "    l=[x[0] for x in dd_low[0:10]]\n",
    "    \n",
    "    #Check how many of the top 10 frequently appeared techniques from the top 20 recipes ranked based on calculated similarity score also appear in the top 10 frequently used techniques by the user\n",
    "    y=0\n",
    "    for i in h:\n",
    "        if i in u:\n",
    "            y+=1\n",
    "    \n",
    "    #Check how many of the top 10 frequently appeared techniques from the bottowm 20 recipes ranked based on calculated similarity score also appear in the top 10 frequently used techniques by the user\n",
    "    y_l=0\n",
    "    for i in l:\n",
    "        if i in u:\n",
    "            y_l+=1\n",
    "    \n",
    "    yes.append(y)\n",
    "    yes_low.append(y_l)\n",
    "    "
   ]
  },
  {
   "cell_type": "code",
   "execution_count": 200,
   "metadata": {},
   "outputs": [
    {
     "data": {
      "text/plain": [
       "Counter({10: 161, 9: 28, 0: 1, 6: 1, 1: 2})"
      ]
     },
     "execution_count": 200,
     "metadata": {},
     "output_type": "execute_result"
    }
   ],
   "source": [
    "import collections\n",
    "\n",
    "\n",
    "collections.Counter(yes)"
   ]
  },
  {
   "cell_type": "code",
   "execution_count": 201,
   "metadata": {},
   "outputs": [
    {
     "data": {
      "text/plain": [
       "Counter({2: 2, 3: 6, 1: 8, 0: 174, 10: 1, 9: 2})"
      ]
     },
     "execution_count": 201,
     "metadata": {},
     "output_type": "execute_result"
    }
   ],
   "source": [
    "collections.Counter(yes_low)"
   ]
  },
  {
   "cell_type": "markdown",
   "metadata": {},
   "source": [
    "189 out of 193 users have over 90% of the top 10 frequently appeared techniques from the top 20 recipes ranked based on calculated similarity score that also appear in the top 10 frequently used techniques by the user;"
   ]
  },
  {
   "cell_type": "markdown",
   "metadata": {},
   "source": [
    "174 out of 193 users have 0% of the top 10 frequently appeared techniques from the bottom 20 recipes ranked based on calculated similarity score that also appear in the top 10 frequently used techniques by the user;"
   ]
  },
  {
   "cell_type": "code",
   "execution_count": null,
   "metadata": {},
   "outputs": [],
   "source": []
  }
 ],
 "metadata": {
  "kernelspec": {
   "display_name": "Python 3",
   "language": "python",
   "name": "python3"
  },
  "language_info": {
   "codemirror_mode": {
    "name": "ipython",
    "version": 3
   },
   "file_extension": ".py",
   "mimetype": "text/x-python",
   "name": "python",
   "nbconvert_exporter": "python",
   "pygments_lexer": "ipython3",
   "version": "3.6.13"
  }
 },
 "nbformat": 4,
 "nbformat_minor": 4
}
