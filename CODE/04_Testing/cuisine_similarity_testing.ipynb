{
 "cells": [
  {
   "cell_type": "code",
   "execution_count": 1,
   "metadata": {},
   "outputs": [],
   "source": [
    "import pandas as pd\n",
    "import gensim\n",
    "from gensim.models import Word2Vec\n",
    "import re\n",
    "import numpy as np\n",
    "import statistics\n",
    "import math"
   ]
  },
  {
   "cell_type": "code",
   "execution_count": 2,
   "metadata": {},
   "outputs": [],
   "source": [
    "recipes_in = pd.read_parquet('../01_DataCleansing/recipes_in.parquet')\n",
    "users_in = pd.read_csv('../01_DataCleansing/users_in.csv')"
   ]
  },
  {
   "cell_type": "markdown",
   "metadata": {},
   "source": [
    "### Only Keep Recipes that Have Values in Cuisine Column in This Test"
   ]
  },
  {
   "cell_type": "code",
   "execution_count": 49,
   "metadata": {},
   "outputs": [],
   "source": [
    "recipes=recipes_in[recipes_in['cuisine']!=\"NO CUISINE\"]"
   ]
  },
  {
   "cell_type": "markdown",
   "metadata": {},
   "source": [
    "### Set Test Users As Those Who Rate At Least 500 Recipes as Non Zero"
   ]
  },
  {
   "cell_type": "code",
   "execution_count": 50,
   "metadata": {},
   "outputs": [
    {
     "data": {
      "text/plain": [
       "24961"
      ]
     },
     "execution_count": 50,
     "metadata": {},
     "output_type": "execute_result"
    }
   ],
   "source": [
    "users_in_exclude0=users_in.copy()\n",
    "users_in_exclude0=users_in_exclude0[users_in_exclude0['ratings']!=0]\n",
    "users=list(set(users_in_exclude0['user_id']))\n",
    "len(users)\n"
   ]
  },
  {
   "cell_type": "code",
   "execution_count": 51,
   "metadata": {},
   "outputs": [
    {
     "data": {
      "text/plain": [
       "193"
      ]
     },
     "execution_count": 51,
     "metadata": {},
     "output_type": "execute_result"
    }
   ],
   "source": [
    "user_recipe_count=users_in_exclude0.groupby(['user_id']).count()\n",
    "test_users=user_recipe_count[user_recipe_count['recipe_id']>=500].reset_index()\n",
    "test_users=list(test_users['user_id'])\n",
    "len(test_users)"
   ]
  },
  {
   "cell_type": "code",
   "execution_count": 52,
   "metadata": {},
   "outputs": [],
   "source": [
    "yes=0\n",
    "yes_low=0\n",
    "for u in test_users:\n",
    "    input_user_id=u\n",
    "    idx = np.where((users_in['user_id']==input_user_id) & (users_in['ratings']>=4))\n",
    "    live_user_recipes=users_in.copy()\n",
    "    live_user_recipes=live_user_recipes.loc[idx][['user_id','recipe_id']]\n",
    "    \n",
    "    #Calculate similarity scores for all recipes given this user's recipe preferences\n",
    "    cuisines = recipes['cuisine'].unique() # All unique cuisines\n",
    "    user_cuisines = pd.DataFrame(live_user_recipes.merge(recipes,on='recipe_id')['cuisine'].value_counts()) # Value counts of cuisines for recipes user has rated\n",
    "    user_pref=user_cuisines.copy()\n",
    "    all_cuisines = pd.DataFrame(cuisines).set_index(0) # Creates dataframe with zero counts for all cuisines\n",
    "    all_cuisines['cuisine'] = 0\n",
    "    user_cuisines = pd.concat([user_cuisines,all_cuisines]) # Combines user cuisine counts and zero count dataframe\n",
    "    user_cuisines = user_cuisines[~user_cuisines.index.duplicated(keep='first')] # Remove duplicate (zero) cuisines\n",
    "    user_cuisines = (user_cuisines-user_cuisines.min())/(user_cuisines.max()-user_cuisines.min()) # Scale between 0 and 1\n",
    "    cuisine_sim = ( # Merges cuisine similarity score with all recipes\n",
    "           recipes\n",
    "           .reset_index()\n",
    "           .merge(user_cuisines,left_on='cuisine',right_on=user_cuisines.index)\n",
    "           .set_index('recipe_id')[['cuisine_y']]\n",
    "           .rename(columns={'cuisine_y':'cuisine_sim'})\n",
    "       )\n",
    "    cuisine_sim=cuisine_sim.reset_index()\n",
    "    cuisine_rank=cuisine_sim.sort_values(by='cuisine_sim',ascending=False)\n",
    "    #Get top 1 cuisine from user's top-rated recipes\n",
    "    user_pref=user_pref.reset_index()\n",
    "    user_pref=user_pref.rename(columns={\"index\": \"Cuisine\", \"cuisine\": \"Count\"})\n",
    "    user_pref=user_pref.sort_values(by='Count',ascending=False)\n",
    "    \n",
    "    #Get top 1 cuisine from top 20 recipes from the similarity ranking\n",
    "    high_rank=cuisine_rank[0:20]\n",
    "    high_rank=pd.merge(high_rank,recipes,how=\"inner\",on='recipe_id')\n",
    "    import collections\n",
    "    high=dict(collections.Counter(high_rank['cuisine']))\n",
    "    high=sorted(high.items(), key=lambda kv: kv[1],reverse=True)\n",
    "    \n",
    "    #If top 1 cuisine from user's top-rated recipes equals top 1 cuisine from top 20 recipes from the similarity ranking, add 1 to \"yes\"\n",
    "    if user_pref.iloc[0]['Cuisine']==high[0][0]:\n",
    "        yes+=1\n",
    "    \n",
    "    #Get top 1 cuisine from bottom 20 recipes from the similarity ranking    \n",
    "    low_rank=cuisine_rank[-21:-1]\n",
    "    low_rank=pd.merge(low_rank,recipes,how=\"inner\",on='recipe_id')\n",
    "    low=dict(collections.Counter(low_rank['cuisine']))\n",
    "    low=sorted(low.items(), key=lambda kv: kv[1],reverse=True)\n",
    "    \n",
    "    #If top 1 cuisine from user's top-rated recipes equals top 1 cuisine from bottom 20 recipes from the similarity ranking, add 1 to \"yes_low\"\n",
    "    if user_pref.iloc[0]['Cuisine']==low[0][0]:\n",
    "        yes_low+=1\n",
    "    "
   ]
  },
  {
   "cell_type": "code",
   "execution_count": 53,
   "metadata": {},
   "outputs": [
    {
     "data": {
      "text/plain": [
       "193"
      ]
     },
     "execution_count": 53,
     "metadata": {},
     "output_type": "execute_result"
    }
   ],
   "source": [
    "yes"
   ]
  },
  {
   "cell_type": "code",
   "execution_count": 54,
   "metadata": {},
   "outputs": [
    {
     "data": {
      "text/plain": [
       "0"
      ]
     },
     "execution_count": 54,
     "metadata": {},
     "output_type": "execute_result"
    }
   ],
   "source": [
    "yes_low"
   ]
  },
  {
   "cell_type": "markdown",
   "metadata": {},
   "source": [
    "193 out of the 193 test users have top 1 cuisine from user's top-rated recipes equals top 1 cuisine from top 20 recipes from the similarity ranking;\n",
    "\n",
    "0 out of out of the 193 test users have top 1 cuisine from user's top-rated recipes equals top 1 cuisine from bottom 20 recipes from the similarity ranking"
   ]
  }
 ],
 "metadata": {
  "kernelspec": {
   "display_name": "CSE 6242 Project Final",
   "language": "python",
   "name": "cse6242-project-final"
  },
  "language_info": {
   "codemirror_mode": {
    "name": "ipython",
    "version": 3
   },
   "file_extension": ".py",
   "mimetype": "text/x-python",
   "name": "python",
   "nbconvert_exporter": "python",
   "pygments_lexer": "ipython3",
   "version": "3.9.12"
  }
 },
 "nbformat": 4,
 "nbformat_minor": 4
}
